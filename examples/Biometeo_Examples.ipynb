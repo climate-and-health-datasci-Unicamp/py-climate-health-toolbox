{
  "nbformat": 4,
  "nbformat_minor": 0,
  "metadata": {
    "colab": {
      "name": "Biometeo Examples.ipynb",
      "provenance": [],
      "toc_visible": true,
      "authorship_tag": "ABX9TyOrSlcVf+GPxTa/tCqhVGqE",
      "include_colab_link": true
    },
    "kernelspec": {
      "name": "python3",
      "display_name": "Python 3"
    }
  },
  "cells": [
    {
      "cell_type": "markdown",
      "metadata": {
        "id": "view-in-github",
        "colab_type": "text"
      },
      "source": [
        "<a href=\"https://colab.research.google.com/github/climate-and-health-datasci-Unicamp/py-climate-health-toolbox/blob/master/examples/Biometeo_Examples.ipynb\" target=\"_parent\"><img src=\"https://colab.research.google.com/assets/colab-badge.svg\" alt=\"Open In Colab\"/></a>"
      ]
    },
    {
      "cell_type": "markdown",
      "metadata": {
        "id": "HRFNtp3wBXT8"
      },
      "source": [
        "# **Examples of Biometeo Library Application**"
      ]
    },
    {
      "cell_type": "markdown",
      "metadata": {
        "id": "EOS6B-IsBexa"
      },
      "source": [
        "## **Importing Biometeo.py**"
      ]
    },
    {
      "cell_type": "code",
      "metadata": {
        "colab": {
          "base_uri": "https://localhost:8080/"
        },
        "id": "6iOWKVS_B1C4",
        "outputId": "349d0428-a68a-4bcf-f900-f978bda375ce"
      },
      "source": [
        "! git clone https://github.com/climate-and-health-datasci-Unicamp/py-climate-health-toolbox"
      ],
      "execution_count": null,
      "outputs": [
        {
          "output_type": "stream",
          "text": [
            "Cloning into 'py-climate-health-toolbox'...\n",
            "remote: Enumerating objects: 114, done.\u001b[K\n",
            "remote: Counting objects: 100% (114/114), done.\u001b[K\n",
            "remote: Compressing objects: 100% (110/110), done.\u001b[K\n",
            "remote: Total 114 (delta 51), reused 4 (delta 0), pack-reused 0\u001b[K\n",
            "Receiving objects: 100% (114/114), 5.37 MiB | 8.25 MiB/s, done.\n",
            "Resolving deltas: 100% (51/51), done.\n"
          ],
          "name": "stdout"
        }
      ]
    },
    {
      "cell_type": "code",
      "metadata": {
        "colab": {
          "base_uri": "https://localhost:8080/"
        },
        "id": "Ysepgb4u8gKb",
        "outputId": "1ac765cf-62a0-423b-8905-3552c8167133"
      },
      "source": [
        "from google.colab import drive\n",
        "drive.mount('/content/drive')\n",
        "\n",
        "import sys\n",
        "sys.path.append('/content/py-climate-health-toolbox/climahe')\n",
        "\n",
        "import biometeo as bm\n",
        "import pandas as pd"
      ],
      "execution_count": null,
      "outputs": [
        {
          "output_type": "stream",
          "text": [
            "Drive already mounted at /content/drive; to attempt to forcibly remount, call drive.mount(\"/content/drive\", force_remount=True).\n"
          ],
          "name": "stdout"
        }
      ]
    },
    {
      "cell_type": "markdown",
      "metadata": {
        "id": "b_U6jWVnCB7r"
      },
      "source": [
        "## **DataFrame Example**\n",
        "\n",
        "In this example notebook, we are going to use examples of dataframes with all the variables needed for each index. The chosen values aren't real and are only used for the learning purpose."
      ]
    },
    {
      "cell_type": "markdown",
      "metadata": {
        "id": "68CgtXuCDQSD"
      },
      "source": [
        "## **Temperature Convertions**"
      ]
    },
    {
      "cell_type": "code",
      "metadata": {
        "colab": {
          "base_uri": "https://localhost:8080/",
          "height": 325
        },
        "id": "QwD5IVU-DPyu",
        "outputId": "2b5fb9c8-f9f7-4fef-ad75-fcaf355e127b"
      },
      "source": [
        "# Creating a generic dataframe with temperature\n",
        "data = {'T(°C)': [-21, -17, -9.5, -2, 0, 8, 13.1, 27, 38]}\n",
        "\n",
        "# Converting data into a dataframe\n",
        "df_temp_convertion = pd.DataFrame(data)\n",
        "df_temp_convertion"
      ],
      "execution_count": null,
      "outputs": [
        {
          "output_type": "execute_result",
          "data": {
            "text/html": [
              "<div>\n",
              "<style scoped>\n",
              "    .dataframe tbody tr th:only-of-type {\n",
              "        vertical-align: middle;\n",
              "    }\n",
              "\n",
              "    .dataframe tbody tr th {\n",
              "        vertical-align: top;\n",
              "    }\n",
              "\n",
              "    .dataframe thead th {\n",
              "        text-align: right;\n",
              "    }\n",
              "</style>\n",
              "<table border=\"1\" class=\"dataframe\">\n",
              "  <thead>\n",
              "    <tr style=\"text-align: right;\">\n",
              "      <th></th>\n",
              "      <th>T(°C)</th>\n",
              "    </tr>\n",
              "  </thead>\n",
              "  <tbody>\n",
              "    <tr>\n",
              "      <th>0</th>\n",
              "      <td>-21.0</td>\n",
              "    </tr>\n",
              "    <tr>\n",
              "      <th>1</th>\n",
              "      <td>-17.0</td>\n",
              "    </tr>\n",
              "    <tr>\n",
              "      <th>2</th>\n",
              "      <td>-9.5</td>\n",
              "    </tr>\n",
              "    <tr>\n",
              "      <th>3</th>\n",
              "      <td>-2.0</td>\n",
              "    </tr>\n",
              "    <tr>\n",
              "      <th>4</th>\n",
              "      <td>0.0</td>\n",
              "    </tr>\n",
              "    <tr>\n",
              "      <th>5</th>\n",
              "      <td>8.0</td>\n",
              "    </tr>\n",
              "    <tr>\n",
              "      <th>6</th>\n",
              "      <td>13.1</td>\n",
              "    </tr>\n",
              "    <tr>\n",
              "      <th>7</th>\n",
              "      <td>27.0</td>\n",
              "    </tr>\n",
              "    <tr>\n",
              "      <th>8</th>\n",
              "      <td>38.0</td>\n",
              "    </tr>\n",
              "  </tbody>\n",
              "</table>\n",
              "</div>"
            ],
            "text/plain": [
              "   T(°C)\n",
              "0  -21.0\n",
              "1  -17.0\n",
              "2   -9.5\n",
              "3   -2.0\n",
              "4    0.0\n",
              "5    8.0\n",
              "6   13.1\n",
              "7   27.0\n",
              "8   38.0"
            ]
          },
          "metadata": {
            "tags": []
          },
          "execution_count": 3
        }
      ]
    },
    {
      "cell_type": "markdown",
      "metadata": {
        "id": "wl22LFMME9SK"
      },
      "source": [
        "Converting degrees celsius into degrees farenheit and kelvin"
      ]
    },
    {
      "cell_type": "code",
      "metadata": {
        "colab": {
          "base_uri": "https://localhost:8080/",
          "height": 325
        },
        "id": "dsxZ7jZ1FGNw",
        "outputId": "5ca7124c-64dd-48ed-f71c-63e095e10103"
      },
      "source": [
        "# Creating columns for degrees farenheit and kelvin applying the convertion formula\n",
        "df_temp_convertion['T(°F)'] = bm.celsius_to_farenheit(df_temp_convertion['T(°C)'])\n",
        "df_temp_convertion['T(K)'] = bm.celsius_to_kelvin(df_temp_convertion['T(°C)'])\n",
        "df_temp_convertion"
      ],
      "execution_count": null,
      "outputs": [
        {
          "output_type": "execute_result",
          "data": {
            "text/html": [
              "<div>\n",
              "<style scoped>\n",
              "    .dataframe tbody tr th:only-of-type {\n",
              "        vertical-align: middle;\n",
              "    }\n",
              "\n",
              "    .dataframe tbody tr th {\n",
              "        vertical-align: top;\n",
              "    }\n",
              "\n",
              "    .dataframe thead th {\n",
              "        text-align: right;\n",
              "    }\n",
              "</style>\n",
              "<table border=\"1\" class=\"dataframe\">\n",
              "  <thead>\n",
              "    <tr style=\"text-align: right;\">\n",
              "      <th></th>\n",
              "      <th>T(°C)</th>\n",
              "      <th>T(°F)</th>\n",
              "      <th>T(K)</th>\n",
              "    </tr>\n",
              "  </thead>\n",
              "  <tbody>\n",
              "    <tr>\n",
              "      <th>0</th>\n",
              "      <td>-21.0</td>\n",
              "      <td>-5.80</td>\n",
              "      <td>252.15</td>\n",
              "    </tr>\n",
              "    <tr>\n",
              "      <th>1</th>\n",
              "      <td>-17.0</td>\n",
              "      <td>1.40</td>\n",
              "      <td>256.15</td>\n",
              "    </tr>\n",
              "    <tr>\n",
              "      <th>2</th>\n",
              "      <td>-9.5</td>\n",
              "      <td>14.90</td>\n",
              "      <td>263.65</td>\n",
              "    </tr>\n",
              "    <tr>\n",
              "      <th>3</th>\n",
              "      <td>-2.0</td>\n",
              "      <td>28.40</td>\n",
              "      <td>271.15</td>\n",
              "    </tr>\n",
              "    <tr>\n",
              "      <th>4</th>\n",
              "      <td>0.0</td>\n",
              "      <td>32.00</td>\n",
              "      <td>273.15</td>\n",
              "    </tr>\n",
              "    <tr>\n",
              "      <th>5</th>\n",
              "      <td>8.0</td>\n",
              "      <td>46.40</td>\n",
              "      <td>281.15</td>\n",
              "    </tr>\n",
              "    <tr>\n",
              "      <th>6</th>\n",
              "      <td>13.1</td>\n",
              "      <td>55.58</td>\n",
              "      <td>286.25</td>\n",
              "    </tr>\n",
              "    <tr>\n",
              "      <th>7</th>\n",
              "      <td>27.0</td>\n",
              "      <td>80.60</td>\n",
              "      <td>300.15</td>\n",
              "    </tr>\n",
              "    <tr>\n",
              "      <th>8</th>\n",
              "      <td>38.0</td>\n",
              "      <td>100.40</td>\n",
              "      <td>311.15</td>\n",
              "    </tr>\n",
              "  </tbody>\n",
              "</table>\n",
              "</div>"
            ],
            "text/plain": [
              "   T(°C)   T(°F)    T(K)\n",
              "0  -21.0   -5.80  252.15\n",
              "1  -17.0    1.40  256.15\n",
              "2   -9.5   14.90  263.65\n",
              "3   -2.0   28.40  271.15\n",
              "4    0.0   32.00  273.15\n",
              "5    8.0   46.40  281.15\n",
              "6   13.1   55.58  286.25\n",
              "7   27.0   80.60  300.15\n",
              "8   38.0  100.40  311.15"
            ]
          },
          "metadata": {
            "tags": []
          },
          "execution_count": 4
        }
      ]
    },
    {
      "cell_type": "markdown",
      "metadata": {
        "id": "kvWaQb95FwW4"
      },
      "source": [
        "Converting kelvin into degrees celsius and degrees farenheit"
      ]
    },
    {
      "cell_type": "code",
      "metadata": {
        "colab": {
          "base_uri": "https://localhost:8080/",
          "height": 325
        },
        "id": "UIaUc-luI4rl",
        "outputId": "aa200559-d35a-4f90-9f05-a6124cb7d144"
      },
      "source": [
        "# Dropping both celcius and farenheit columns\n",
        "df_temp_convertion = df_temp_convertion.drop(columns = ['T(°C)','T(°F)'])\n",
        "df_temp_convertion"
      ],
      "execution_count": null,
      "outputs": [
        {
          "output_type": "execute_result",
          "data": {
            "text/html": [
              "<div>\n",
              "<style scoped>\n",
              "    .dataframe tbody tr th:only-of-type {\n",
              "        vertical-align: middle;\n",
              "    }\n",
              "\n",
              "    .dataframe tbody tr th {\n",
              "        vertical-align: top;\n",
              "    }\n",
              "\n",
              "    .dataframe thead th {\n",
              "        text-align: right;\n",
              "    }\n",
              "</style>\n",
              "<table border=\"1\" class=\"dataframe\">\n",
              "  <thead>\n",
              "    <tr style=\"text-align: right;\">\n",
              "      <th></th>\n",
              "      <th>T(K)</th>\n",
              "    </tr>\n",
              "  </thead>\n",
              "  <tbody>\n",
              "    <tr>\n",
              "      <th>0</th>\n",
              "      <td>252.15</td>\n",
              "    </tr>\n",
              "    <tr>\n",
              "      <th>1</th>\n",
              "      <td>256.15</td>\n",
              "    </tr>\n",
              "    <tr>\n",
              "      <th>2</th>\n",
              "      <td>263.65</td>\n",
              "    </tr>\n",
              "    <tr>\n",
              "      <th>3</th>\n",
              "      <td>271.15</td>\n",
              "    </tr>\n",
              "    <tr>\n",
              "      <th>4</th>\n",
              "      <td>273.15</td>\n",
              "    </tr>\n",
              "    <tr>\n",
              "      <th>5</th>\n",
              "      <td>281.15</td>\n",
              "    </tr>\n",
              "    <tr>\n",
              "      <th>6</th>\n",
              "      <td>286.25</td>\n",
              "    </tr>\n",
              "    <tr>\n",
              "      <th>7</th>\n",
              "      <td>300.15</td>\n",
              "    </tr>\n",
              "    <tr>\n",
              "      <th>8</th>\n",
              "      <td>311.15</td>\n",
              "    </tr>\n",
              "  </tbody>\n",
              "</table>\n",
              "</div>"
            ],
            "text/plain": [
              "     T(K)\n",
              "0  252.15\n",
              "1  256.15\n",
              "2  263.65\n",
              "3  271.15\n",
              "4  273.15\n",
              "5  281.15\n",
              "6  286.25\n",
              "7  300.15\n",
              "8  311.15"
            ]
          },
          "metadata": {
            "tags": []
          },
          "execution_count": 5
        }
      ]
    },
    {
      "cell_type": "code",
      "metadata": {
        "colab": {
          "base_uri": "https://localhost:8080/",
          "height": 325
        },
        "id": "JtY3dXvqF3J6",
        "outputId": "9cf4e797-f66f-4547-a46d-a1af7ecbc833"
      },
      "source": [
        "# Recreating the columns but applying the convertion formula\n",
        "df_temp_convertion['T(°C)'] = bm.kelvin_to_celsius(df_temp_convertion['T(K)'])\n",
        "df_temp_convertion['T(°F)'] = bm.kelvin_to_farenheit(df_temp_convertion['T(K)'])\n",
        "df_temp_convertion"
      ],
      "execution_count": null,
      "outputs": [
        {
          "output_type": "execute_result",
          "data": {
            "text/html": [
              "<div>\n",
              "<style scoped>\n",
              "    .dataframe tbody tr th:only-of-type {\n",
              "        vertical-align: middle;\n",
              "    }\n",
              "\n",
              "    .dataframe tbody tr th {\n",
              "        vertical-align: top;\n",
              "    }\n",
              "\n",
              "    .dataframe thead th {\n",
              "        text-align: right;\n",
              "    }\n",
              "</style>\n",
              "<table border=\"1\" class=\"dataframe\">\n",
              "  <thead>\n",
              "    <tr style=\"text-align: right;\">\n",
              "      <th></th>\n",
              "      <th>T(K)</th>\n",
              "      <th>T(°C)</th>\n",
              "      <th>T(°F)</th>\n",
              "    </tr>\n",
              "  </thead>\n",
              "  <tbody>\n",
              "    <tr>\n",
              "      <th>0</th>\n",
              "      <td>252.15</td>\n",
              "      <td>-21.0</td>\n",
              "      <td>-5.80</td>\n",
              "    </tr>\n",
              "    <tr>\n",
              "      <th>1</th>\n",
              "      <td>256.15</td>\n",
              "      <td>-17.0</td>\n",
              "      <td>1.40</td>\n",
              "    </tr>\n",
              "    <tr>\n",
              "      <th>2</th>\n",
              "      <td>263.65</td>\n",
              "      <td>-9.5</td>\n",
              "      <td>14.90</td>\n",
              "    </tr>\n",
              "    <tr>\n",
              "      <th>3</th>\n",
              "      <td>271.15</td>\n",
              "      <td>-2.0</td>\n",
              "      <td>28.40</td>\n",
              "    </tr>\n",
              "    <tr>\n",
              "      <th>4</th>\n",
              "      <td>273.15</td>\n",
              "      <td>0.0</td>\n",
              "      <td>32.00</td>\n",
              "    </tr>\n",
              "    <tr>\n",
              "      <th>5</th>\n",
              "      <td>281.15</td>\n",
              "      <td>8.0</td>\n",
              "      <td>46.40</td>\n",
              "    </tr>\n",
              "    <tr>\n",
              "      <th>6</th>\n",
              "      <td>286.25</td>\n",
              "      <td>13.1</td>\n",
              "      <td>55.58</td>\n",
              "    </tr>\n",
              "    <tr>\n",
              "      <th>7</th>\n",
              "      <td>300.15</td>\n",
              "      <td>27.0</td>\n",
              "      <td>80.60</td>\n",
              "    </tr>\n",
              "    <tr>\n",
              "      <th>8</th>\n",
              "      <td>311.15</td>\n",
              "      <td>38.0</td>\n",
              "      <td>100.40</td>\n",
              "    </tr>\n",
              "  </tbody>\n",
              "</table>\n",
              "</div>"
            ],
            "text/plain": [
              "     T(K)  T(°C)   T(°F)\n",
              "0  252.15  -21.0   -5.80\n",
              "1  256.15  -17.0    1.40\n",
              "2  263.65   -9.5   14.90\n",
              "3  271.15   -2.0   28.40\n",
              "4  273.15    0.0   32.00\n",
              "5  281.15    8.0   46.40\n",
              "6  286.25   13.1   55.58\n",
              "7  300.15   27.0   80.60\n",
              "8  311.15   38.0  100.40"
            ]
          },
          "metadata": {
            "tags": []
          },
          "execution_count": 6
        }
      ]
    },
    {
      "cell_type": "markdown",
      "metadata": {
        "id": "Ikc-Q04qGm5I"
      },
      "source": [
        "Converting degrees farenheit into degrees celsius and kelvin"
      ]
    },
    {
      "cell_type": "code",
      "metadata": {
        "colab": {
          "base_uri": "https://localhost:8080/",
          "height": 325
        },
        "id": "y8MlLvR7I8SJ",
        "outputId": "33b3f471-172e-45c0-ba59-d6edff970409"
      },
      "source": [
        "# Dropping both celcius and farenheit columns\n",
        "df_temp_convertion = df_temp_convertion.drop(columns = ['T(°C)','T(K)'])\n",
        "df_temp_convertion"
      ],
      "execution_count": null,
      "outputs": [
        {
          "output_type": "execute_result",
          "data": {
            "text/html": [
              "<div>\n",
              "<style scoped>\n",
              "    .dataframe tbody tr th:only-of-type {\n",
              "        vertical-align: middle;\n",
              "    }\n",
              "\n",
              "    .dataframe tbody tr th {\n",
              "        vertical-align: top;\n",
              "    }\n",
              "\n",
              "    .dataframe thead th {\n",
              "        text-align: right;\n",
              "    }\n",
              "</style>\n",
              "<table border=\"1\" class=\"dataframe\">\n",
              "  <thead>\n",
              "    <tr style=\"text-align: right;\">\n",
              "      <th></th>\n",
              "      <th>T(°F)</th>\n",
              "    </tr>\n",
              "  </thead>\n",
              "  <tbody>\n",
              "    <tr>\n",
              "      <th>0</th>\n",
              "      <td>-5.80</td>\n",
              "    </tr>\n",
              "    <tr>\n",
              "      <th>1</th>\n",
              "      <td>1.40</td>\n",
              "    </tr>\n",
              "    <tr>\n",
              "      <th>2</th>\n",
              "      <td>14.90</td>\n",
              "    </tr>\n",
              "    <tr>\n",
              "      <th>3</th>\n",
              "      <td>28.40</td>\n",
              "    </tr>\n",
              "    <tr>\n",
              "      <th>4</th>\n",
              "      <td>32.00</td>\n",
              "    </tr>\n",
              "    <tr>\n",
              "      <th>5</th>\n",
              "      <td>46.40</td>\n",
              "    </tr>\n",
              "    <tr>\n",
              "      <th>6</th>\n",
              "      <td>55.58</td>\n",
              "    </tr>\n",
              "    <tr>\n",
              "      <th>7</th>\n",
              "      <td>80.60</td>\n",
              "    </tr>\n",
              "    <tr>\n",
              "      <th>8</th>\n",
              "      <td>100.40</td>\n",
              "    </tr>\n",
              "  </tbody>\n",
              "</table>\n",
              "</div>"
            ],
            "text/plain": [
              "    T(°F)\n",
              "0   -5.80\n",
              "1    1.40\n",
              "2   14.90\n",
              "3   28.40\n",
              "4   32.00\n",
              "5   46.40\n",
              "6   55.58\n",
              "7   80.60\n",
              "8  100.40"
            ]
          },
          "metadata": {
            "tags": []
          },
          "execution_count": 7
        }
      ]
    },
    {
      "cell_type": "code",
      "metadata": {
        "colab": {
          "base_uri": "https://localhost:8080/",
          "height": 325
        },
        "id": "1FmqcgThGwbp",
        "outputId": "64a33e22-b512-4649-8829-a0d009e209b4"
      },
      "source": [
        "# Recreating the columns but applying the convertion formula\n",
        "df_temp_convertion['T(°C)'] = bm.farenheit_to_celsius(df_temp_convertion['T(°F)'])\n",
        "df_temp_convertion['T(K)'] = bm.farenheit_to_kelvin(df_temp_convertion['T(°F)'])\n",
        "df_temp_convertion"
      ],
      "execution_count": null,
      "outputs": [
        {
          "output_type": "execute_result",
          "data": {
            "text/html": [
              "<div>\n",
              "<style scoped>\n",
              "    .dataframe tbody tr th:only-of-type {\n",
              "        vertical-align: middle;\n",
              "    }\n",
              "\n",
              "    .dataframe tbody tr th {\n",
              "        vertical-align: top;\n",
              "    }\n",
              "\n",
              "    .dataframe thead th {\n",
              "        text-align: right;\n",
              "    }\n",
              "</style>\n",
              "<table border=\"1\" class=\"dataframe\">\n",
              "  <thead>\n",
              "    <tr style=\"text-align: right;\">\n",
              "      <th></th>\n",
              "      <th>T(°F)</th>\n",
              "      <th>T(°C)</th>\n",
              "      <th>T(K)</th>\n",
              "    </tr>\n",
              "  </thead>\n",
              "  <tbody>\n",
              "    <tr>\n",
              "      <th>0</th>\n",
              "      <td>-5.80</td>\n",
              "      <td>-21.0</td>\n",
              "      <td>252.15</td>\n",
              "    </tr>\n",
              "    <tr>\n",
              "      <th>1</th>\n",
              "      <td>1.40</td>\n",
              "      <td>-17.0</td>\n",
              "      <td>256.15</td>\n",
              "    </tr>\n",
              "    <tr>\n",
              "      <th>2</th>\n",
              "      <td>14.90</td>\n",
              "      <td>-9.5</td>\n",
              "      <td>263.65</td>\n",
              "    </tr>\n",
              "    <tr>\n",
              "      <th>3</th>\n",
              "      <td>28.40</td>\n",
              "      <td>-2.0</td>\n",
              "      <td>271.15</td>\n",
              "    </tr>\n",
              "    <tr>\n",
              "      <th>4</th>\n",
              "      <td>32.00</td>\n",
              "      <td>0.0</td>\n",
              "      <td>273.15</td>\n",
              "    </tr>\n",
              "    <tr>\n",
              "      <th>5</th>\n",
              "      <td>46.40</td>\n",
              "      <td>8.0</td>\n",
              "      <td>281.15</td>\n",
              "    </tr>\n",
              "    <tr>\n",
              "      <th>6</th>\n",
              "      <td>55.58</td>\n",
              "      <td>13.1</td>\n",
              "      <td>286.25</td>\n",
              "    </tr>\n",
              "    <tr>\n",
              "      <th>7</th>\n",
              "      <td>80.60</td>\n",
              "      <td>27.0</td>\n",
              "      <td>300.15</td>\n",
              "    </tr>\n",
              "    <tr>\n",
              "      <th>8</th>\n",
              "      <td>100.40</td>\n",
              "      <td>38.0</td>\n",
              "      <td>311.15</td>\n",
              "    </tr>\n",
              "  </tbody>\n",
              "</table>\n",
              "</div>"
            ],
            "text/plain": [
              "    T(°F)  T(°C)    T(K)\n",
              "0   -5.80  -21.0  252.15\n",
              "1    1.40  -17.0  256.15\n",
              "2   14.90   -9.5  263.65\n",
              "3   28.40   -2.0  271.15\n",
              "4   32.00    0.0  273.15\n",
              "5   46.40    8.0  281.15\n",
              "6   55.58   13.1  286.25\n",
              "7   80.60   27.0  300.15\n",
              "8  100.40   38.0  311.15"
            ]
          },
          "metadata": {
            "tags": []
          },
          "execution_count": 8
        }
      ]
    },
    {
      "cell_type": "markdown",
      "metadata": {
        "id": "gpOnuFygJBfb"
      },
      "source": [
        "## **Pressure Calculation**"
      ]
    },
    {
      "cell_type": "code",
      "metadata": {
        "colab": {
          "base_uri": "https://localhost:8080/",
          "height": 325
        },
        "id": "HzpVMilxLOF4",
        "outputId": "791baf15-3fca-441d-b5b0-2f5760b02e0b"
      },
      "source": [
        "# Creating a generic dataframe with temperature and relative humidity\n",
        "data = {'T(°C)': [-21, -17, -9.5, -2, 0, 8, 13.1, 27, 38],\n",
        "        'RH(%)': [5, 7, 15, 30, 95, 38, 46, 32.5, 23.4]}\n",
        "\n",
        "# Converting data into a dataframe\n",
        "df_pressure = pd.DataFrame(data)\n",
        "\n",
        "# Creating a Farenheit column\n",
        "df_pressure['T(°F)'] = bm.celsius_to_farenheit(df_pressure['T(°C)'])\n",
        "df_pressure = df_pressure[['T(°C)', 'T(°F)', 'RH(%)']]\n",
        "df_pressure"
      ],
      "execution_count": null,
      "outputs": [
        {
          "output_type": "execute_result",
          "data": {
            "text/html": [
              "<div>\n",
              "<style scoped>\n",
              "    .dataframe tbody tr th:only-of-type {\n",
              "        vertical-align: middle;\n",
              "    }\n",
              "\n",
              "    .dataframe tbody tr th {\n",
              "        vertical-align: top;\n",
              "    }\n",
              "\n",
              "    .dataframe thead th {\n",
              "        text-align: right;\n",
              "    }\n",
              "</style>\n",
              "<table border=\"1\" class=\"dataframe\">\n",
              "  <thead>\n",
              "    <tr style=\"text-align: right;\">\n",
              "      <th></th>\n",
              "      <th>T(°C)</th>\n",
              "      <th>T(°F)</th>\n",
              "      <th>RH(%)</th>\n",
              "    </tr>\n",
              "  </thead>\n",
              "  <tbody>\n",
              "    <tr>\n",
              "      <th>0</th>\n",
              "      <td>-21.0</td>\n",
              "      <td>-5.80</td>\n",
              "      <td>5.0</td>\n",
              "    </tr>\n",
              "    <tr>\n",
              "      <th>1</th>\n",
              "      <td>-17.0</td>\n",
              "      <td>1.40</td>\n",
              "      <td>7.0</td>\n",
              "    </tr>\n",
              "    <tr>\n",
              "      <th>2</th>\n",
              "      <td>-9.5</td>\n",
              "      <td>14.90</td>\n",
              "      <td>15.0</td>\n",
              "    </tr>\n",
              "    <tr>\n",
              "      <th>3</th>\n",
              "      <td>-2.0</td>\n",
              "      <td>28.40</td>\n",
              "      <td>30.0</td>\n",
              "    </tr>\n",
              "    <tr>\n",
              "      <th>4</th>\n",
              "      <td>0.0</td>\n",
              "      <td>32.00</td>\n",
              "      <td>95.0</td>\n",
              "    </tr>\n",
              "    <tr>\n",
              "      <th>5</th>\n",
              "      <td>8.0</td>\n",
              "      <td>46.40</td>\n",
              "      <td>38.0</td>\n",
              "    </tr>\n",
              "    <tr>\n",
              "      <th>6</th>\n",
              "      <td>13.1</td>\n",
              "      <td>55.58</td>\n",
              "      <td>46.0</td>\n",
              "    </tr>\n",
              "    <tr>\n",
              "      <th>7</th>\n",
              "      <td>27.0</td>\n",
              "      <td>80.60</td>\n",
              "      <td>32.5</td>\n",
              "    </tr>\n",
              "    <tr>\n",
              "      <th>8</th>\n",
              "      <td>38.0</td>\n",
              "      <td>100.40</td>\n",
              "      <td>23.4</td>\n",
              "    </tr>\n",
              "  </tbody>\n",
              "</table>\n",
              "</div>"
            ],
            "text/plain": [
              "   T(°C)   T(°F)  RH(%)\n",
              "0  -21.0   -5.80    5.0\n",
              "1  -17.0    1.40    7.0\n",
              "2   -9.5   14.90   15.0\n",
              "3   -2.0   28.40   30.0\n",
              "4    0.0   32.00   95.0\n",
              "5    8.0   46.40   38.0\n",
              "6   13.1   55.58   46.0\n",
              "7   27.0   80.60   32.5\n",
              "8   38.0  100.40   23.4"
            ]
          },
          "metadata": {
            "tags": []
          },
          "execution_count": 9
        }
      ]
    },
    {
      "cell_type": "markdown",
      "metadata": {
        "id": "IYMgjv9gKS1g"
      },
      "source": [
        "Actual and saturated vapor pressure with temperature in degrees celsius and relative humidity in %"
      ]
    },
    {
      "cell_type": "code",
      "metadata": {
        "colab": {
          "base_uri": "https://localhost:8080/",
          "height": 325
        },
        "id": "_zDGLZmQJaI0",
        "outputId": "363e828a-22cf-4de7-a868-2b485ceebdea"
      },
      "source": [
        "# Creating columns for actual and saturated vapor pressure\n",
        "# Note that, for celsius as the chosen degree, it's not necessary to specify it in the formula (defaut)\n",
        "# Note that, for the saturated vapor pressure, it's only requested the temperature value\n",
        "df_pressure_celsius = df_pressure.drop(columns = ['T(°F)'])\n",
        "df_pressure_celsius['AVP(Pa)'] = bm.act_vap_pressure(df_pressure_celsius['T(°C)'],\n",
        "                                                     df_pressure_celsius['RH(%)'])\n",
        "\n",
        "df_pressure_celsius['SVP(Pa)'] = bm.sat_vap_pressure(df_pressure_celsius['T(°C)'])\n",
        "df_pressure_celsius"
      ],
      "execution_count": null,
      "outputs": [
        {
          "output_type": "execute_result",
          "data": {
            "text/html": [
              "<div>\n",
              "<style scoped>\n",
              "    .dataframe tbody tr th:only-of-type {\n",
              "        vertical-align: middle;\n",
              "    }\n",
              "\n",
              "    .dataframe tbody tr th {\n",
              "        vertical-align: top;\n",
              "    }\n",
              "\n",
              "    .dataframe thead th {\n",
              "        text-align: right;\n",
              "    }\n",
              "</style>\n",
              "<table border=\"1\" class=\"dataframe\">\n",
              "  <thead>\n",
              "    <tr style=\"text-align: right;\">\n",
              "      <th></th>\n",
              "      <th>T(°C)</th>\n",
              "      <th>RH(%)</th>\n",
              "      <th>AVP(Pa)</th>\n",
              "      <th>SVP(Pa)</th>\n",
              "    </tr>\n",
              "  </thead>\n",
              "  <tbody>\n",
              "    <tr>\n",
              "      <th>0</th>\n",
              "      <td>-21.0</td>\n",
              "      <td>5.0</td>\n",
              "      <td>4.687163</td>\n",
              "      <td>93.743254</td>\n",
              "    </tr>\n",
              "    <tr>\n",
              "      <th>1</th>\n",
              "      <td>-17.0</td>\n",
              "      <td>7.0</td>\n",
              "      <td>9.604409</td>\n",
              "      <td>137.205837</td>\n",
              "    </tr>\n",
              "    <tr>\n",
              "      <th>2</th>\n",
              "      <td>-9.5</td>\n",
              "      <td>15.0</td>\n",
              "      <td>40.746228</td>\n",
              "      <td>271.641518</td>\n",
              "    </tr>\n",
              "    <tr>\n",
              "      <th>3</th>\n",
              "      <td>-2.0</td>\n",
              "      <td>30.0</td>\n",
              "      <td>155.336031</td>\n",
              "      <td>517.786770</td>\n",
              "    </tr>\n",
              "    <tr>\n",
              "      <th>4</th>\n",
              "      <td>0.0</td>\n",
              "      <td>95.0</td>\n",
              "      <td>580.726619</td>\n",
              "      <td>611.291178</td>\n",
              "    </tr>\n",
              "    <tr>\n",
              "      <th>5</th>\n",
              "      <td>8.0</td>\n",
              "      <td>38.0</td>\n",
              "      <td>407.735488</td>\n",
              "      <td>1072.988125</td>\n",
              "    </tr>\n",
              "    <tr>\n",
              "      <th>6</th>\n",
              "      <td>13.1</td>\n",
              "      <td>46.0</td>\n",
              "      <td>693.640473</td>\n",
              "      <td>1507.914071</td>\n",
              "    </tr>\n",
              "    <tr>\n",
              "      <th>7</th>\n",
              "      <td>27.0</td>\n",
              "      <td>32.5</td>\n",
              "      <td>1159.645282</td>\n",
              "      <td>3568.139330</td>\n",
              "    </tr>\n",
              "    <tr>\n",
              "      <th>8</th>\n",
              "      <td>38.0</td>\n",
              "      <td>23.4</td>\n",
              "      <td>1552.086196</td>\n",
              "      <td>6632.846990</td>\n",
              "    </tr>\n",
              "  </tbody>\n",
              "</table>\n",
              "</div>"
            ],
            "text/plain": [
              "   T(°C)  RH(%)      AVP(Pa)      SVP(Pa)\n",
              "0  -21.0    5.0     4.687163    93.743254\n",
              "1  -17.0    7.0     9.604409   137.205837\n",
              "2   -9.5   15.0    40.746228   271.641518\n",
              "3   -2.0   30.0   155.336031   517.786770\n",
              "4    0.0   95.0   580.726619   611.291178\n",
              "5    8.0   38.0   407.735488  1072.988125\n",
              "6   13.1   46.0   693.640473  1507.914071\n",
              "7   27.0   32.5  1159.645282  3568.139330\n",
              "8   38.0   23.4  1552.086196  6632.846990"
            ]
          },
          "metadata": {
            "tags": []
          },
          "execution_count": 10
        }
      ]
    },
    {
      "cell_type": "markdown",
      "metadata": {
        "id": "3dteVwYSq5xn"
      },
      "source": [
        "Actual and saturated vapor pressure with temperature in degrees farenheit and relative humidity in %"
      ]
    },
    {
      "cell_type": "code",
      "metadata": {
        "colab": {
          "base_uri": "https://localhost:8080/",
          "height": 325
        },
        "id": "M5AAyeTgq_ba",
        "outputId": "4f735e60-61da-4e5e-a985-30087cff9edf"
      },
      "source": [
        "# Creating a new dataframe with the previus temperature values converted to farenheit\n",
        "df_pressure_farenheit = df_pressure.drop(columns = ['T(°C)'])\n",
        "\n",
        "# Creating the pressure columns\n",
        "# Note that, for farenheit as the chosen degree, you must specify it in the formula\n",
        "df_pressure_farenheit['AVP(Pa)'] = bm.act_vap_pressure(df_pressure_farenheit['T(°F)'],\n",
        "                                                       df_pressure_farenheit['RH(%)'],\n",
        "                                                       degrees = 'farenheit')\n",
        "\n",
        "df_pressure_farenheit['SVP(Pa)'] = bm.sat_vap_pressure(df_pressure_farenheit['T(°F)'],\n",
        "                                                       degrees = 'farenheit')\n",
        "\n",
        "df_pressure_farenheit\n"
      ],
      "execution_count": null,
      "outputs": [
        {
          "output_type": "execute_result",
          "data": {
            "text/html": [
              "<div>\n",
              "<style scoped>\n",
              "    .dataframe tbody tr th:only-of-type {\n",
              "        vertical-align: middle;\n",
              "    }\n",
              "\n",
              "    .dataframe tbody tr th {\n",
              "        vertical-align: top;\n",
              "    }\n",
              "\n",
              "    .dataframe thead th {\n",
              "        text-align: right;\n",
              "    }\n",
              "</style>\n",
              "<table border=\"1\" class=\"dataframe\">\n",
              "  <thead>\n",
              "    <tr style=\"text-align: right;\">\n",
              "      <th></th>\n",
              "      <th>T(°F)</th>\n",
              "      <th>RH(%)</th>\n",
              "      <th>AVP(Pa)</th>\n",
              "      <th>SVP(Pa)</th>\n",
              "    </tr>\n",
              "  </thead>\n",
              "  <tbody>\n",
              "    <tr>\n",
              "      <th>0</th>\n",
              "      <td>-5.80</td>\n",
              "      <td>5.0</td>\n",
              "      <td>4.687163</td>\n",
              "      <td>93.743254</td>\n",
              "    </tr>\n",
              "    <tr>\n",
              "      <th>1</th>\n",
              "      <td>1.40</td>\n",
              "      <td>7.0</td>\n",
              "      <td>9.604409</td>\n",
              "      <td>137.205837</td>\n",
              "    </tr>\n",
              "    <tr>\n",
              "      <th>2</th>\n",
              "      <td>14.90</td>\n",
              "      <td>15.0</td>\n",
              "      <td>40.746228</td>\n",
              "      <td>271.641518</td>\n",
              "    </tr>\n",
              "    <tr>\n",
              "      <th>3</th>\n",
              "      <td>28.40</td>\n",
              "      <td>30.0</td>\n",
              "      <td>155.336031</td>\n",
              "      <td>517.786770</td>\n",
              "    </tr>\n",
              "    <tr>\n",
              "      <th>4</th>\n",
              "      <td>32.00</td>\n",
              "      <td>95.0</td>\n",
              "      <td>580.726619</td>\n",
              "      <td>611.291178</td>\n",
              "    </tr>\n",
              "    <tr>\n",
              "      <th>5</th>\n",
              "      <td>46.40</td>\n",
              "      <td>38.0</td>\n",
              "      <td>407.735488</td>\n",
              "      <td>1072.988125</td>\n",
              "    </tr>\n",
              "    <tr>\n",
              "      <th>6</th>\n",
              "      <td>55.58</td>\n",
              "      <td>46.0</td>\n",
              "      <td>693.640473</td>\n",
              "      <td>1507.914071</td>\n",
              "    </tr>\n",
              "    <tr>\n",
              "      <th>7</th>\n",
              "      <td>80.60</td>\n",
              "      <td>32.5</td>\n",
              "      <td>1159.645282</td>\n",
              "      <td>3568.139330</td>\n",
              "    </tr>\n",
              "    <tr>\n",
              "      <th>8</th>\n",
              "      <td>100.40</td>\n",
              "      <td>23.4</td>\n",
              "      <td>1552.086196</td>\n",
              "      <td>6632.846990</td>\n",
              "    </tr>\n",
              "  </tbody>\n",
              "</table>\n",
              "</div>"
            ],
            "text/plain": [
              "    T(°F)  RH(%)      AVP(Pa)      SVP(Pa)\n",
              "0   -5.80    5.0     4.687163    93.743254\n",
              "1    1.40    7.0     9.604409   137.205837\n",
              "2   14.90   15.0    40.746228   271.641518\n",
              "3   28.40   30.0   155.336031   517.786770\n",
              "4   32.00   95.0   580.726619   611.291178\n",
              "5   46.40   38.0   407.735488  1072.988125\n",
              "6   55.58   46.0   693.640473  1507.914071\n",
              "7   80.60   32.5  1159.645282  3568.139330\n",
              "8  100.40   23.4  1552.086196  6632.846990"
            ]
          },
          "metadata": {
            "tags": []
          },
          "execution_count": 11
        }
      ]
    },
    {
      "cell_type": "markdown",
      "metadata": {
        "id": "vHk2KoveuskX"
      },
      "source": [
        "## **Humidity Convertions**"
      ]
    },
    {
      "cell_type": "markdown",
      "metadata": {
        "id": "gSPDOQguu4x6"
      },
      "source": [
        "Creating a generic DataFrame with temperature and relative humidity values"
      ]
    },
    {
      "cell_type": "code",
      "metadata": {
        "colab": {
          "base_uri": "https://localhost:8080/",
          "height": 294
        },
        "id": "lVdrNbp_u30J",
        "outputId": "b172375c-0823-4d59-a05a-57195d0aac8d"
      },
      "source": [
        "# Creating a generic DataFrame with temperature and relative humidity\n",
        "data = {'T(°C)': [-27, -15.6, -3.4, 0, 5.8, 18, 25.6, 39],\n",
        "        'RH(%)': [60, 88, 93.4, 95.6, 100, 25, 34.4, 74]}\n",
        "\n",
        "df_humidity = pd.DataFrame(data)\n",
        "df_humidity['T(°F)'] = bm.celsius_to_farenheit(df_humidity['T(°C)'])\n",
        "df_humidity = df_humidity[['T(°C)', 'T(°F)', 'RH(%)']]\n",
        "df_humidity"
      ],
      "execution_count": null,
      "outputs": [
        {
          "output_type": "execute_result",
          "data": {
            "text/html": [
              "<div>\n",
              "<style scoped>\n",
              "    .dataframe tbody tr th:only-of-type {\n",
              "        vertical-align: middle;\n",
              "    }\n",
              "\n",
              "    .dataframe tbody tr th {\n",
              "        vertical-align: top;\n",
              "    }\n",
              "\n",
              "    .dataframe thead th {\n",
              "        text-align: right;\n",
              "    }\n",
              "</style>\n",
              "<table border=\"1\" class=\"dataframe\">\n",
              "  <thead>\n",
              "    <tr style=\"text-align: right;\">\n",
              "      <th></th>\n",
              "      <th>T(°C)</th>\n",
              "      <th>T(°F)</th>\n",
              "      <th>RH(%)</th>\n",
              "    </tr>\n",
              "  </thead>\n",
              "  <tbody>\n",
              "    <tr>\n",
              "      <th>0</th>\n",
              "      <td>-27.0</td>\n",
              "      <td>-16.60</td>\n",
              "      <td>60.0</td>\n",
              "    </tr>\n",
              "    <tr>\n",
              "      <th>1</th>\n",
              "      <td>-15.6</td>\n",
              "      <td>3.92</td>\n",
              "      <td>88.0</td>\n",
              "    </tr>\n",
              "    <tr>\n",
              "      <th>2</th>\n",
              "      <td>-3.4</td>\n",
              "      <td>25.88</td>\n",
              "      <td>93.4</td>\n",
              "    </tr>\n",
              "    <tr>\n",
              "      <th>3</th>\n",
              "      <td>0.0</td>\n",
              "      <td>32.00</td>\n",
              "      <td>95.6</td>\n",
              "    </tr>\n",
              "    <tr>\n",
              "      <th>4</th>\n",
              "      <td>5.8</td>\n",
              "      <td>42.44</td>\n",
              "      <td>100.0</td>\n",
              "    </tr>\n",
              "    <tr>\n",
              "      <th>5</th>\n",
              "      <td>18.0</td>\n",
              "      <td>64.40</td>\n",
              "      <td>25.0</td>\n",
              "    </tr>\n",
              "    <tr>\n",
              "      <th>6</th>\n",
              "      <td>25.6</td>\n",
              "      <td>78.08</td>\n",
              "      <td>34.4</td>\n",
              "    </tr>\n",
              "    <tr>\n",
              "      <th>7</th>\n",
              "      <td>39.0</td>\n",
              "      <td>102.20</td>\n",
              "      <td>74.0</td>\n",
              "    </tr>\n",
              "  </tbody>\n",
              "</table>\n",
              "</div>"
            ],
            "text/plain": [
              "   T(°C)   T(°F)  RH(%)\n",
              "0  -27.0  -16.60   60.0\n",
              "1  -15.6    3.92   88.0\n",
              "2   -3.4   25.88   93.4\n",
              "3    0.0   32.00   95.6\n",
              "4    5.8   42.44  100.0\n",
              "5   18.0   64.40   25.0\n",
              "6   25.6   78.08   34.4\n",
              "7   39.0  102.20   74.0"
            ]
          },
          "metadata": {
            "tags": []
          },
          "execution_count": 12
        }
      ]
    },
    {
      "cell_type": "markdown",
      "metadata": {
        "id": "DbJwyv9BvFZg"
      },
      "source": [
        "Converting relative humidity into dew point temperature\n",
        "\n"
      ]
    },
    {
      "cell_type": "code",
      "metadata": {
        "colab": {
          "base_uri": "https://localhost:8080/",
          "height": 294
        },
        "id": "aovnVjR3vMfj",
        "outputId": "c7ff78d9-691f-4c10-8354-e3236a4ef8c7"
      },
      "source": [
        "# Creating two dataframes with separated temperature units\n",
        "df_humidity_celsius = df_humidity.drop(columns = ['T(°F)'])\n",
        "df_humidity_farenheit = df_humidity.drop(columns = ['T(°C)'])\n",
        "\n",
        "# Note that, for celsius as the chosen degree, it's not necessary to specify it in the formula (defaut)\n",
        "df_humidity_celsius['Dewpoint(°C)'] = bm.relative_humidity_to_dewpoint(df_humidity_celsius['T(°C)'],\n",
        "                                                                       df_humidity_celsius['RH(%)'])\n",
        "\n",
        "df_humidity_celsius\n"
      ],
      "execution_count": null,
      "outputs": [
        {
          "output_type": "execute_result",
          "data": {
            "text/html": [
              "<div>\n",
              "<style scoped>\n",
              "    .dataframe tbody tr th:only-of-type {\n",
              "        vertical-align: middle;\n",
              "    }\n",
              "\n",
              "    .dataframe tbody tr th {\n",
              "        vertical-align: top;\n",
              "    }\n",
              "\n",
              "    .dataframe thead th {\n",
              "        text-align: right;\n",
              "    }\n",
              "</style>\n",
              "<table border=\"1\" class=\"dataframe\">\n",
              "  <thead>\n",
              "    <tr style=\"text-align: right;\">\n",
              "      <th></th>\n",
              "      <th>T(°C)</th>\n",
              "      <th>RH(%)</th>\n",
              "      <th>Dewpoint(°C)</th>\n",
              "    </tr>\n",
              "  </thead>\n",
              "  <tbody>\n",
              "    <tr>\n",
              "      <th>0</th>\n",
              "      <td>-27.0</td>\n",
              "      <td>60.0</td>\n",
              "      <td>-32.424885</td>\n",
              "    </tr>\n",
              "    <tr>\n",
              "      <th>1</th>\n",
              "      <td>-15.6</td>\n",
              "      <td>88.0</td>\n",
              "      <td>-17.152880</td>\n",
              "    </tr>\n",
              "    <tr>\n",
              "      <th>2</th>\n",
              "      <td>-3.4</td>\n",
              "      <td>93.4</td>\n",
              "      <td>-4.325831</td>\n",
              "    </tr>\n",
              "    <tr>\n",
              "      <th>3</th>\n",
              "      <td>0.0</td>\n",
              "      <td>95.6</td>\n",
              "      <td>-0.628195</td>\n",
              "    </tr>\n",
              "    <tr>\n",
              "      <th>4</th>\n",
              "      <td>5.8</td>\n",
              "      <td>100.0</td>\n",
              "      <td>5.800000</td>\n",
              "    </tr>\n",
              "    <tr>\n",
              "      <th>5</th>\n",
              "      <td>18.0</td>\n",
              "      <td>25.0</td>\n",
              "      <td>-2.397080</td>\n",
              "    </tr>\n",
              "    <tr>\n",
              "      <th>6</th>\n",
              "      <td>25.6</td>\n",
              "      <td>34.4</td>\n",
              "      <td>8.736802</td>\n",
              "    </tr>\n",
              "    <tr>\n",
              "      <th>7</th>\n",
              "      <td>39.0</td>\n",
              "      <td>74.0</td>\n",
              "      <td>33.566328</td>\n",
              "    </tr>\n",
              "  </tbody>\n",
              "</table>\n",
              "</div>"
            ],
            "text/plain": [
              "   T(°C)  RH(%)  Dewpoint(°C)\n",
              "0  -27.0   60.0    -32.424885\n",
              "1  -15.6   88.0    -17.152880\n",
              "2   -3.4   93.4     -4.325831\n",
              "3    0.0   95.6     -0.628195\n",
              "4    5.8  100.0      5.800000\n",
              "5   18.0   25.0     -2.397080\n",
              "6   25.6   34.4      8.736802\n",
              "7   39.0   74.0     33.566328"
            ]
          },
          "metadata": {
            "tags": []
          },
          "execution_count": 13
        }
      ]
    },
    {
      "cell_type": "code",
      "metadata": {
        "colab": {
          "base_uri": "https://localhost:8080/",
          "height": 294
        },
        "id": "OJpGpaS2ysV5",
        "outputId": "8a506099-57df-4e1a-8511-5b95beff05d3"
      },
      "source": [
        "# Note that, for farenheit as the chosen degree, you must specify it in the formula\n",
        "df_humidity_farenheit['Dewpoint(°F)'] = bm.relative_humidity_to_dewpoint(df_humidity_farenheit['T(°F)'],\n",
        "                                                                         df_humidity_farenheit['RH(%)'],\n",
        "                                                                         degrees = 'farenheit')\n",
        "df_humidity_farenheit"
      ],
      "execution_count": null,
      "outputs": [
        {
          "output_type": "execute_result",
          "data": {
            "text/html": [
              "<div>\n",
              "<style scoped>\n",
              "    .dataframe tbody tr th:only-of-type {\n",
              "        vertical-align: middle;\n",
              "    }\n",
              "\n",
              "    .dataframe tbody tr th {\n",
              "        vertical-align: top;\n",
              "    }\n",
              "\n",
              "    .dataframe thead th {\n",
              "        text-align: right;\n",
              "    }\n",
              "</style>\n",
              "<table border=\"1\" class=\"dataframe\">\n",
              "  <thead>\n",
              "    <tr style=\"text-align: right;\">\n",
              "      <th></th>\n",
              "      <th>T(°F)</th>\n",
              "      <th>RH(%)</th>\n",
              "      <th>Dewpoint(°F)</th>\n",
              "    </tr>\n",
              "  </thead>\n",
              "  <tbody>\n",
              "    <tr>\n",
              "      <th>0</th>\n",
              "      <td>-16.60</td>\n",
              "      <td>60.0</td>\n",
              "      <td>-26.3648</td>\n",
              "    </tr>\n",
              "    <tr>\n",
              "      <th>1</th>\n",
              "      <td>3.92</td>\n",
              "      <td>88.0</td>\n",
              "      <td>1.1248</td>\n",
              "    </tr>\n",
              "    <tr>\n",
              "      <th>2</th>\n",
              "      <td>25.88</td>\n",
              "      <td>93.4</td>\n",
              "      <td>24.2135</td>\n",
              "    </tr>\n",
              "    <tr>\n",
              "      <th>3</th>\n",
              "      <td>32.00</td>\n",
              "      <td>95.6</td>\n",
              "      <td>30.8692</td>\n",
              "    </tr>\n",
              "    <tr>\n",
              "      <th>4</th>\n",
              "      <td>42.44</td>\n",
              "      <td>100.0</td>\n",
              "      <td>42.4400</td>\n",
              "    </tr>\n",
              "    <tr>\n",
              "      <th>5</th>\n",
              "      <td>64.40</td>\n",
              "      <td>25.0</td>\n",
              "      <td>27.6853</td>\n",
              "    </tr>\n",
              "    <tr>\n",
              "      <th>6</th>\n",
              "      <td>78.08</td>\n",
              "      <td>34.4</td>\n",
              "      <td>47.7262</td>\n",
              "    </tr>\n",
              "    <tr>\n",
              "      <th>7</th>\n",
              "      <td>102.20</td>\n",
              "      <td>74.0</td>\n",
              "      <td>92.4194</td>\n",
              "    </tr>\n",
              "  </tbody>\n",
              "</table>\n",
              "</div>"
            ],
            "text/plain": [
              "    T(°F)  RH(%)  Dewpoint(°F)\n",
              "0  -16.60   60.0      -26.3648\n",
              "1    3.92   88.0        1.1248\n",
              "2   25.88   93.4       24.2135\n",
              "3   32.00   95.6       30.8692\n",
              "4   42.44  100.0       42.4400\n",
              "5   64.40   25.0       27.6853\n",
              "6   78.08   34.4       47.7262\n",
              "7  102.20   74.0       92.4194"
            ]
          },
          "metadata": {
            "tags": []
          },
          "execution_count": 14
        }
      ]
    },
    {
      "cell_type": "markdown",
      "metadata": {
        "id": "zKeKiQpay1iX"
      },
      "source": [
        "Converting dew point temperature into relative humidity"
      ]
    },
    {
      "cell_type": "code",
      "metadata": {
        "colab": {
          "base_uri": "https://localhost:8080/",
          "height": 294
        },
        "id": "yCu3iu31y4rp",
        "outputId": "bde06cb8-b83b-4a69-aece-7307a18f56f3"
      },
      "source": [
        "# Dropping the relative humidity from the previous dataframes\n",
        "df_humidity_celsius = df_humidity_celsius.drop(columns = ['RH(%)'])\n",
        "df_humidity_farenheit = df_humidity_farenheit.drop(columns = ['RH(%)'])\n",
        "\n",
        "# The same notes said before are valid for this convertion as well\n",
        "# First, with degrees celsius\n",
        "df_humidity_celsius['RH(%)'] = bm.dewpoint_to_relative_humidity(df_humidity_celsius['T(°C)'],\n",
        "                                                                df_humidity_celsius['Dewpoint(°C)'])\n",
        "df_humidity_celsius"
      ],
      "execution_count": null,
      "outputs": [
        {
          "output_type": "execute_result",
          "data": {
            "text/html": [
              "<div>\n",
              "<style scoped>\n",
              "    .dataframe tbody tr th:only-of-type {\n",
              "        vertical-align: middle;\n",
              "    }\n",
              "\n",
              "    .dataframe tbody tr th {\n",
              "        vertical-align: top;\n",
              "    }\n",
              "\n",
              "    .dataframe thead th {\n",
              "        text-align: right;\n",
              "    }\n",
              "</style>\n",
              "<table border=\"1\" class=\"dataframe\">\n",
              "  <thead>\n",
              "    <tr style=\"text-align: right;\">\n",
              "      <th></th>\n",
              "      <th>T(°C)</th>\n",
              "      <th>Dewpoint(°C)</th>\n",
              "      <th>RH(%)</th>\n",
              "    </tr>\n",
              "  </thead>\n",
              "  <tbody>\n",
              "    <tr>\n",
              "      <th>0</th>\n",
              "      <td>-27.0</td>\n",
              "      <td>-32.424885</td>\n",
              "      <td>59.999998</td>\n",
              "    </tr>\n",
              "    <tr>\n",
              "      <th>1</th>\n",
              "      <td>-15.6</td>\n",
              "      <td>-17.152880</td>\n",
              "      <td>87.999998</td>\n",
              "    </tr>\n",
              "    <tr>\n",
              "      <th>2</th>\n",
              "      <td>-3.4</td>\n",
              "      <td>-4.325831</td>\n",
              "      <td>93.399997</td>\n",
              "    </tr>\n",
              "    <tr>\n",
              "      <th>3</th>\n",
              "      <td>0.0</td>\n",
              "      <td>-0.628195</td>\n",
              "      <td>95.599998</td>\n",
              "    </tr>\n",
              "    <tr>\n",
              "      <th>4</th>\n",
              "      <td>5.8</td>\n",
              "      <td>5.800000</td>\n",
              "      <td>100.000000</td>\n",
              "    </tr>\n",
              "    <tr>\n",
              "      <th>5</th>\n",
              "      <td>18.0</td>\n",
              "      <td>-2.397080</td>\n",
              "      <td>24.999999</td>\n",
              "    </tr>\n",
              "    <tr>\n",
              "      <th>6</th>\n",
              "      <td>25.6</td>\n",
              "      <td>8.736802</td>\n",
              "      <td>34.399999</td>\n",
              "    </tr>\n",
              "    <tr>\n",
              "      <th>7</th>\n",
              "      <td>39.0</td>\n",
              "      <td>33.566328</td>\n",
              "      <td>73.999999</td>\n",
              "    </tr>\n",
              "  </tbody>\n",
              "</table>\n",
              "</div>"
            ],
            "text/plain": [
              "   T(°C)  Dewpoint(°C)       RH(%)\n",
              "0  -27.0    -32.424885   59.999998\n",
              "1  -15.6    -17.152880   87.999998\n",
              "2   -3.4     -4.325831   93.399997\n",
              "3    0.0     -0.628195   95.599998\n",
              "4    5.8      5.800000  100.000000\n",
              "5   18.0     -2.397080   24.999999\n",
              "6   25.6      8.736802   34.399999\n",
              "7   39.0     33.566328   73.999999"
            ]
          },
          "metadata": {
            "tags": []
          },
          "execution_count": 15
        }
      ]
    },
    {
      "cell_type": "code",
      "metadata": {
        "colab": {
          "base_uri": "https://localhost:8080/",
          "height": 294
        },
        "id": "Guzlqugj0Iyq",
        "outputId": "34be6303-fff9-4eb3-ea10-d3845189180a"
      },
      "source": [
        "# Then, with degrees farenheit\n",
        "df_humidity_farenheit['RH(%)'] = bm.dewpoint_to_relative_humidity(df_humidity_farenheit['T(°F)'],\n",
        "                                                                 df_humidity_farenheit['Dewpoint(°F)'],\n",
        "                                                                 degrees = 'farenheit')\n",
        "df_humidity_farenheit"
      ],
      "execution_count": null,
      "outputs": [
        {
          "output_type": "execute_result",
          "data": {
            "text/html": [
              "<div>\n",
              "<style scoped>\n",
              "    .dataframe tbody tr th:only-of-type {\n",
              "        vertical-align: middle;\n",
              "    }\n",
              "\n",
              "    .dataframe tbody tr th {\n",
              "        vertical-align: top;\n",
              "    }\n",
              "\n",
              "    .dataframe thead th {\n",
              "        text-align: right;\n",
              "    }\n",
              "</style>\n",
              "<table border=\"1\" class=\"dataframe\">\n",
              "  <thead>\n",
              "    <tr style=\"text-align: right;\">\n",
              "      <th></th>\n",
              "      <th>T(°F)</th>\n",
              "      <th>Dewpoint(°F)</th>\n",
              "      <th>RH(%)</th>\n",
              "    </tr>\n",
              "  </thead>\n",
              "  <tbody>\n",
              "    <tr>\n",
              "      <th>0</th>\n",
              "      <td>-16.60</td>\n",
              "      <td>-26.3648</td>\n",
              "      <td>59.999911</td>\n",
              "    </tr>\n",
              "    <tr>\n",
              "      <th>1</th>\n",
              "      <td>3.92</td>\n",
              "      <td>1.1248</td>\n",
              "      <td>87.999852</td>\n",
              "    </tr>\n",
              "    <tr>\n",
              "      <th>2</th>\n",
              "      <td>25.88</td>\n",
              "      <td>24.2135</td>\n",
              "      <td>93.400212</td>\n",
              "    </tr>\n",
              "    <tr>\n",
              "      <th>3</th>\n",
              "      <td>32.00</td>\n",
              "      <td>30.8692</td>\n",
              "      <td>95.599964</td>\n",
              "    </tr>\n",
              "    <tr>\n",
              "      <th>4</th>\n",
              "      <td>42.44</td>\n",
              "      <td>42.4400</td>\n",
              "      <td>100.000000</td>\n",
              "    </tr>\n",
              "    <tr>\n",
              "      <th>5</th>\n",
              "      <td>64.40</td>\n",
              "      <td>27.6853</td>\n",
              "      <td>24.999962</td>\n",
              "    </tr>\n",
              "    <tr>\n",
              "      <th>6</th>\n",
              "      <td>78.08</td>\n",
              "      <td>47.7262</td>\n",
              "      <td>34.399995</td>\n",
              "    </tr>\n",
              "    <tr>\n",
              "      <th>7</th>\n",
              "      <td>102.20</td>\n",
              "      <td>92.4194</td>\n",
              "      <td>73.999882</td>\n",
              "    </tr>\n",
              "  </tbody>\n",
              "</table>\n",
              "</div>"
            ],
            "text/plain": [
              "    T(°F)  Dewpoint(°F)       RH(%)\n",
              "0  -16.60      -26.3648   59.999911\n",
              "1    3.92        1.1248   87.999852\n",
              "2   25.88       24.2135   93.400212\n",
              "3   32.00       30.8692   95.599964\n",
              "4   42.44       42.4400  100.000000\n",
              "5   64.40       27.6853   24.999962\n",
              "6   78.08       47.7262   34.399995\n",
              "7  102.20       92.4194   73.999882"
            ]
          },
          "metadata": {
            "tags": []
          },
          "execution_count": 16
        }
      ]
    },
    {
      "cell_type": "markdown",
      "metadata": {
        "id": "yJuus-tzx8Ja"
      },
      "source": [
        "## **Apparent Temperature**"
      ]
    },
    {
      "cell_type": "code",
      "metadata": {
        "colab": {
          "base_uri": "https://localhost:8080/",
          "height": 294
        },
        "id": "_tadjsv3x_bi",
        "outputId": "63c21fa5-968f-4b3c-8ad0-a56c3cb0fd88"
      },
      "source": [
        "# Creating a generic DataFrame with temperature, vapor pressure and wind speed\n",
        "data = {'T(°C)': [-27, -15.6, -3.4, 0, 5.8, 18, 25.6, 39],\n",
        "        'P(kPa)': [0.85, 0.97, 1.05, 1.3, 0.76, 1.35, 1.47, 1],\n",
        "        'ws(m/s)': [0, 2.5, 5, 3, 0.1, 0, 4.3, 1.2]}\n",
        "\n",
        "df_at = pd.DataFrame(data)\n",
        "df_at"
      ],
      "execution_count": null,
      "outputs": [
        {
          "output_type": "execute_result",
          "data": {
            "text/html": [
              "<div>\n",
              "<style scoped>\n",
              "    .dataframe tbody tr th:only-of-type {\n",
              "        vertical-align: middle;\n",
              "    }\n",
              "\n",
              "    .dataframe tbody tr th {\n",
              "        vertical-align: top;\n",
              "    }\n",
              "\n",
              "    .dataframe thead th {\n",
              "        text-align: right;\n",
              "    }\n",
              "</style>\n",
              "<table border=\"1\" class=\"dataframe\">\n",
              "  <thead>\n",
              "    <tr style=\"text-align: right;\">\n",
              "      <th></th>\n",
              "      <th>T(°C)</th>\n",
              "      <th>P(kPa)</th>\n",
              "      <th>ws(m/s)</th>\n",
              "    </tr>\n",
              "  </thead>\n",
              "  <tbody>\n",
              "    <tr>\n",
              "      <th>0</th>\n",
              "      <td>-27.0</td>\n",
              "      <td>0.85</td>\n",
              "      <td>0.0</td>\n",
              "    </tr>\n",
              "    <tr>\n",
              "      <th>1</th>\n",
              "      <td>-15.6</td>\n",
              "      <td>0.97</td>\n",
              "      <td>2.5</td>\n",
              "    </tr>\n",
              "    <tr>\n",
              "      <th>2</th>\n",
              "      <td>-3.4</td>\n",
              "      <td>1.05</td>\n",
              "      <td>5.0</td>\n",
              "    </tr>\n",
              "    <tr>\n",
              "      <th>3</th>\n",
              "      <td>0.0</td>\n",
              "      <td>1.30</td>\n",
              "      <td>3.0</td>\n",
              "    </tr>\n",
              "    <tr>\n",
              "      <th>4</th>\n",
              "      <td>5.8</td>\n",
              "      <td>0.76</td>\n",
              "      <td>0.1</td>\n",
              "    </tr>\n",
              "    <tr>\n",
              "      <th>5</th>\n",
              "      <td>18.0</td>\n",
              "      <td>1.35</td>\n",
              "      <td>0.0</td>\n",
              "    </tr>\n",
              "    <tr>\n",
              "      <th>6</th>\n",
              "      <td>25.6</td>\n",
              "      <td>1.47</td>\n",
              "      <td>4.3</td>\n",
              "    </tr>\n",
              "    <tr>\n",
              "      <th>7</th>\n",
              "      <td>39.0</td>\n",
              "      <td>1.00</td>\n",
              "      <td>1.2</td>\n",
              "    </tr>\n",
              "  </tbody>\n",
              "</table>\n",
              "</div>"
            ],
            "text/plain": [
              "   T(°C)  P(kPa)  ws(m/s)\n",
              "0  -27.0    0.85      0.0\n",
              "1  -15.6    0.97      2.5\n",
              "2   -3.4    1.05      5.0\n",
              "3    0.0    1.30      3.0\n",
              "4    5.8    0.76      0.1\n",
              "5   18.0    1.35      0.0\n",
              "6   25.6    1.47      4.3\n",
              "7   39.0    1.00      1.2"
            ]
          },
          "metadata": {
            "tags": []
          },
          "execution_count": 17
        }
      ]
    },
    {
      "cell_type": "markdown",
      "metadata": {
        "id": "ho_PRH1R0-ZN"
      },
      "source": [
        "Apparent temperature for indoors condition and degrees celsius"
      ]
    },
    {
      "cell_type": "code",
      "metadata": {
        "colab": {
          "base_uri": "https://localhost:8080/",
          "height": 294
        },
        "id": "aSdJenbF1rIf",
        "outputId": "70a265c4-cfbb-42a7-ff45-559b886c3ca1"
      },
      "source": [
        "# Note that, for the condition variable, the defaut value is 'indoors'\n",
        "# Note that the wind speed has a defaut value (ws = 0) in case it doesn't receive any other value\n",
        "# Note that, once again, 'celsius' is the defaut value for the variable 'degrees'\n",
        "# In the first example below, we are considering the wind speed defaut value\n",
        "df_at_indoors = df_at.drop(columns = ['ws(m/s)'])\n",
        "df_at_indoors['AT(°C)'] = bm.apparent_temperature(df_at_indoors['T(°C)'], df_at_indoors['P(kPa)'])\n",
        "df_at_indoors  "
      ],
      "execution_count": null,
      "outputs": [
        {
          "output_type": "execute_result",
          "data": {
            "text/html": [
              "<div>\n",
              "<style scoped>\n",
              "    .dataframe tbody tr th:only-of-type {\n",
              "        vertical-align: middle;\n",
              "    }\n",
              "\n",
              "    .dataframe tbody tr th {\n",
              "        vertical-align: top;\n",
              "    }\n",
              "\n",
              "    .dataframe thead th {\n",
              "        text-align: right;\n",
              "    }\n",
              "</style>\n",
              "<table border=\"1\" class=\"dataframe\">\n",
              "  <thead>\n",
              "    <tr style=\"text-align: right;\">\n",
              "      <th></th>\n",
              "      <th>T(°C)</th>\n",
              "      <th>P(kPa)</th>\n",
              "      <th>AT(°C)</th>\n",
              "    </tr>\n",
              "  </thead>\n",
              "  <tbody>\n",
              "    <tr>\n",
              "      <th>0</th>\n",
              "      <td>-27.0</td>\n",
              "      <td>0.85</td>\n",
              "      <td>-24.270</td>\n",
              "    </tr>\n",
              "    <tr>\n",
              "      <th>1</th>\n",
              "      <td>-15.6</td>\n",
              "      <td>0.97</td>\n",
              "      <td>-13.518</td>\n",
              "    </tr>\n",
              "    <tr>\n",
              "      <th>2</th>\n",
              "      <td>-3.4</td>\n",
              "      <td>1.05</td>\n",
              "      <td>-2.118</td>\n",
              "    </tr>\n",
              "    <tr>\n",
              "      <th>3</th>\n",
              "      <td>0.0</td>\n",
              "      <td>1.30</td>\n",
              "      <td>1.560</td>\n",
              "    </tr>\n",
              "    <tr>\n",
              "      <th>4</th>\n",
              "      <td>5.8</td>\n",
              "      <td>0.76</td>\n",
              "      <td>5.708</td>\n",
              "    </tr>\n",
              "    <tr>\n",
              "      <th>5</th>\n",
              "      <td>18.0</td>\n",
              "      <td>1.35</td>\n",
              "      <td>18.230</td>\n",
              "    </tr>\n",
              "    <tr>\n",
              "      <th>6</th>\n",
              "      <td>25.6</td>\n",
              "      <td>1.47</td>\n",
              "      <td>25.486</td>\n",
              "    </tr>\n",
              "    <tr>\n",
              "      <th>7</th>\n",
              "      <td>39.0</td>\n",
              "      <td>1.00</td>\n",
              "      <td>36.780</td>\n",
              "    </tr>\n",
              "  </tbody>\n",
              "</table>\n",
              "</div>"
            ],
            "text/plain": [
              "   T(°C)  P(kPa)  AT(°C)\n",
              "0  -27.0    0.85 -24.270\n",
              "1  -15.6    0.97 -13.518\n",
              "2   -3.4    1.05  -2.118\n",
              "3    0.0    1.30   1.560\n",
              "4    5.8    0.76   5.708\n",
              "5   18.0    1.35  18.230\n",
              "6   25.6    1.47  25.486\n",
              "7   39.0    1.00  36.780"
            ]
          },
          "metadata": {
            "tags": []
          },
          "execution_count": 18
        }
      ]
    },
    {
      "cell_type": "code",
      "metadata": {
        "colab": {
          "base_uri": "https://localhost:8080/",
          "height": 294
        },
        "id": "h3TUWUbE2ofY",
        "outputId": "a2ce2aed-72aa-46ab-ae79-4c2d3c5fc1a5"
      },
      "source": [
        "# Now, considering the wind speed columns\n",
        "# Note that, comparing to the table above, the apparent temperature values didn't change\n",
        "# That's because, for indoors condition, wind speed aren't taken into account\n",
        "df_at_indoors_ws = df_at\n",
        "df_at_indoors_ws['AT(°C)'] = bm.apparent_temperature(df_at['T(°C)'], df_at['P(kPa)'], df_at['ws(m/s)'])\n",
        "df_at_indoors_ws  "
      ],
      "execution_count": null,
      "outputs": [
        {
          "output_type": "execute_result",
          "data": {
            "text/html": [
              "<div>\n",
              "<style scoped>\n",
              "    .dataframe tbody tr th:only-of-type {\n",
              "        vertical-align: middle;\n",
              "    }\n",
              "\n",
              "    .dataframe tbody tr th {\n",
              "        vertical-align: top;\n",
              "    }\n",
              "\n",
              "    .dataframe thead th {\n",
              "        text-align: right;\n",
              "    }\n",
              "</style>\n",
              "<table border=\"1\" class=\"dataframe\">\n",
              "  <thead>\n",
              "    <tr style=\"text-align: right;\">\n",
              "      <th></th>\n",
              "      <th>T(°C)</th>\n",
              "      <th>P(kPa)</th>\n",
              "      <th>ws(m/s)</th>\n",
              "      <th>AT(°C)</th>\n",
              "    </tr>\n",
              "  </thead>\n",
              "  <tbody>\n",
              "    <tr>\n",
              "      <th>0</th>\n",
              "      <td>-27.0</td>\n",
              "      <td>0.85</td>\n",
              "      <td>0.0</td>\n",
              "      <td>-24.270</td>\n",
              "    </tr>\n",
              "    <tr>\n",
              "      <th>1</th>\n",
              "      <td>-15.6</td>\n",
              "      <td>0.97</td>\n",
              "      <td>2.5</td>\n",
              "      <td>-13.518</td>\n",
              "    </tr>\n",
              "    <tr>\n",
              "      <th>2</th>\n",
              "      <td>-3.4</td>\n",
              "      <td>1.05</td>\n",
              "      <td>5.0</td>\n",
              "      <td>-2.118</td>\n",
              "    </tr>\n",
              "    <tr>\n",
              "      <th>3</th>\n",
              "      <td>0.0</td>\n",
              "      <td>1.30</td>\n",
              "      <td>3.0</td>\n",
              "      <td>1.560</td>\n",
              "    </tr>\n",
              "    <tr>\n",
              "      <th>4</th>\n",
              "      <td>5.8</td>\n",
              "      <td>0.76</td>\n",
              "      <td>0.1</td>\n",
              "      <td>5.708</td>\n",
              "    </tr>\n",
              "    <tr>\n",
              "      <th>5</th>\n",
              "      <td>18.0</td>\n",
              "      <td>1.35</td>\n",
              "      <td>0.0</td>\n",
              "      <td>18.230</td>\n",
              "    </tr>\n",
              "    <tr>\n",
              "      <th>6</th>\n",
              "      <td>25.6</td>\n",
              "      <td>1.47</td>\n",
              "      <td>4.3</td>\n",
              "      <td>25.486</td>\n",
              "    </tr>\n",
              "    <tr>\n",
              "      <th>7</th>\n",
              "      <td>39.0</td>\n",
              "      <td>1.00</td>\n",
              "      <td>1.2</td>\n",
              "      <td>36.780</td>\n",
              "    </tr>\n",
              "  </tbody>\n",
              "</table>\n",
              "</div>"
            ],
            "text/plain": [
              "   T(°C)  P(kPa)  ws(m/s)  AT(°C)\n",
              "0  -27.0    0.85      0.0 -24.270\n",
              "1  -15.6    0.97      2.5 -13.518\n",
              "2   -3.4    1.05      5.0  -2.118\n",
              "3    0.0    1.30      3.0   1.560\n",
              "4    5.8    0.76      0.1   5.708\n",
              "5   18.0    1.35      0.0  18.230\n",
              "6   25.6    1.47      4.3  25.486\n",
              "7   39.0    1.00      1.2  36.780"
            ]
          },
          "metadata": {
            "tags": []
          },
          "execution_count": 19
        }
      ]
    },
    {
      "cell_type": "markdown",
      "metadata": {
        "id": "oULs2sF83k46"
      },
      "source": [
        "Apparent temperature for shade condition and degrees celsius"
      ]
    },
    {
      "cell_type": "code",
      "metadata": {
        "colab": {
          "base_uri": "https://localhost:8080/",
          "height": 294
        },
        "id": "ZKJiG1yX2odt",
        "outputId": "8ff0177c-a0ed-462c-e530-fd1d124c736a"
      },
      "source": [
        "# Now, with 'shade' as the chosen condition, wind speed is taken into account\n",
        "df_at_shade = df_at\n",
        "df_at_shade['AT(°C)'] = bm.apparent_temperature(df_at['T(°C)'], df_at['P(kPa)'], \n",
        "                                                df_at['ws(m/s)'], 'shade')\n",
        "df_at_shade"
      ],
      "execution_count": null,
      "outputs": [
        {
          "output_type": "execute_result",
          "data": {
            "text/html": [
              "<div>\n",
              "<style scoped>\n",
              "    .dataframe tbody tr th:only-of-type {\n",
              "        vertical-align: middle;\n",
              "    }\n",
              "\n",
              "    .dataframe tbody tr th {\n",
              "        vertical-align: top;\n",
              "    }\n",
              "\n",
              "    .dataframe thead th {\n",
              "        text-align: right;\n",
              "    }\n",
              "</style>\n",
              "<table border=\"1\" class=\"dataframe\">\n",
              "  <thead>\n",
              "    <tr style=\"text-align: right;\">\n",
              "      <th></th>\n",
              "      <th>T(°C)</th>\n",
              "      <th>P(kPa)</th>\n",
              "      <th>ws(m/s)</th>\n",
              "      <th>AT(°C)</th>\n",
              "    </tr>\n",
              "  </thead>\n",
              "  <tbody>\n",
              "    <tr>\n",
              "      <th>0</th>\n",
              "      <td>-27.0</td>\n",
              "      <td>0.85</td>\n",
              "      <td>0.0</td>\n",
              "      <td>-29.080</td>\n",
              "    </tr>\n",
              "    <tr>\n",
              "      <th>1</th>\n",
              "      <td>-15.6</td>\n",
              "      <td>0.97</td>\n",
              "      <td>2.5</td>\n",
              "      <td>-18.609</td>\n",
              "    </tr>\n",
              "    <tr>\n",
              "      <th>2</th>\n",
              "      <td>-3.4</td>\n",
              "      <td>1.05</td>\n",
              "      <td>5.0</td>\n",
              "      <td>-7.386</td>\n",
              "    </tr>\n",
              "    <tr>\n",
              "      <th>3</th>\n",
              "      <td>0.0</td>\n",
              "      <td>1.30</td>\n",
              "      <td>3.0</td>\n",
              "      <td>-2.050</td>\n",
              "    </tr>\n",
              "    <tr>\n",
              "      <th>4</th>\n",
              "      <td>5.8</td>\n",
              "      <td>0.76</td>\n",
              "      <td>0.1</td>\n",
              "      <td>4.787</td>\n",
              "    </tr>\n",
              "    <tr>\n",
              "      <th>5</th>\n",
              "      <td>18.0</td>\n",
              "      <td>1.35</td>\n",
              "      <td>0.0</td>\n",
              "      <td>18.720</td>\n",
              "    </tr>\n",
              "    <tr>\n",
              "      <th>6</th>\n",
              "      <td>25.6</td>\n",
              "      <td>1.47</td>\n",
              "      <td>4.3</td>\n",
              "      <td>24.069</td>\n",
              "    </tr>\n",
              "    <tr>\n",
              "      <th>7</th>\n",
              "      <td>39.0</td>\n",
              "      <td>1.00</td>\n",
              "      <td>1.2</td>\n",
              "      <td>39.080</td>\n",
              "    </tr>\n",
              "  </tbody>\n",
              "</table>\n",
              "</div>"
            ],
            "text/plain": [
              "   T(°C)  P(kPa)  ws(m/s)  AT(°C)\n",
              "0  -27.0    0.85      0.0 -29.080\n",
              "1  -15.6    0.97      2.5 -18.609\n",
              "2   -3.4    1.05      5.0  -7.386\n",
              "3    0.0    1.30      3.0  -2.050\n",
              "4    5.8    0.76      0.1   4.787\n",
              "5   18.0    1.35      0.0  18.720\n",
              "6   25.6    1.47      4.3  24.069\n",
              "7   39.0    1.00      1.2  39.080"
            ]
          },
          "metadata": {
            "tags": []
          },
          "execution_count": 20
        }
      ]
    },
    {
      "cell_type": "markdown",
      "metadata": {
        "id": "tBRaq5Nq4y_S"
      },
      "source": [
        "Apparent temperature for indoors and shade condition but in degrees farenheit"
      ]
    },
    {
      "cell_type": "code",
      "metadata": {
        "colab": {
          "base_uri": "https://localhost:8080/",
          "height": 294
        },
        "id": "ifa2TGPz458K",
        "outputId": "0b09f5df-07bd-446b-fb82-76d5afbf7270"
      },
      "source": [
        "# Converting and dropping the celsius temperature column\n",
        "df_at['T(°F)'] = bm.celsius_to_farenheit(df_at['T(°C)'])\n",
        "df_at_farenheit = df_at.drop(columns = ['T(°C)'])\n",
        "df_at_farenheit = df_at_farenheit[['T(°F)', 'P(kPa)', 'ws(m/s)']]\n",
        "df_at_farenheit"
      ],
      "execution_count": null,
      "outputs": [
        {
          "output_type": "execute_result",
          "data": {
            "text/html": [
              "<div>\n",
              "<style scoped>\n",
              "    .dataframe tbody tr th:only-of-type {\n",
              "        vertical-align: middle;\n",
              "    }\n",
              "\n",
              "    .dataframe tbody tr th {\n",
              "        vertical-align: top;\n",
              "    }\n",
              "\n",
              "    .dataframe thead th {\n",
              "        text-align: right;\n",
              "    }\n",
              "</style>\n",
              "<table border=\"1\" class=\"dataframe\">\n",
              "  <thead>\n",
              "    <tr style=\"text-align: right;\">\n",
              "      <th></th>\n",
              "      <th>T(°F)</th>\n",
              "      <th>P(kPa)</th>\n",
              "      <th>ws(m/s)</th>\n",
              "    </tr>\n",
              "  </thead>\n",
              "  <tbody>\n",
              "    <tr>\n",
              "      <th>0</th>\n",
              "      <td>-16.60</td>\n",
              "      <td>0.85</td>\n",
              "      <td>0.0</td>\n",
              "    </tr>\n",
              "    <tr>\n",
              "      <th>1</th>\n",
              "      <td>3.92</td>\n",
              "      <td>0.97</td>\n",
              "      <td>2.5</td>\n",
              "    </tr>\n",
              "    <tr>\n",
              "      <th>2</th>\n",
              "      <td>25.88</td>\n",
              "      <td>1.05</td>\n",
              "      <td>5.0</td>\n",
              "    </tr>\n",
              "    <tr>\n",
              "      <th>3</th>\n",
              "      <td>32.00</td>\n",
              "      <td>1.30</td>\n",
              "      <td>3.0</td>\n",
              "    </tr>\n",
              "    <tr>\n",
              "      <th>4</th>\n",
              "      <td>42.44</td>\n",
              "      <td>0.76</td>\n",
              "      <td>0.1</td>\n",
              "    </tr>\n",
              "    <tr>\n",
              "      <th>5</th>\n",
              "      <td>64.40</td>\n",
              "      <td>1.35</td>\n",
              "      <td>0.0</td>\n",
              "    </tr>\n",
              "    <tr>\n",
              "      <th>6</th>\n",
              "      <td>78.08</td>\n",
              "      <td>1.47</td>\n",
              "      <td>4.3</td>\n",
              "    </tr>\n",
              "    <tr>\n",
              "      <th>7</th>\n",
              "      <td>102.20</td>\n",
              "      <td>1.00</td>\n",
              "      <td>1.2</td>\n",
              "    </tr>\n",
              "  </tbody>\n",
              "</table>\n",
              "</div>"
            ],
            "text/plain": [
              "    T(°F)  P(kPa)  ws(m/s)\n",
              "0  -16.60    0.85      0.0\n",
              "1    3.92    0.97      2.5\n",
              "2   25.88    1.05      5.0\n",
              "3   32.00    1.30      3.0\n",
              "4   42.44    0.76      0.1\n",
              "5   64.40    1.35      0.0\n",
              "6   78.08    1.47      4.3\n",
              "7  102.20    1.00      1.2"
            ]
          },
          "metadata": {
            "tags": []
          },
          "execution_count": 21
        }
      ]
    },
    {
      "cell_type": "code",
      "metadata": {
        "colab": {
          "base_uri": "https://localhost:8080/",
          "height": 294
        },
        "id": "klgQwXNQ5oWU",
        "outputId": "72580e51-c790-4699-dfee-13d5262c6bbf"
      },
      "source": [
        "# For indoors condition\n",
        "df_at_farenheit_indoors = df_at_farenheit\n",
        "df_at_farenheit_indoors['AT(°F)'] = bm.apparent_temperature(df_at_farenheit['T(°F)'],\n",
        "                                                            df_at_farenheit['P(kPa)'],\n",
        "                                                            df_at_farenheit['ws(m/s)'],\n",
        "                                                            condition = 'indoors',\n",
        "                                                            degrees = 'farenheit')\n",
        "df_at_farenheit_indoors"
      ],
      "execution_count": null,
      "outputs": [
        {
          "output_type": "execute_result",
          "data": {
            "text/html": [
              "<div>\n",
              "<style scoped>\n",
              "    .dataframe tbody tr th:only-of-type {\n",
              "        vertical-align: middle;\n",
              "    }\n",
              "\n",
              "    .dataframe tbody tr th {\n",
              "        vertical-align: top;\n",
              "    }\n",
              "\n",
              "    .dataframe thead th {\n",
              "        text-align: right;\n",
              "    }\n",
              "</style>\n",
              "<table border=\"1\" class=\"dataframe\">\n",
              "  <thead>\n",
              "    <tr style=\"text-align: right;\">\n",
              "      <th></th>\n",
              "      <th>T(°F)</th>\n",
              "      <th>P(kPa)</th>\n",
              "      <th>ws(m/s)</th>\n",
              "      <th>AT(°F)</th>\n",
              "    </tr>\n",
              "  </thead>\n",
              "  <tbody>\n",
              "    <tr>\n",
              "      <th>0</th>\n",
              "      <td>-16.60</td>\n",
              "      <td>0.85</td>\n",
              "      <td>0.0</td>\n",
              "      <td>-11.6860</td>\n",
              "    </tr>\n",
              "    <tr>\n",
              "      <th>1</th>\n",
              "      <td>3.92</td>\n",
              "      <td>0.97</td>\n",
              "      <td>2.5</td>\n",
              "      <td>7.6676</td>\n",
              "    </tr>\n",
              "    <tr>\n",
              "      <th>2</th>\n",
              "      <td>25.88</td>\n",
              "      <td>1.05</td>\n",
              "      <td>5.0</td>\n",
              "      <td>28.1876</td>\n",
              "    </tr>\n",
              "    <tr>\n",
              "      <th>3</th>\n",
              "      <td>32.00</td>\n",
              "      <td>1.30</td>\n",
              "      <td>3.0</td>\n",
              "      <td>34.8080</td>\n",
              "    </tr>\n",
              "    <tr>\n",
              "      <th>4</th>\n",
              "      <td>42.44</td>\n",
              "      <td>0.76</td>\n",
              "      <td>0.1</td>\n",
              "      <td>42.2744</td>\n",
              "    </tr>\n",
              "    <tr>\n",
              "      <th>5</th>\n",
              "      <td>64.40</td>\n",
              "      <td>1.35</td>\n",
              "      <td>0.0</td>\n",
              "      <td>64.8140</td>\n",
              "    </tr>\n",
              "    <tr>\n",
              "      <th>6</th>\n",
              "      <td>78.08</td>\n",
              "      <td>1.47</td>\n",
              "      <td>4.3</td>\n",
              "      <td>77.8748</td>\n",
              "    </tr>\n",
              "    <tr>\n",
              "      <th>7</th>\n",
              "      <td>102.20</td>\n",
              "      <td>1.00</td>\n",
              "      <td>1.2</td>\n",
              "      <td>98.2040</td>\n",
              "    </tr>\n",
              "  </tbody>\n",
              "</table>\n",
              "</div>"
            ],
            "text/plain": [
              "    T(°F)  P(kPa)  ws(m/s)   AT(°F)\n",
              "0  -16.60    0.85      0.0 -11.6860\n",
              "1    3.92    0.97      2.5   7.6676\n",
              "2   25.88    1.05      5.0  28.1876\n",
              "3   32.00    1.30      3.0  34.8080\n",
              "4   42.44    0.76      0.1  42.2744\n",
              "5   64.40    1.35      0.0  64.8140\n",
              "6   78.08    1.47      4.3  77.8748\n",
              "7  102.20    1.00      1.2  98.2040"
            ]
          },
          "metadata": {
            "tags": []
          },
          "execution_count": 22
        }
      ]
    },
    {
      "cell_type": "code",
      "metadata": {
        "colab": {
          "base_uri": "https://localhost:8080/",
          "height": 294
        },
        "id": "FPSulcFA6LMJ",
        "outputId": "2720f458-9dd4-44e7-f0ee-24bd9652f200"
      },
      "source": [
        "# For shade condition\n",
        "df_at_farenheit_shade = df_at_farenheit\n",
        "df_at_farenheit_shade['AT(°F)'] = bm.apparent_temperature(df_at_farenheit['T(°F)'],\n",
        "                                                            df_at_farenheit['P(kPa)'],\n",
        "                                                            df_at_farenheit['ws(m/s)'],\n",
        "                                                            condition = 'shade',\n",
        "                                                            degrees = 'farenheit')\n",
        "df_at_farenheit_shade"
      ],
      "execution_count": null,
      "outputs": [
        {
          "output_type": "execute_result",
          "data": {
            "text/html": [
              "<div>\n",
              "<style scoped>\n",
              "    .dataframe tbody tr th:only-of-type {\n",
              "        vertical-align: middle;\n",
              "    }\n",
              "\n",
              "    .dataframe tbody tr th {\n",
              "        vertical-align: top;\n",
              "    }\n",
              "\n",
              "    .dataframe thead th {\n",
              "        text-align: right;\n",
              "    }\n",
              "</style>\n",
              "<table border=\"1\" class=\"dataframe\">\n",
              "  <thead>\n",
              "    <tr style=\"text-align: right;\">\n",
              "      <th></th>\n",
              "      <th>T(°F)</th>\n",
              "      <th>P(kPa)</th>\n",
              "      <th>ws(m/s)</th>\n",
              "      <th>AT(°F)</th>\n",
              "    </tr>\n",
              "  </thead>\n",
              "  <tbody>\n",
              "    <tr>\n",
              "      <th>0</th>\n",
              "      <td>-16.60</td>\n",
              "      <td>0.85</td>\n",
              "      <td>0.0</td>\n",
              "      <td>-20.3440</td>\n",
              "    </tr>\n",
              "    <tr>\n",
              "      <th>1</th>\n",
              "      <td>3.92</td>\n",
              "      <td>0.97</td>\n",
              "      <td>2.5</td>\n",
              "      <td>-1.4962</td>\n",
              "    </tr>\n",
              "    <tr>\n",
              "      <th>2</th>\n",
              "      <td>25.88</td>\n",
              "      <td>1.05</td>\n",
              "      <td>5.0</td>\n",
              "      <td>18.7052</td>\n",
              "    </tr>\n",
              "    <tr>\n",
              "      <th>3</th>\n",
              "      <td>32.00</td>\n",
              "      <td>1.30</td>\n",
              "      <td>3.0</td>\n",
              "      <td>28.3100</td>\n",
              "    </tr>\n",
              "    <tr>\n",
              "      <th>4</th>\n",
              "      <td>42.44</td>\n",
              "      <td>0.76</td>\n",
              "      <td>0.1</td>\n",
              "      <td>40.6166</td>\n",
              "    </tr>\n",
              "    <tr>\n",
              "      <th>5</th>\n",
              "      <td>64.40</td>\n",
              "      <td>1.35</td>\n",
              "      <td>0.0</td>\n",
              "      <td>65.6960</td>\n",
              "    </tr>\n",
              "    <tr>\n",
              "      <th>6</th>\n",
              "      <td>78.08</td>\n",
              "      <td>1.47</td>\n",
              "      <td>4.3</td>\n",
              "      <td>75.3242</td>\n",
              "    </tr>\n",
              "    <tr>\n",
              "      <th>7</th>\n",
              "      <td>102.20</td>\n",
              "      <td>1.00</td>\n",
              "      <td>1.2</td>\n",
              "      <td>102.3440</td>\n",
              "    </tr>\n",
              "  </tbody>\n",
              "</table>\n",
              "</div>"
            ],
            "text/plain": [
              "    T(°F)  P(kPa)  ws(m/s)    AT(°F)\n",
              "0  -16.60    0.85      0.0  -20.3440\n",
              "1    3.92    0.97      2.5   -1.4962\n",
              "2   25.88    1.05      5.0   18.7052\n",
              "3   32.00    1.30      3.0   28.3100\n",
              "4   42.44    0.76      0.1   40.6166\n",
              "5   64.40    1.35      0.0   65.6960\n",
              "6   78.08    1.47      4.3   75.3242\n",
              "7  102.20    1.00      1.2  102.3440"
            ]
          },
          "metadata": {
            "tags": []
          },
          "execution_count": 23
        }
      ]
    },
    {
      "cell_type": "markdown",
      "metadata": {
        "id": "tIvyxCxa6nYl"
      },
      "source": [
        "## **Wind Chill**"
      ]
    },
    {
      "cell_type": "code",
      "metadata": {
        "colab": {
          "base_uri": "https://localhost:8080/",
          "height": 294
        },
        "id": "Fw9AatAWrQdS",
        "outputId": "e7d17a49-385b-4a76-bdb1-945c153f1ced"
      },
      "source": [
        "# Creating a dataframe using metric units\n",
        "data = {'T(°C)': [-27, -15.6, -3.4, 0, 5.8, 18, 25.6, 39],\n",
        "        'ws(m/s)': [0, 2.5, 5, 3, 0.1, 0, 4.3, 1.2]}\n",
        "\n",
        "df_wc = pd.DataFrame(data)\n",
        "\n",
        "# Adding us units columns\n",
        "df_wc['T(°F)'] = bm.celsius_to_farenheit(df_wc['T(°C)'])\n",
        "df_wc['ws(mph)'] = 2.23694*df_wc['ws(m/s)']\n",
        "df_wc"
      ],
      "execution_count": null,
      "outputs": [
        {
          "output_type": "execute_result",
          "data": {
            "text/html": [
              "<div>\n",
              "<style scoped>\n",
              "    .dataframe tbody tr th:only-of-type {\n",
              "        vertical-align: middle;\n",
              "    }\n",
              "\n",
              "    .dataframe tbody tr th {\n",
              "        vertical-align: top;\n",
              "    }\n",
              "\n",
              "    .dataframe thead th {\n",
              "        text-align: right;\n",
              "    }\n",
              "</style>\n",
              "<table border=\"1\" class=\"dataframe\">\n",
              "  <thead>\n",
              "    <tr style=\"text-align: right;\">\n",
              "      <th></th>\n",
              "      <th>T(°C)</th>\n",
              "      <th>ws(m/s)</th>\n",
              "      <th>T(°F)</th>\n",
              "      <th>ws(mph)</th>\n",
              "    </tr>\n",
              "  </thead>\n",
              "  <tbody>\n",
              "    <tr>\n",
              "      <th>0</th>\n",
              "      <td>-27.0</td>\n",
              "      <td>0.0</td>\n",
              "      <td>-16.60</td>\n",
              "      <td>0.000000</td>\n",
              "    </tr>\n",
              "    <tr>\n",
              "      <th>1</th>\n",
              "      <td>-15.6</td>\n",
              "      <td>2.5</td>\n",
              "      <td>3.92</td>\n",
              "      <td>5.592350</td>\n",
              "    </tr>\n",
              "    <tr>\n",
              "      <th>2</th>\n",
              "      <td>-3.4</td>\n",
              "      <td>5.0</td>\n",
              "      <td>25.88</td>\n",
              "      <td>11.184700</td>\n",
              "    </tr>\n",
              "    <tr>\n",
              "      <th>3</th>\n",
              "      <td>0.0</td>\n",
              "      <td>3.0</td>\n",
              "      <td>32.00</td>\n",
              "      <td>6.710820</td>\n",
              "    </tr>\n",
              "    <tr>\n",
              "      <th>4</th>\n",
              "      <td>5.8</td>\n",
              "      <td>0.1</td>\n",
              "      <td>42.44</td>\n",
              "      <td>0.223694</td>\n",
              "    </tr>\n",
              "    <tr>\n",
              "      <th>5</th>\n",
              "      <td>18.0</td>\n",
              "      <td>0.0</td>\n",
              "      <td>64.40</td>\n",
              "      <td>0.000000</td>\n",
              "    </tr>\n",
              "    <tr>\n",
              "      <th>6</th>\n",
              "      <td>25.6</td>\n",
              "      <td>4.3</td>\n",
              "      <td>78.08</td>\n",
              "      <td>9.618842</td>\n",
              "    </tr>\n",
              "    <tr>\n",
              "      <th>7</th>\n",
              "      <td>39.0</td>\n",
              "      <td>1.2</td>\n",
              "      <td>102.20</td>\n",
              "      <td>2.684328</td>\n",
              "    </tr>\n",
              "  </tbody>\n",
              "</table>\n",
              "</div>"
            ],
            "text/plain": [
              "   T(°C)  ws(m/s)   T(°F)    ws(mph)\n",
              "0  -27.0      0.0  -16.60   0.000000\n",
              "1  -15.6      2.5    3.92   5.592350\n",
              "2   -3.4      5.0   25.88  11.184700\n",
              "3    0.0      3.0   32.00   6.710820\n",
              "4    5.8      0.1   42.44   0.223694\n",
              "5   18.0      0.0   64.40   0.000000\n",
              "6   25.6      4.3   78.08   9.618842\n",
              "7   39.0      1.2  102.20   2.684328"
            ]
          },
          "metadata": {
            "tags": []
          },
          "execution_count": 24
        }
      ]
    },
    {
      "cell_type": "markdown",
      "metadata": {
        "id": "9NCOUi3stiFj"
      },
      "source": [
        "Wind speed using the metric units"
      ]
    },
    {
      "cell_type": "code",
      "metadata": {
        "colab": {
          "base_uri": "https://localhost:8080/",
          "height": 294
        },
        "id": "bv-ZtrnTtlP9",
        "outputId": "f8ca58b0-39e7-4091-8719-4a032fe1b65f"
      },
      "source": [
        "# Note that, for the variable 'unit', the defaut is 'metric'\n",
        "df_wc_metric = df_wc.drop(columns = ['T(°F)', 'ws(mph)'])\n",
        "df_wc_metric['WC'] = bm.wind_chill(df_wc_metric['T(°C)'], df_wc_metric['ws(m/s)'])\n",
        "df_wc_metric"
      ],
      "execution_count": null,
      "outputs": [
        {
          "output_type": "execute_result",
          "data": {
            "text/html": [
              "<div>\n",
              "<style scoped>\n",
              "    .dataframe tbody tr th:only-of-type {\n",
              "        vertical-align: middle;\n",
              "    }\n",
              "\n",
              "    .dataframe tbody tr th {\n",
              "        vertical-align: top;\n",
              "    }\n",
              "\n",
              "    .dataframe thead th {\n",
              "        text-align: right;\n",
              "    }\n",
              "</style>\n",
              "<table border=\"1\" class=\"dataframe\">\n",
              "  <thead>\n",
              "    <tr style=\"text-align: right;\">\n",
              "      <th></th>\n",
              "      <th>T(°C)</th>\n",
              "      <th>ws(m/s)</th>\n",
              "      <th>WC</th>\n",
              "    </tr>\n",
              "  </thead>\n",
              "  <tbody>\n",
              "    <tr>\n",
              "      <th>0</th>\n",
              "      <td>-27.0</td>\n",
              "      <td>0.0</td>\n",
              "      <td>-25.050000</td>\n",
              "    </tr>\n",
              "    <tr>\n",
              "      <th>1</th>\n",
              "      <td>-15.6</td>\n",
              "      <td>2.5</td>\n",
              "      <td>-17.427000</td>\n",
              "    </tr>\n",
              "    <tr>\n",
              "      <th>2</th>\n",
              "      <td>-3.4</td>\n",
              "      <td>5.0</td>\n",
              "      <td>-7.736500</td>\n",
              "    </tr>\n",
              "    <tr>\n",
              "      <th>3</th>\n",
              "      <td>0.0</td>\n",
              "      <td>3.0</td>\n",
              "      <td>-1.964400</td>\n",
              "    </tr>\n",
              "    <tr>\n",
              "      <th>4</th>\n",
              "      <td>5.8</td>\n",
              "      <td>0.1</td>\n",
              "      <td>6.988654</td>\n",
              "    </tr>\n",
              "    <tr>\n",
              "      <th>5</th>\n",
              "      <td>18.0</td>\n",
              "      <td>0.0</td>\n",
              "      <td>19.050000</td>\n",
              "    </tr>\n",
              "    <tr>\n",
              "      <th>6</th>\n",
              "      <td>25.6</td>\n",
              "      <td>4.3</td>\n",
              "      <td>23.767156</td>\n",
              "    </tr>\n",
              "    <tr>\n",
              "      <th>7</th>\n",
              "      <td>39.0</td>\n",
              "      <td>1.2</td>\n",
              "      <td>39.119256</td>\n",
              "    </tr>\n",
              "  </tbody>\n",
              "</table>\n",
              "</div>"
            ],
            "text/plain": [
              "   T(°C)  ws(m/s)         WC\n",
              "0  -27.0      0.0 -25.050000\n",
              "1  -15.6      2.5 -17.427000\n",
              "2   -3.4      5.0  -7.736500\n",
              "3    0.0      3.0  -1.964400\n",
              "4    5.8      0.1   6.988654\n",
              "5   18.0      0.0  19.050000\n",
              "6   25.6      4.3  23.767156\n",
              "7   39.0      1.2  39.119256"
            ]
          },
          "metadata": {
            "tags": []
          },
          "execution_count": 25
        }
      ]
    },
    {
      "cell_type": "markdown",
      "metadata": {
        "id": "MzxykkPquUC4"
      },
      "source": [
        "Wind speed using the us units"
      ]
    },
    {
      "cell_type": "code",
      "metadata": {
        "colab": {
          "base_uri": "https://localhost:8080/",
          "height": 294
        },
        "id": "f8r5vSKZuZRT",
        "outputId": "5d5c073a-820d-4db6-c1ea-e6999967cee8"
      },
      "source": [
        "df_wc_us = df_wc.drop(columns = ['T(°C)', 'ws(m/s)'])\n",
        "df_wc_us['WC'] = bm.wind_chill(df_wc_us['T(°F)'], df_wc_us['ws(mph)'], unit = 'us')\n",
        "df_wc_us"
      ],
      "execution_count": null,
      "outputs": [
        {
          "output_type": "execute_result",
          "data": {
            "text/html": [
              "<div>\n",
              "<style scoped>\n",
              "    .dataframe tbody tr th:only-of-type {\n",
              "        vertical-align: middle;\n",
              "    }\n",
              "\n",
              "    .dataframe tbody tr th {\n",
              "        vertical-align: top;\n",
              "    }\n",
              "\n",
              "    .dataframe thead th {\n",
              "        text-align: right;\n",
              "    }\n",
              "</style>\n",
              "<table border=\"1\" class=\"dataframe\">\n",
              "  <thead>\n",
              "    <tr style=\"text-align: right;\">\n",
              "      <th></th>\n",
              "      <th>T(°F)</th>\n",
              "      <th>ws(mph)</th>\n",
              "      <th>WC</th>\n",
              "    </tr>\n",
              "  </thead>\n",
              "  <tbody>\n",
              "    <tr>\n",
              "      <th>0</th>\n",
              "      <td>-16.60</td>\n",
              "      <td>0.000000</td>\n",
              "      <td>-13.108000</td>\n",
              "    </tr>\n",
              "    <tr>\n",
              "      <th>1</th>\n",
              "      <td>3.92</td>\n",
              "      <td>5.592350</td>\n",
              "      <td>0.610340</td>\n",
              "    </tr>\n",
              "    <tr>\n",
              "      <th>2</th>\n",
              "      <td>25.88</td>\n",
              "      <td>11.184700</td>\n",
              "      <td>18.053707</td>\n",
              "    </tr>\n",
              "    <tr>\n",
              "      <th>3</th>\n",
              "      <td>32.00</td>\n",
              "      <td>6.710820</td>\n",
              "      <td>28.447564</td>\n",
              "    </tr>\n",
              "    <tr>\n",
              "      <th>4</th>\n",
              "      <td>42.44</td>\n",
              "      <td>0.223694</td>\n",
              "      <td>44.561784</td>\n",
              "    </tr>\n",
              "    <tr>\n",
              "      <th>5</th>\n",
              "      <td>64.40</td>\n",
              "      <td>0.000000</td>\n",
              "      <td>66.272000</td>\n",
              "    </tr>\n",
              "    <tr>\n",
              "      <th>6</th>\n",
              "      <td>78.08</td>\n",
              "      <td>9.618842</td>\n",
              "      <td>74.776512</td>\n",
              "    </tr>\n",
              "    <tr>\n",
              "      <th>7</th>\n",
              "      <td>102.20</td>\n",
              "      <td>2.684328</td>\n",
              "      <td>102.403519</td>\n",
              "    </tr>\n",
              "  </tbody>\n",
              "</table>\n",
              "</div>"
            ],
            "text/plain": [
              "    T(°F)    ws(mph)          WC\n",
              "0  -16.60   0.000000  -13.108000\n",
              "1    3.92   5.592350    0.610340\n",
              "2   25.88  11.184700   18.053707\n",
              "3   32.00   6.710820   28.447564\n",
              "4   42.44   0.223694   44.561784\n",
              "5   64.40   0.000000   66.272000\n",
              "6   78.08   9.618842   74.776512\n",
              "7  102.20   2.684328  102.403519"
            ]
          },
          "metadata": {
            "tags": []
          },
          "execution_count": 26
        }
      ]
    },
    {
      "cell_type": "markdown",
      "metadata": {
        "id": "FKEpIvNaDVgV"
      },
      "source": [
        "## **Wind Chill Canada**"
      ]
    },
    {
      "cell_type": "markdown",
      "metadata": {
        "id": "obyqBRs3xbeJ"
      },
      "source": [
        "This is a different wind chill formula based on the Environment Canada's studies"
      ]
    },
    {
      "cell_type": "code",
      "metadata": {
        "colab": {
          "base_uri": "https://localhost:8080/",
          "height": 294
        },
        "id": "vzSUVAhexFJk",
        "outputId": "5a4d7746-5fdd-477d-9886-925e84e2ae67"
      },
      "source": [
        "# Creating a generic dataframe with temperature and wind speed\n",
        "data = {'T(°C)': [-27, -15.6, -3.4, 0, 5.8, 18, 25.6, 39],\n",
        "        'ws(m/s)': [0, 2.5, 5, 3, 0.1, 0, 4.3, 1.2]}\n",
        "\n",
        "df_wc_canada = pd.DataFrame(data)\n",
        "df_wc_canada"
      ],
      "execution_count": null,
      "outputs": [
        {
          "output_type": "execute_result",
          "data": {
            "text/html": [
              "<div>\n",
              "<style scoped>\n",
              "    .dataframe tbody tr th:only-of-type {\n",
              "        vertical-align: middle;\n",
              "    }\n",
              "\n",
              "    .dataframe tbody tr th {\n",
              "        vertical-align: top;\n",
              "    }\n",
              "\n",
              "    .dataframe thead th {\n",
              "        text-align: right;\n",
              "    }\n",
              "</style>\n",
              "<table border=\"1\" class=\"dataframe\">\n",
              "  <thead>\n",
              "    <tr style=\"text-align: right;\">\n",
              "      <th></th>\n",
              "      <th>T(°C)</th>\n",
              "      <th>ws(m/s)</th>\n",
              "    </tr>\n",
              "  </thead>\n",
              "  <tbody>\n",
              "    <tr>\n",
              "      <th>0</th>\n",
              "      <td>-27.0</td>\n",
              "      <td>0.0</td>\n",
              "    </tr>\n",
              "    <tr>\n",
              "      <th>1</th>\n",
              "      <td>-15.6</td>\n",
              "      <td>2.5</td>\n",
              "    </tr>\n",
              "    <tr>\n",
              "      <th>2</th>\n",
              "      <td>-3.4</td>\n",
              "      <td>5.0</td>\n",
              "    </tr>\n",
              "    <tr>\n",
              "      <th>3</th>\n",
              "      <td>0.0</td>\n",
              "      <td>3.0</td>\n",
              "    </tr>\n",
              "    <tr>\n",
              "      <th>4</th>\n",
              "      <td>5.8</td>\n",
              "      <td>0.1</td>\n",
              "    </tr>\n",
              "    <tr>\n",
              "      <th>5</th>\n",
              "      <td>18.0</td>\n",
              "      <td>0.0</td>\n",
              "    </tr>\n",
              "    <tr>\n",
              "      <th>6</th>\n",
              "      <td>25.6</td>\n",
              "      <td>4.3</td>\n",
              "    </tr>\n",
              "    <tr>\n",
              "      <th>7</th>\n",
              "      <td>39.0</td>\n",
              "      <td>1.2</td>\n",
              "    </tr>\n",
              "  </tbody>\n",
              "</table>\n",
              "</div>"
            ],
            "text/plain": [
              "   T(°C)  ws(m/s)\n",
              "0  -27.0      0.0\n",
              "1  -15.6      2.5\n",
              "2   -3.4      5.0\n",
              "3    0.0      3.0\n",
              "4    5.8      0.1\n",
              "5   18.0      0.0\n",
              "6   25.6      4.3\n",
              "7   39.0      1.2"
            ]
          },
          "metadata": {
            "tags": []
          },
          "execution_count": 44
        }
      ]
    },
    {
      "cell_type": "markdown",
      "metadata": {
        "id": "u5VO5hCMxzzB"
      },
      "source": [
        "For this formula, it's only required the temperature in degrees celsius and the wind speed in m/s"
      ]
    },
    {
      "cell_type": "code",
      "metadata": {
        "id": "79oSqxw0x8ak",
        "colab": {
          "base_uri": "https://localhost:8080/",
          "height": 363
        },
        "outputId": "950bde5f-937f-4662-a3f1-39e397a4d32b"
      },
      "source": [
        "# Note that, for this particular index, the calculation is only applied to negative temperature values\n",
        "# If there's a value greater than 0°C, the program will print the following sentences and recommendations\n",
        "# Note that the program will print a list of the index in which the Wind Chill Canada is not available (NA)\n",
        "df_wc_canada['WC-Canada'] = bm.wind_chill_canada(df_wc_canada['T(°C)'], df_wc_canada['ws(m/s)'])\n",
        "df_wc_canada"
      ],
      "execution_count": null,
      "outputs": [
        {
          "output_type": "stream",
          "text": [
            "For the following lines, one or more parameters out of the due range:\n",
            " [4, 5, 6, 7]\n",
            "Check if the air temperature is bellow 0°C and if the wind speed is a positive number.\n",
            "Recommendation: try to use the regular 'wind_chill' formula.\n"
          ],
          "name": "stdout"
        },
        {
          "output_type": "execute_result",
          "data": {
            "text/html": [
              "<div>\n",
              "<style scoped>\n",
              "    .dataframe tbody tr th:only-of-type {\n",
              "        vertical-align: middle;\n",
              "    }\n",
              "\n",
              "    .dataframe tbody tr th {\n",
              "        vertical-align: top;\n",
              "    }\n",
              "\n",
              "    .dataframe thead th {\n",
              "        text-align: right;\n",
              "    }\n",
              "</style>\n",
              "<table border=\"1\" class=\"dataframe\">\n",
              "  <thead>\n",
              "    <tr style=\"text-align: right;\">\n",
              "      <th></th>\n",
              "      <th>T(°C)</th>\n",
              "      <th>ws(m/s)</th>\n",
              "      <th>WC-Canada</th>\n",
              "    </tr>\n",
              "  </thead>\n",
              "  <tbody>\n",
              "    <tr>\n",
              "      <th>0</th>\n",
              "      <td>-27.0</td>\n",
              "      <td>0.0</td>\n",
              "      <td>-27.0</td>\n",
              "    </tr>\n",
              "    <tr>\n",
              "      <th>1</th>\n",
              "      <td>-15.6</td>\n",
              "      <td>2.5</td>\n",
              "      <td>-17.4441</td>\n",
              "    </tr>\n",
              "    <tr>\n",
              "      <th>2</th>\n",
              "      <td>-3.4</td>\n",
              "      <td>5.0</td>\n",
              "      <td>-5.446567</td>\n",
              "    </tr>\n",
              "    <tr>\n",
              "      <th>3</th>\n",
              "      <td>0.0</td>\n",
              "      <td>3.0</td>\n",
              "      <td>-0.954</td>\n",
              "    </tr>\n",
              "    <tr>\n",
              "      <th>4</th>\n",
              "      <td>5.8</td>\n",
              "      <td>0.1</td>\n",
              "      <td>NA</td>\n",
              "    </tr>\n",
              "    <tr>\n",
              "      <th>5</th>\n",
              "      <td>18.0</td>\n",
              "      <td>0.0</td>\n",
              "      <td>NA</td>\n",
              "    </tr>\n",
              "    <tr>\n",
              "      <th>6</th>\n",
              "      <td>25.6</td>\n",
              "      <td>4.3</td>\n",
              "      <td>NA</td>\n",
              "    </tr>\n",
              "    <tr>\n",
              "      <th>7</th>\n",
              "      <td>39.0</td>\n",
              "      <td>1.2</td>\n",
              "      <td>NA</td>\n",
              "    </tr>\n",
              "  </tbody>\n",
              "</table>\n",
              "</div>"
            ],
            "text/plain": [
              "   T(°C)  ws(m/s)  WC-Canada\n",
              "0  -27.0      0.0      -27.0\n",
              "1  -15.6      2.5   -17.4441\n",
              "2   -3.4      5.0  -5.446567\n",
              "3    0.0      3.0     -0.954\n",
              "4    5.8      0.1         NA\n",
              "5   18.0      0.0         NA\n",
              "6   25.6      4.3         NA\n",
              "7   39.0      1.2         NA"
            ]
          },
          "metadata": {
            "tags": []
          },
          "execution_count": 45
        }
      ]
    },
    {
      "cell_type": "code",
      "metadata": {
        "colab": {
          "base_uri": "https://localhost:8080/",
          "height": 171
        },
        "id": "8-ZqVjq2zOz1",
        "outputId": "3d3a68bf-d105-49ce-8dcc-05ab5a85b4c5"
      },
      "source": [
        "# To overcome this problem, we can filter the dataframe with only the negative values\n",
        "data = {'T(°C)': [-27, -15.6, -3.4, 0, 5.8, 18, 25.6, 39],\n",
        "        'ws(m/s)': [0, 2.5, 5, 3, 0.1, 0, 4.3, 1.2]}\n",
        "\n",
        "df_wc_canada = pd.DataFrame(data)\n",
        "df_wc_canada = df_wc_canada[df_wc_canada['T(°C)'] <= 0]\n",
        "df_wc_canada['WC-Canada'] = bm.wind_chill_canada(df_wc_canada['T(°C)'], df_wc_canada['ws(m/s)'])\n",
        "df_wc_canada"
      ],
      "execution_count": null,
      "outputs": [
        {
          "output_type": "execute_result",
          "data": {
            "text/html": [
              "<div>\n",
              "<style scoped>\n",
              "    .dataframe tbody tr th:only-of-type {\n",
              "        vertical-align: middle;\n",
              "    }\n",
              "\n",
              "    .dataframe tbody tr th {\n",
              "        vertical-align: top;\n",
              "    }\n",
              "\n",
              "    .dataframe thead th {\n",
              "        text-align: right;\n",
              "    }\n",
              "</style>\n",
              "<table border=\"1\" class=\"dataframe\">\n",
              "  <thead>\n",
              "    <tr style=\"text-align: right;\">\n",
              "      <th></th>\n",
              "      <th>T(°C)</th>\n",
              "      <th>ws(m/s)</th>\n",
              "      <th>WC-Canada</th>\n",
              "    </tr>\n",
              "  </thead>\n",
              "  <tbody>\n",
              "    <tr>\n",
              "      <th>0</th>\n",
              "      <td>-27.0</td>\n",
              "      <td>0.0</td>\n",
              "      <td>-27.000000</td>\n",
              "    </tr>\n",
              "    <tr>\n",
              "      <th>1</th>\n",
              "      <td>-15.6</td>\n",
              "      <td>2.5</td>\n",
              "      <td>-17.444100</td>\n",
              "    </tr>\n",
              "    <tr>\n",
              "      <th>2</th>\n",
              "      <td>-3.4</td>\n",
              "      <td>5.0</td>\n",
              "      <td>-5.446567</td>\n",
              "    </tr>\n",
              "    <tr>\n",
              "      <th>3</th>\n",
              "      <td>0.0</td>\n",
              "      <td>3.0</td>\n",
              "      <td>-0.954000</td>\n",
              "    </tr>\n",
              "  </tbody>\n",
              "</table>\n",
              "</div>"
            ],
            "text/plain": [
              "   T(°C)  ws(m/s)  WC-Canada\n",
              "0  -27.0      0.0 -27.000000\n",
              "1  -15.6      2.5 -17.444100\n",
              "2   -3.4      5.0  -5.446567\n",
              "3    0.0      3.0  -0.954000"
            ]
          },
          "metadata": {
            "tags": []
          },
          "execution_count": 46
        }
      ]
    },
    {
      "cell_type": "markdown",
      "metadata": {
        "id": "ZGxSaGgpDZ5P"
      },
      "source": [
        "## **Heat Index**"
      ]
    },
    {
      "cell_type": "code",
      "metadata": {
        "colab": {
          "base_uri": "https://localhost:8080/",
          "height": 294
        },
        "id": "j8CjdORbyyF0",
        "outputId": "8fbaba15-3690-4feb-a185-54a45d61d57b"
      },
      "source": [
        "# Creating a generic dataframe with temperature and relative humidity\n",
        "data = {'T(°C)': [-27, -15.6, -3.4, 0, 5.8, 18, 25.6, 39],\n",
        "        'RH(%)': [60, 88, 93.4, 95.6, 100, 25, 34.4, 74]}\n",
        "\n",
        "df_hi = pd.DataFrame(data)\n",
        "df_hi['T(°F)'] = bm.celsius_to_farenheit(df_hi['T(°C)'])\n",
        "df_hi = df_hi[['T(°C)', 'T(°F)', 'RH(%)']]\n",
        "df_hi"
      ],
      "execution_count": null,
      "outputs": [
        {
          "output_type": "execute_result",
          "data": {
            "text/html": [
              "<div>\n",
              "<style scoped>\n",
              "    .dataframe tbody tr th:only-of-type {\n",
              "        vertical-align: middle;\n",
              "    }\n",
              "\n",
              "    .dataframe tbody tr th {\n",
              "        vertical-align: top;\n",
              "    }\n",
              "\n",
              "    .dataframe thead th {\n",
              "        text-align: right;\n",
              "    }\n",
              "</style>\n",
              "<table border=\"1\" class=\"dataframe\">\n",
              "  <thead>\n",
              "    <tr style=\"text-align: right;\">\n",
              "      <th></th>\n",
              "      <th>T(°C)</th>\n",
              "      <th>T(°F)</th>\n",
              "      <th>RH(%)</th>\n",
              "    </tr>\n",
              "  </thead>\n",
              "  <tbody>\n",
              "    <tr>\n",
              "      <th>0</th>\n",
              "      <td>-27.0</td>\n",
              "      <td>-16.60</td>\n",
              "      <td>60.0</td>\n",
              "    </tr>\n",
              "    <tr>\n",
              "      <th>1</th>\n",
              "      <td>-15.6</td>\n",
              "      <td>3.92</td>\n",
              "      <td>88.0</td>\n",
              "    </tr>\n",
              "    <tr>\n",
              "      <th>2</th>\n",
              "      <td>-3.4</td>\n",
              "      <td>25.88</td>\n",
              "      <td>93.4</td>\n",
              "    </tr>\n",
              "    <tr>\n",
              "      <th>3</th>\n",
              "      <td>0.0</td>\n",
              "      <td>32.00</td>\n",
              "      <td>95.6</td>\n",
              "    </tr>\n",
              "    <tr>\n",
              "      <th>4</th>\n",
              "      <td>5.8</td>\n",
              "      <td>42.44</td>\n",
              "      <td>100.0</td>\n",
              "    </tr>\n",
              "    <tr>\n",
              "      <th>5</th>\n",
              "      <td>18.0</td>\n",
              "      <td>64.40</td>\n",
              "      <td>25.0</td>\n",
              "    </tr>\n",
              "    <tr>\n",
              "      <th>6</th>\n",
              "      <td>25.6</td>\n",
              "      <td>78.08</td>\n",
              "      <td>34.4</td>\n",
              "    </tr>\n",
              "    <tr>\n",
              "      <th>7</th>\n",
              "      <td>39.0</td>\n",
              "      <td>102.20</td>\n",
              "      <td>74.0</td>\n",
              "    </tr>\n",
              "  </tbody>\n",
              "</table>\n",
              "</div>"
            ],
            "text/plain": [
              "   T(°C)   T(°F)  RH(%)\n",
              "0  -27.0  -16.60   60.0\n",
              "1  -15.6    3.92   88.0\n",
              "2   -3.4   25.88   93.4\n",
              "3    0.0   32.00   95.6\n",
              "4    5.8   42.44  100.0\n",
              "5   18.0   64.40   25.0\n",
              "6   25.6   78.08   34.4\n",
              "7   39.0  102.20   74.0"
            ]
          },
          "metadata": {
            "tags": []
          },
          "execution_count": 27
        }
      ]
    },
    {
      "cell_type": "markdown",
      "metadata": {
        "id": "KkHvHT5WzFRY"
      },
      "source": [
        "Heat index using celsius as the temperature degree unit"
      ]
    },
    {
      "cell_type": "code",
      "metadata": {
        "colab": {
          "base_uri": "https://localhost:8080/",
          "height": 294
        },
        "id": "7vDkk1JHzLN9",
        "outputId": "4286f9a9-b8d4-47d9-f5ec-b9563d1089ac"
      },
      "source": [
        "# Note that, for the variable 'degree', the defaut value is 'celsius'\n",
        "df_hi_celsius = df_hi.drop(columns = 'T(°F)')\n",
        "df_hi_celsius['HI'] = bm.heat_index(df_hi_celsius['T(°C)'], df_hi_celsius['RH(%)'])\n",
        "df_hi_celsius"
      ],
      "execution_count": null,
      "outputs": [
        {
          "output_type": "execute_result",
          "data": {
            "text/html": [
              "<div>\n",
              "<style scoped>\n",
              "    .dataframe tbody tr th:only-of-type {\n",
              "        vertical-align: middle;\n",
              "    }\n",
              "\n",
              "    .dataframe tbody tr th {\n",
              "        vertical-align: top;\n",
              "    }\n",
              "\n",
              "    .dataframe thead th {\n",
              "        text-align: right;\n",
              "    }\n",
              "</style>\n",
              "<table border=\"1\" class=\"dataframe\">\n",
              "  <thead>\n",
              "    <tr style=\"text-align: right;\">\n",
              "      <th></th>\n",
              "      <th>T(°C)</th>\n",
              "      <th>RH(%)</th>\n",
              "      <th>HI</th>\n",
              "    </tr>\n",
              "  </thead>\n",
              "  <tbody>\n",
              "    <tr>\n",
              "      <th>0</th>\n",
              "      <td>-27.0</td>\n",
              "      <td>60.0</td>\n",
              "      <td>-27.0000</td>\n",
              "    </tr>\n",
              "    <tr>\n",
              "      <th>1</th>\n",
              "      <td>-15.6</td>\n",
              "      <td>88.0</td>\n",
              "      <td>-15.6000</td>\n",
              "    </tr>\n",
              "    <tr>\n",
              "      <th>2</th>\n",
              "      <td>-3.4</td>\n",
              "      <td>93.4</td>\n",
              "      <td>-3.4000</td>\n",
              "    </tr>\n",
              "    <tr>\n",
              "      <th>3</th>\n",
              "      <td>0.0</td>\n",
              "      <td>95.6</td>\n",
              "      <td>0.0000</td>\n",
              "    </tr>\n",
              "    <tr>\n",
              "      <th>4</th>\n",
              "      <td>5.8</td>\n",
              "      <td>100.0</td>\n",
              "      <td>5.0467</td>\n",
              "    </tr>\n",
              "    <tr>\n",
              "      <th>5</th>\n",
              "      <td>18.0</td>\n",
              "      <td>25.0</td>\n",
              "      <td>16.5083</td>\n",
              "    </tr>\n",
              "    <tr>\n",
              "      <th>6</th>\n",
              "      <td>25.6</td>\n",
              "      <td>34.4</td>\n",
              "      <td>25.1138</td>\n",
              "    </tr>\n",
              "    <tr>\n",
              "      <th>7</th>\n",
              "      <td>39.0</td>\n",
              "      <td>74.0</td>\n",
              "      <td>70.7954</td>\n",
              "    </tr>\n",
              "  </tbody>\n",
              "</table>\n",
              "</div>"
            ],
            "text/plain": [
              "   T(°C)  RH(%)       HI\n",
              "0  -27.0   60.0 -27.0000\n",
              "1  -15.6   88.0 -15.6000\n",
              "2   -3.4   93.4  -3.4000\n",
              "3    0.0   95.6   0.0000\n",
              "4    5.8  100.0   5.0467\n",
              "5   18.0   25.0  16.5083\n",
              "6   25.6   34.4  25.1138\n",
              "7   39.0   74.0  70.7954"
            ]
          },
          "metadata": {
            "tags": []
          },
          "execution_count": 28
        }
      ]
    },
    {
      "cell_type": "markdown",
      "metadata": {
        "id": "ndd3003az4TD"
      },
      "source": [
        "Heat index using farenheit as the temperature degree unit"
      ]
    },
    {
      "cell_type": "code",
      "metadata": {
        "colab": {
          "base_uri": "https://localhost:8080/",
          "height": 294
        },
        "id": "fKRUNsz8z9an",
        "outputId": "f286b09c-2562-44b1-dfbb-9071ea9ee16a"
      },
      "source": [
        "# Now, for farenheit units\n",
        "df_hi_farenheit = df_hi.drop(columns = 'T(°C)')\n",
        "df_hi_farenheit['HI'] = bm.heat_index(df_hi_farenheit['T(°F)'], df_hi_farenheit['RH(%)'],\n",
        "                                      degrees = 'farenheit')\n",
        "df_hi_farenheit"
      ],
      "execution_count": null,
      "outputs": [
        {
          "output_type": "execute_result",
          "data": {
            "text/html": [
              "<div>\n",
              "<style scoped>\n",
              "    .dataframe tbody tr th:only-of-type {\n",
              "        vertical-align: middle;\n",
              "    }\n",
              "\n",
              "    .dataframe tbody tr th {\n",
              "        vertical-align: top;\n",
              "    }\n",
              "\n",
              "    .dataframe thead th {\n",
              "        text-align: right;\n",
              "    }\n",
              "</style>\n",
              "<table border=\"1\" class=\"dataframe\">\n",
              "  <thead>\n",
              "    <tr style=\"text-align: right;\">\n",
              "      <th></th>\n",
              "      <th>T(°F)</th>\n",
              "      <th>RH(%)</th>\n",
              "      <th>HI</th>\n",
              "    </tr>\n",
              "  </thead>\n",
              "  <tbody>\n",
              "    <tr>\n",
              "      <th>0</th>\n",
              "      <td>-16.60</td>\n",
              "      <td>60.0</td>\n",
              "      <td>-16.600000</td>\n",
              "    </tr>\n",
              "    <tr>\n",
              "      <th>1</th>\n",
              "      <td>3.92</td>\n",
              "      <td>88.0</td>\n",
              "      <td>3.920000</td>\n",
              "    </tr>\n",
              "    <tr>\n",
              "      <th>2</th>\n",
              "      <td>25.88</td>\n",
              "      <td>93.4</td>\n",
              "      <td>25.880000</td>\n",
              "    </tr>\n",
              "    <tr>\n",
              "      <th>3</th>\n",
              "      <td>32.00</td>\n",
              "      <td>95.6</td>\n",
              "      <td>32.000000</td>\n",
              "    </tr>\n",
              "    <tr>\n",
              "      <th>4</th>\n",
              "      <td>42.44</td>\n",
              "      <td>100.0</td>\n",
              "      <td>41.084000</td>\n",
              "    </tr>\n",
              "    <tr>\n",
              "      <th>5</th>\n",
              "      <td>64.40</td>\n",
              "      <td>25.0</td>\n",
              "      <td>61.715000</td>\n",
              "    </tr>\n",
              "    <tr>\n",
              "      <th>6</th>\n",
              "      <td>78.08</td>\n",
              "      <td>34.4</td>\n",
              "      <td>77.204800</td>\n",
              "    </tr>\n",
              "    <tr>\n",
              "      <th>7</th>\n",
              "      <td>102.20</td>\n",
              "      <td>74.0</td>\n",
              "      <td>159.431649</td>\n",
              "    </tr>\n",
              "  </tbody>\n",
              "</table>\n",
              "</div>"
            ],
            "text/plain": [
              "    T(°F)  RH(%)          HI\n",
              "0  -16.60   60.0  -16.600000\n",
              "1    3.92   88.0    3.920000\n",
              "2   25.88   93.4   25.880000\n",
              "3   32.00   95.6   32.000000\n",
              "4   42.44  100.0   41.084000\n",
              "5   64.40   25.0   61.715000\n",
              "6   78.08   34.4   77.204800\n",
              "7  102.20   74.0  159.431649"
            ]
          },
          "metadata": {
            "tags": []
          },
          "execution_count": 29
        }
      ]
    },
    {
      "cell_type": "markdown",
      "metadata": {
        "id": "DvGAsGkPDfFK"
      },
      "source": [
        "## **Thom Discomfort Index**"
      ]
    },
    {
      "cell_type": "code",
      "metadata": {
        "colab": {
          "base_uri": "https://localhost:8080/",
          "height": 294
        },
        "id": "mDAcncd21vZY",
        "outputId": "d7a22491-154b-4c50-b04c-493e30e05146"
      },
      "source": [
        "# Creating a generic dataframe with temperature and relative humidity\n",
        "data = {'T(°C)': [-27, -15.6, -3.4, 0, 5.8, 18, 25.6, 39],\n",
        "        'RH(%)': [60, 88, 93.4, 95.6, 100, 25, 34.4, 74]}\n",
        "\n",
        "df_di = pd.DataFrame(data)\n",
        "df_di['T(°F)'] = bm.celsius_to_farenheit(df_di['T(°C)'])\n",
        "df_di = df_di[['T(°C)', 'T(°F)', 'RH(%)']]\n",
        "df_di"
      ],
      "execution_count": null,
      "outputs": [
        {
          "output_type": "execute_result",
          "data": {
            "text/html": [
              "<div>\n",
              "<style scoped>\n",
              "    .dataframe tbody tr th:only-of-type {\n",
              "        vertical-align: middle;\n",
              "    }\n",
              "\n",
              "    .dataframe tbody tr th {\n",
              "        vertical-align: top;\n",
              "    }\n",
              "\n",
              "    .dataframe thead th {\n",
              "        text-align: right;\n",
              "    }\n",
              "</style>\n",
              "<table border=\"1\" class=\"dataframe\">\n",
              "  <thead>\n",
              "    <tr style=\"text-align: right;\">\n",
              "      <th></th>\n",
              "      <th>T(°C)</th>\n",
              "      <th>T(°F)</th>\n",
              "      <th>RH(%)</th>\n",
              "    </tr>\n",
              "  </thead>\n",
              "  <tbody>\n",
              "    <tr>\n",
              "      <th>0</th>\n",
              "      <td>-27.0</td>\n",
              "      <td>-16.60</td>\n",
              "      <td>60.0</td>\n",
              "    </tr>\n",
              "    <tr>\n",
              "      <th>1</th>\n",
              "      <td>-15.6</td>\n",
              "      <td>3.92</td>\n",
              "      <td>88.0</td>\n",
              "    </tr>\n",
              "    <tr>\n",
              "      <th>2</th>\n",
              "      <td>-3.4</td>\n",
              "      <td>25.88</td>\n",
              "      <td>93.4</td>\n",
              "    </tr>\n",
              "    <tr>\n",
              "      <th>3</th>\n",
              "      <td>0.0</td>\n",
              "      <td>32.00</td>\n",
              "      <td>95.6</td>\n",
              "    </tr>\n",
              "    <tr>\n",
              "      <th>4</th>\n",
              "      <td>5.8</td>\n",
              "      <td>42.44</td>\n",
              "      <td>100.0</td>\n",
              "    </tr>\n",
              "    <tr>\n",
              "      <th>5</th>\n",
              "      <td>18.0</td>\n",
              "      <td>64.40</td>\n",
              "      <td>25.0</td>\n",
              "    </tr>\n",
              "    <tr>\n",
              "      <th>6</th>\n",
              "      <td>25.6</td>\n",
              "      <td>78.08</td>\n",
              "      <td>34.4</td>\n",
              "    </tr>\n",
              "    <tr>\n",
              "      <th>7</th>\n",
              "      <td>39.0</td>\n",
              "      <td>102.20</td>\n",
              "      <td>74.0</td>\n",
              "    </tr>\n",
              "  </tbody>\n",
              "</table>\n",
              "</div>"
            ],
            "text/plain": [
              "   T(°C)   T(°F)  RH(%)\n",
              "0  -27.0  -16.60   60.0\n",
              "1  -15.6    3.92   88.0\n",
              "2   -3.4   25.88   93.4\n",
              "3    0.0   32.00   95.6\n",
              "4    5.8   42.44  100.0\n",
              "5   18.0   64.40   25.0\n",
              "6   25.6   78.08   34.4\n",
              "7   39.0  102.20   74.0"
            ]
          },
          "metadata": {
            "tags": []
          },
          "execution_count": 30
        }
      ]
    },
    {
      "cell_type": "markdown",
      "metadata": {
        "id": "_k9wYfO12Tc_"
      },
      "source": [
        "Thom discomfort index using celsius as the degree unit"
      ]
    },
    {
      "cell_type": "code",
      "metadata": {
        "colab": {
          "base_uri": "https://localhost:8080/",
          "height": 294
        },
        "id": "0p4dYxbI2Yea",
        "outputId": "7c737fde-f1af-44ac-ce19-21e5350ba028"
      },
      "source": [
        "# Note that, for the variable 'degree', the defaut value is 'celsius'\n",
        "df_di_celsius = df_di.drop(columns = ['T(°F)'])\n",
        "df_di_celsius['TDI'] = bm.discomfort_index(df_di_celsius['T(°C)'], df_di_celsius['RH(%)'])\n",
        "df_di_celsius"
      ],
      "execution_count": null,
      "outputs": [
        {
          "output_type": "execute_result",
          "data": {
            "text/html": [
              "<div>\n",
              "<style scoped>\n",
              "    .dataframe tbody tr th:only-of-type {\n",
              "        vertical-align: middle;\n",
              "    }\n",
              "\n",
              "    .dataframe tbody tr th {\n",
              "        vertical-align: top;\n",
              "    }\n",
              "\n",
              "    .dataframe thead th {\n",
              "        text-align: right;\n",
              "    }\n",
              "</style>\n",
              "<table border=\"1\" class=\"dataframe\">\n",
              "  <thead>\n",
              "    <tr style=\"text-align: right;\">\n",
              "      <th></th>\n",
              "      <th>T(°C)</th>\n",
              "      <th>RH(%)</th>\n",
              "      <th>TDI</th>\n",
              "    </tr>\n",
              "  </thead>\n",
              "  <tbody>\n",
              "    <tr>\n",
              "      <th>0</th>\n",
              "      <td>-27.0</td>\n",
              "      <td>60.0</td>\n",
              "      <td>-17.87000</td>\n",
              "    </tr>\n",
              "    <tr>\n",
              "      <th>1</th>\n",
              "      <td>-15.6</td>\n",
              "      <td>88.0</td>\n",
              "      <td>-13.61340</td>\n",
              "    </tr>\n",
              "    <tr>\n",
              "      <th>2</th>\n",
              "      <td>-3.4</td>\n",
              "      <td>93.4</td>\n",
              "      <td>-2.75023</td>\n",
              "    </tr>\n",
              "    <tr>\n",
              "      <th>3</th>\n",
              "      <td>0.0</td>\n",
              "      <td>95.6</td>\n",
              "      <td>0.35090</td>\n",
              "    </tr>\n",
              "    <tr>\n",
              "      <th>4</th>\n",
              "      <td>5.8</td>\n",
              "      <td>100.0</td>\n",
              "      <td>5.80000</td>\n",
              "    </tr>\n",
              "    <tr>\n",
              "      <th>5</th>\n",
              "      <td>18.0</td>\n",
              "      <td>25.0</td>\n",
              "      <td>16.55625</td>\n",
              "    </tr>\n",
              "    <tr>\n",
              "      <th>6</th>\n",
              "      <td>25.6</td>\n",
              "      <td>34.4</td>\n",
              "      <td>21.59512</td>\n",
              "    </tr>\n",
              "    <tr>\n",
              "      <th>7</th>\n",
              "      <td>39.0</td>\n",
              "      <td>74.0</td>\n",
              "      <td>35.49650</td>\n",
              "    </tr>\n",
              "  </tbody>\n",
              "</table>\n",
              "</div>"
            ],
            "text/plain": [
              "   T(°C)  RH(%)       TDI\n",
              "0  -27.0   60.0 -17.87000\n",
              "1  -15.6   88.0 -13.61340\n",
              "2   -3.4   93.4  -2.75023\n",
              "3    0.0   95.6   0.35090\n",
              "4    5.8  100.0   5.80000\n",
              "5   18.0   25.0  16.55625\n",
              "6   25.6   34.4  21.59512\n",
              "7   39.0   74.0  35.49650"
            ]
          },
          "metadata": {
            "tags": []
          },
          "execution_count": 31
        }
      ]
    },
    {
      "cell_type": "markdown",
      "metadata": {
        "id": "IhTdvTnu23Gc"
      },
      "source": [
        "Thom discomfort index using farenheit as the degree unit"
      ]
    },
    {
      "cell_type": "code",
      "metadata": {
        "colab": {
          "base_uri": "https://localhost:8080/"
        },
        "id": "MnGBpwGA22QX",
        "outputId": "933c2a3a-ecf2-4495-df6d-9dbbee44bffb"
      },
      "source": [
        "# Now, for farenheit degree unit\n",
        "df_di_farenheit = df_di.drop(columns = ['T(°C)'])\n",
        "df_di_farenheit['TDI'] = bm.discomfort_index(df_di_farenheit['T(°F)'], df_di_farenheit['RH(%)'])\n",
        "df_di_farenheit"
      ],
      "execution_count": null,
      "outputs": [
        {
          "output_type": "execute_result",
          "data": {
            "text/html": [
              "<div>\n",
              "<style scoped>\n",
              "    .dataframe tbody tr th:only-of-type {\n",
              "        vertical-align: middle;\n",
              "    }\n",
              "\n",
              "    .dataframe tbody tr th {\n",
              "        vertical-align: top;\n",
              "    }\n",
              "\n",
              "    .dataframe thead th {\n",
              "        text-align: right;\n",
              "    }\n",
              "</style>\n",
              "<table border=\"1\" class=\"dataframe\">\n",
              "  <thead>\n",
              "    <tr style=\"text-align: right;\">\n",
              "      <th></th>\n",
              "      <th>T(°F)</th>\n",
              "      <th>RH(%)</th>\n",
              "      <th>TDI</th>\n",
              "    </tr>\n",
              "  </thead>\n",
              "  <tbody>\n",
              "    <tr>\n",
              "      <th>0</th>\n",
              "      <td>-16.60</td>\n",
              "      <td>60.0</td>\n",
              "      <td>-9.758000</td>\n",
              "    </tr>\n",
              "    <tr>\n",
              "      <th>1</th>\n",
              "      <td>3.92</td>\n",
              "      <td>88.0</td>\n",
              "      <td>4.618280</td>\n",
              "    </tr>\n",
              "    <tr>\n",
              "      <th>2</th>\n",
              "      <td>25.88</td>\n",
              "      <td>93.4</td>\n",
              "      <td>25.466906</td>\n",
              "    </tr>\n",
              "    <tr>\n",
              "      <th>3</th>\n",
              "      <td>32.00</td>\n",
              "      <td>95.6</td>\n",
              "      <td>31.576500</td>\n",
              "    </tr>\n",
              "    <tr>\n",
              "      <th>4</th>\n",
              "      <td>42.44</td>\n",
              "      <td>100.0</td>\n",
              "      <td>42.440000</td>\n",
              "    </tr>\n",
              "    <tr>\n",
              "      <th>5</th>\n",
              "      <td>64.40</td>\n",
              "      <td>25.0</td>\n",
              "      <td>43.816250</td>\n",
              "    </tr>\n",
              "    <tr>\n",
              "      <th>6</th>\n",
              "      <td>78.08</td>\n",
              "      <td>34.4</td>\n",
              "      <td>55.140336</td>\n",
              "    </tr>\n",
              "    <tr>\n",
              "      <th>7</th>\n",
              "      <td>102.20</td>\n",
              "      <td>74.0</td>\n",
              "      <td>89.658900</td>\n",
              "    </tr>\n",
              "  </tbody>\n",
              "</table>\n",
              "</div>"
            ],
            "text/plain": [
              "    T(°F)  RH(%)        TDI\n",
              "0  -16.60   60.0  -9.758000\n",
              "1    3.92   88.0   4.618280\n",
              "2   25.88   93.4  25.466906\n",
              "3   32.00   95.6  31.576500\n",
              "4   42.44  100.0  42.440000\n",
              "5   64.40   25.0  43.816250\n",
              "6   78.08   34.4  55.140336\n",
              "7  102.20   74.0  89.658900"
            ]
          },
          "metadata": {
            "tags": []
          },
          "execution_count": 32
        }
      ]
    },
    {
      "cell_type": "markdown",
      "metadata": {
        "id": "3UIEyAqUD4xd"
      },
      "source": [
        "## **Humidex**"
      ]
    },
    {
      "cell_type": "code",
      "metadata": {
        "colab": {
          "base_uri": "https://localhost:8080/",
          "height": 294
        },
        "id": "e8PXeYUL3fN5",
        "outputId": "fc690e0a-9e22-45a2-ef70-6b9645fd0a67"
      },
      "source": [
        "# Creating a generic dataframe with temperature and relative humidity\n",
        "data = {'T(°C)': [-27, -15.6, -3.4, 0, 5.8, 18, 25.6, 39],\n",
        "        'RH(%)': [60, 88, 93.4, 95.6, 100, 25, 34.4, 74]}\n",
        "\n",
        "df_humidex = pd.DataFrame(data)\n",
        "df_humidex['T(°F)'] = bm.celsius_to_farenheit(df_di['T(°C)'])\n",
        "df_humidex = df_di[['T(°C)', 'T(°F)', 'RH(%)']]\n",
        "df_humidex"
      ],
      "execution_count": null,
      "outputs": [
        {
          "output_type": "execute_result",
          "data": {
            "text/html": [
              "<div>\n",
              "<style scoped>\n",
              "    .dataframe tbody tr th:only-of-type {\n",
              "        vertical-align: middle;\n",
              "    }\n",
              "\n",
              "    .dataframe tbody tr th {\n",
              "        vertical-align: top;\n",
              "    }\n",
              "\n",
              "    .dataframe thead th {\n",
              "        text-align: right;\n",
              "    }\n",
              "</style>\n",
              "<table border=\"1\" class=\"dataframe\">\n",
              "  <thead>\n",
              "    <tr style=\"text-align: right;\">\n",
              "      <th></th>\n",
              "      <th>T(°C)</th>\n",
              "      <th>T(°F)</th>\n",
              "      <th>RH(%)</th>\n",
              "    </tr>\n",
              "  </thead>\n",
              "  <tbody>\n",
              "    <tr>\n",
              "      <th>0</th>\n",
              "      <td>-27.0</td>\n",
              "      <td>-16.60</td>\n",
              "      <td>60.0</td>\n",
              "    </tr>\n",
              "    <tr>\n",
              "      <th>1</th>\n",
              "      <td>-15.6</td>\n",
              "      <td>3.92</td>\n",
              "      <td>88.0</td>\n",
              "    </tr>\n",
              "    <tr>\n",
              "      <th>2</th>\n",
              "      <td>-3.4</td>\n",
              "      <td>25.88</td>\n",
              "      <td>93.4</td>\n",
              "    </tr>\n",
              "    <tr>\n",
              "      <th>3</th>\n",
              "      <td>0.0</td>\n",
              "      <td>32.00</td>\n",
              "      <td>95.6</td>\n",
              "    </tr>\n",
              "    <tr>\n",
              "      <th>4</th>\n",
              "      <td>5.8</td>\n",
              "      <td>42.44</td>\n",
              "      <td>100.0</td>\n",
              "    </tr>\n",
              "    <tr>\n",
              "      <th>5</th>\n",
              "      <td>18.0</td>\n",
              "      <td>64.40</td>\n",
              "      <td>25.0</td>\n",
              "    </tr>\n",
              "    <tr>\n",
              "      <th>6</th>\n",
              "      <td>25.6</td>\n",
              "      <td>78.08</td>\n",
              "      <td>34.4</td>\n",
              "    </tr>\n",
              "    <tr>\n",
              "      <th>7</th>\n",
              "      <td>39.0</td>\n",
              "      <td>102.20</td>\n",
              "      <td>74.0</td>\n",
              "    </tr>\n",
              "  </tbody>\n",
              "</table>\n",
              "</div>"
            ],
            "text/plain": [
              "   T(°C)   T(°F)  RH(%)\n",
              "0  -27.0  -16.60   60.0\n",
              "1  -15.6    3.92   88.0\n",
              "2   -3.4   25.88   93.4\n",
              "3    0.0   32.00   95.6\n",
              "4    5.8   42.44  100.0\n",
              "5   18.0   64.40   25.0\n",
              "6   25.6   78.08   34.4\n",
              "7   39.0  102.20   74.0"
            ]
          },
          "metadata": {
            "tags": []
          },
          "execution_count": 33
        }
      ]
    },
    {
      "cell_type": "markdown",
      "metadata": {
        "id": "6IirOzz83tmC"
      },
      "source": [
        "First case: temperature (°C) + relative humidity (%)"
      ]
    },
    {
      "cell_type": "code",
      "metadata": {
        "colab": {
          "base_uri": "https://localhost:8080/",
          "height": 294
        },
        "id": "vtntA3lC3SoD",
        "outputId": "8289a62d-c936-485f-de01-e6e30cb9db18"
      },
      "source": [
        "# Note that, for the variable 'degrees', the defaut value is 'celsius'\n",
        "# Note that, for the variable 'humidity', the defaut value is 'dewpoint'\n",
        "df_humidex_celsius_rh = df_humidex.drop(columns = ['T(°F)'])\n",
        "df_humidex_celsius_rh['Humidex'] = bm.humidex(df_humidex_celsius_rh['T(°C)'],\n",
        "                                              df_humidex_celsius_rh['RH(%)'],\n",
        "                                              moisture_unit = 'relative humidity')\n",
        "df_humidex_celsius_rh"
      ],
      "execution_count": null,
      "outputs": [
        {
          "output_type": "execute_result",
          "data": {
            "text/html": [
              "<div>\n",
              "<style scoped>\n",
              "    .dataframe tbody tr th:only-of-type {\n",
              "        vertical-align: middle;\n",
              "    }\n",
              "\n",
              "    .dataframe tbody tr th {\n",
              "        vertical-align: top;\n",
              "    }\n",
              "\n",
              "    .dataframe thead th {\n",
              "        text-align: right;\n",
              "    }\n",
              "</style>\n",
              "<table border=\"1\" class=\"dataframe\">\n",
              "  <thead>\n",
              "    <tr style=\"text-align: right;\">\n",
              "      <th></th>\n",
              "      <th>T(°C)</th>\n",
              "      <th>RH(%)</th>\n",
              "      <th>Humidex</th>\n",
              "    </tr>\n",
              "  </thead>\n",
              "  <tbody>\n",
              "    <tr>\n",
              "      <th>0</th>\n",
              "      <td>-27.0</td>\n",
              "      <td>60.0</td>\n",
              "      <td>-32.320255</td>\n",
              "    </tr>\n",
              "    <tr>\n",
              "      <th>1</th>\n",
              "      <td>-15.6</td>\n",
              "      <td>88.0</td>\n",
              "      <td>-20.256132</td>\n",
              "    </tr>\n",
              "    <tr>\n",
              "      <th>2</th>\n",
              "      <td>-3.4</td>\n",
              "      <td>93.4</td>\n",
              "      <td>-6.487509</td>\n",
              "    </tr>\n",
              "    <tr>\n",
              "      <th>3</th>\n",
              "      <td>0.0</td>\n",
              "      <td>95.6</td>\n",
              "      <td>-2.311521</td>\n",
              "    </tr>\n",
              "    <tr>\n",
              "      <th>4</th>\n",
              "      <td>5.8</td>\n",
              "      <td>100.0</td>\n",
              "      <td>5.373270</td>\n",
              "    </tr>\n",
              "    <tr>\n",
              "      <th>5</th>\n",
              "      <td>18.0</td>\n",
              "      <td>25.0</td>\n",
              "      <td>15.293421</td>\n",
              "    </tr>\n",
              "    <tr>\n",
              "      <th>6</th>\n",
              "      <td>25.6</td>\n",
              "      <td>34.4</td>\n",
              "      <td>26.323388</td>\n",
              "    </tr>\n",
              "    <tr>\n",
              "      <th>7</th>\n",
              "      <td>39.0</td>\n",
              "      <td>74.0</td>\n",
              "      <td>63.199829</td>\n",
              "    </tr>\n",
              "  </tbody>\n",
              "</table>\n",
              "</div>"
            ],
            "text/plain": [
              "   T(°C)  RH(%)    Humidex\n",
              "0  -27.0   60.0 -32.320255\n",
              "1  -15.6   88.0 -20.256132\n",
              "2   -3.4   93.4  -6.487509\n",
              "3    0.0   95.6  -2.311521\n",
              "4    5.8  100.0   5.373270\n",
              "5   18.0   25.0  15.293421\n",
              "6   25.6   34.4  26.323388\n",
              "7   39.0   74.0  63.199829"
            ]
          },
          "metadata": {
            "tags": []
          },
          "execution_count": 34
        }
      ]
    },
    {
      "cell_type": "markdown",
      "metadata": {
        "id": "ibIuvjqN40r7"
      },
      "source": [
        "Second case: temperature (°C) + dew point temperature (°C)"
      ]
    },
    {
      "cell_type": "code",
      "metadata": {
        "colab": {
          "base_uri": "https://localhost:8080/",
          "height": 294
        },
        "id": "GIW07yGA45tc",
        "outputId": "a2ad3500-3cf5-4f01-e123-067dd5edda08"
      },
      "source": [
        "# Adding a dewpoint temperature column and dropping the relative humidity one\n",
        "df_humidex_celsius_dewpoint = df_humidex.drop(columns = ['T(°F)'])\n",
        "df_humidex_celsius_dewpoint['Td(°C)'] = bm.relative_humidity_to_dewpoint(df_humidex_celsius_dewpoint['T(°C)'],\n",
        "                                                                         df_humidex_celsius_dewpoint['RH(%)'])\n",
        "df_humidex_celsius_dewpoint = df_humidex_celsius_dewpoint.drop(columns = ['RH(%)'])\n",
        "\n",
        "df_humidex_celsius_dewpoint['Humidex'] = bm.humidex(df_humidex_celsius_dewpoint['T(°C)'],\n",
        "                                                    df_humidex_celsius_dewpoint['Td(°C)'])\n",
        "df_humidex_celsius_dewpoint\n"
      ],
      "execution_count": null,
      "outputs": [
        {
          "output_type": "execute_result",
          "data": {
            "text/html": [
              "<div>\n",
              "<style scoped>\n",
              "    .dataframe tbody tr th:only-of-type {\n",
              "        vertical-align: middle;\n",
              "    }\n",
              "\n",
              "    .dataframe tbody tr th {\n",
              "        vertical-align: top;\n",
              "    }\n",
              "\n",
              "    .dataframe thead th {\n",
              "        text-align: right;\n",
              "    }\n",
              "</style>\n",
              "<table border=\"1\" class=\"dataframe\">\n",
              "  <thead>\n",
              "    <tr style=\"text-align: right;\">\n",
              "      <th></th>\n",
              "      <th>T(°C)</th>\n",
              "      <th>Td(°C)</th>\n",
              "      <th>Humidex</th>\n",
              "    </tr>\n",
              "  </thead>\n",
              "  <tbody>\n",
              "    <tr>\n",
              "      <th>0</th>\n",
              "      <td>-27.0</td>\n",
              "      <td>-32.424885</td>\n",
              "      <td>-32.320255</td>\n",
              "    </tr>\n",
              "    <tr>\n",
              "      <th>1</th>\n",
              "      <td>-15.6</td>\n",
              "      <td>-17.152880</td>\n",
              "      <td>-20.256132</td>\n",
              "    </tr>\n",
              "    <tr>\n",
              "      <th>2</th>\n",
              "      <td>-3.4</td>\n",
              "      <td>-4.325831</td>\n",
              "      <td>-6.487509</td>\n",
              "    </tr>\n",
              "    <tr>\n",
              "      <th>3</th>\n",
              "      <td>0.0</td>\n",
              "      <td>-0.628195</td>\n",
              "      <td>-2.311521</td>\n",
              "    </tr>\n",
              "    <tr>\n",
              "      <th>4</th>\n",
              "      <td>5.8</td>\n",
              "      <td>5.800000</td>\n",
              "      <td>5.373270</td>\n",
              "    </tr>\n",
              "    <tr>\n",
              "      <th>5</th>\n",
              "      <td>18.0</td>\n",
              "      <td>-2.397080</td>\n",
              "      <td>15.293421</td>\n",
              "    </tr>\n",
              "    <tr>\n",
              "      <th>6</th>\n",
              "      <td>25.6</td>\n",
              "      <td>8.736802</td>\n",
              "      <td>26.323388</td>\n",
              "    </tr>\n",
              "    <tr>\n",
              "      <th>7</th>\n",
              "      <td>39.0</td>\n",
              "      <td>33.566328</td>\n",
              "      <td>63.199829</td>\n",
              "    </tr>\n",
              "  </tbody>\n",
              "</table>\n",
              "</div>"
            ],
            "text/plain": [
              "   T(°C)     Td(°C)    Humidex\n",
              "0  -27.0 -32.424885 -32.320255\n",
              "1  -15.6 -17.152880 -20.256132\n",
              "2   -3.4  -4.325831  -6.487509\n",
              "3    0.0  -0.628195  -2.311521\n",
              "4    5.8   5.800000   5.373270\n",
              "5   18.0  -2.397080  15.293421\n",
              "6   25.6   8.736802  26.323388\n",
              "7   39.0  33.566328  63.199829"
            ]
          },
          "metadata": {
            "tags": []
          },
          "execution_count": 35
        }
      ]
    },
    {
      "cell_type": "markdown",
      "metadata": {
        "id": "ZAqevdxf5-lb"
      },
      "source": [
        "Third case: temperature (°F) + relative humidity (%)"
      ]
    },
    {
      "cell_type": "code",
      "metadata": {
        "colab": {
          "base_uri": "https://localhost:8080/",
          "height": 294
        },
        "id": "dRnUmdanwGkm",
        "outputId": "a98226d5-61da-4caf-9b27-abeee47f4855"
      },
      "source": [
        "# The farenheit value is obtained through multiple convertions before and after the index calculation\n",
        "df_humidex_farenheit_rh = df_humidex.drop(columns = ['T(°C)'])\n",
        "df_humidex_farenheit_rh['Humidex'] = bm.humidex(df_humidex_farenheit_rh['T(°F)'],\n",
        "                                                df_humidex_farenheit_rh['RH(%)'],\n",
        "                                                degrees = 'farenheit',\n",
        "                                                moisture_unit = 'relative humidity')\n",
        "df_humidex_farenheit_rh"
      ],
      "execution_count": null,
      "outputs": [
        {
          "output_type": "execute_result",
          "data": {
            "text/html": [
              "<div>\n",
              "<style scoped>\n",
              "    .dataframe tbody tr th:only-of-type {\n",
              "        vertical-align: middle;\n",
              "    }\n",
              "\n",
              "    .dataframe tbody tr th {\n",
              "        vertical-align: top;\n",
              "    }\n",
              "\n",
              "    .dataframe thead th {\n",
              "        text-align: right;\n",
              "    }\n",
              "</style>\n",
              "<table border=\"1\" class=\"dataframe\">\n",
              "  <thead>\n",
              "    <tr style=\"text-align: right;\">\n",
              "      <th></th>\n",
              "      <th>T(°F)</th>\n",
              "      <th>RH(%)</th>\n",
              "      <th>Humidex</th>\n",
              "    </tr>\n",
              "  </thead>\n",
              "  <tbody>\n",
              "    <tr>\n",
              "      <th>0</th>\n",
              "      <td>-16.60</td>\n",
              "      <td>60.0</td>\n",
              "      <td>-26.0862</td>\n",
              "    </tr>\n",
              "    <tr>\n",
              "      <th>1</th>\n",
              "      <td>3.92</td>\n",
              "      <td>88.0</td>\n",
              "      <td>-4.3880</td>\n",
              "    </tr>\n",
              "    <tr>\n",
              "      <th>2</th>\n",
              "      <td>25.88</td>\n",
              "      <td>93.4</td>\n",
              "      <td>20.4190</td>\n",
              "    </tr>\n",
              "    <tr>\n",
              "      <th>3</th>\n",
              "      <td>32.00</td>\n",
              "      <td>95.6</td>\n",
              "      <td>27.9205</td>\n",
              "    </tr>\n",
              "    <tr>\n",
              "      <th>4</th>\n",
              "      <td>42.44</td>\n",
              "      <td>100.0</td>\n",
              "      <td>41.6719</td>\n",
              "    </tr>\n",
              "    <tr>\n",
              "      <th>5</th>\n",
              "      <td>64.40</td>\n",
              "      <td>25.0</td>\n",
              "      <td>61.9695</td>\n",
              "    </tr>\n",
              "    <tr>\n",
              "      <th>6</th>\n",
              "      <td>78.08</td>\n",
              "      <td>34.4</td>\n",
              "      <td>83.0840</td>\n",
              "    </tr>\n",
              "    <tr>\n",
              "      <th>7</th>\n",
              "      <td>102.20</td>\n",
              "      <td>74.0</td>\n",
              "      <td>149.7330</td>\n",
              "    </tr>\n",
              "  </tbody>\n",
              "</table>\n",
              "</div>"
            ],
            "text/plain": [
              "    T(°F)  RH(%)   Humidex\n",
              "0  -16.60   60.0  -26.0862\n",
              "1    3.92   88.0   -4.3880\n",
              "2   25.88   93.4   20.4190\n",
              "3   32.00   95.6   27.9205\n",
              "4   42.44  100.0   41.6719\n",
              "5   64.40   25.0   61.9695\n",
              "6   78.08   34.4   83.0840\n",
              "7  102.20   74.0  149.7330"
            ]
          },
          "metadata": {
            "tags": []
          },
          "execution_count": 41
        }
      ]
    },
    {
      "cell_type": "markdown",
      "metadata": {
        "id": "-R8TV7MJ61BK"
      },
      "source": [
        "Forth case: temperature (°F) + dew point temperature (°F)"
      ]
    },
    {
      "cell_type": "code",
      "metadata": {
        "colab": {
          "base_uri": "https://localhost:8080/",
          "height": 294
        },
        "id": "6Zz1ttZFxbNe",
        "outputId": "95e17228-9845-487c-95fc-c0ca254cfbfb"
      },
      "source": [
        "# Adding a dewpoint temperature column and dropping the relative humidity one\n",
        "df_humidex_farenheit_dewpoint = df_humidex.drop(columns = ['T(°C)'])\n",
        "df_humidex_farenheit_dewpoint['Td(°F)'] = bm.relative_humidity_to_dewpoint(df_humidex_farenheit_dewpoint['T(°F)'],\n",
        "                                                                           df_humidex_farenheit_dewpoint['RH(%)'])\n",
        "df_humidex_farenheit_dewpoint = df_humidex_farenheit_dewpoint.drop(columns = ['RH(%)'])\n",
        "\n",
        "df_humidex_farenheit_dewpoint['Humidex'] = bm.humidex(df_humidex_farenheit_dewpoint['T(°F)'],\n",
        "                                                      df_humidex_farenheit_dewpoint['Td(°F)'],\n",
        "                                                      degrees = 'farenheit')\n",
        "df_humidex_farenheit_dewpoint"
      ],
      "execution_count": null,
      "outputs": [
        {
          "output_type": "execute_result",
          "data": {
            "text/html": [
              "<div>\n",
              "<style scoped>\n",
              "    .dataframe tbody tr th:only-of-type {\n",
              "        vertical-align: middle;\n",
              "    }\n",
              "\n",
              "    .dataframe tbody tr th {\n",
              "        vertical-align: top;\n",
              "    }\n",
              "\n",
              "    .dataframe thead th {\n",
              "        text-align: right;\n",
              "    }\n",
              "</style>\n",
              "<table border=\"1\" class=\"dataframe\">\n",
              "  <thead>\n",
              "    <tr style=\"text-align: right;\">\n",
              "      <th></th>\n",
              "      <th>T(°F)</th>\n",
              "      <th>Td(°F)</th>\n",
              "      <th>Humidex</th>\n",
              "    </tr>\n",
              "  </thead>\n",
              "  <tbody>\n",
              "    <tr>\n",
              "      <th>0</th>\n",
              "      <td>-16.60</td>\n",
              "      <td>-22.603869</td>\n",
              "      <td>-26.0862</td>\n",
              "    </tr>\n",
              "    <tr>\n",
              "      <th>1</th>\n",
              "      <td>3.92</td>\n",
              "      <td>2.088629</td>\n",
              "      <td>-4.3880</td>\n",
              "    </tr>\n",
              "    <tr>\n",
              "      <th>2</th>\n",
              "      <td>25.88</td>\n",
              "      <td>24.730216</td>\n",
              "      <td>20.4190</td>\n",
              "    </tr>\n",
              "    <tr>\n",
              "      <th>3</th>\n",
              "      <td>32.00</td>\n",
              "      <td>31.210269</td>\n",
              "      <td>27.9205</td>\n",
              "    </tr>\n",
              "    <tr>\n",
              "      <th>4</th>\n",
              "      <td>42.44</td>\n",
              "      <td>42.440000</td>\n",
              "      <td>41.6719</td>\n",
              "    </tr>\n",
              "    <tr>\n",
              "      <th>5</th>\n",
              "      <td>64.40</td>\n",
              "      <td>37.358755</td>\n",
              "      <td>61.9695</td>\n",
              "    </tr>\n",
              "    <tr>\n",
              "      <th>6</th>\n",
              "      <td>78.08</td>\n",
              "      <td>55.318679</td>\n",
              "      <td>83.0840</td>\n",
              "    </tr>\n",
              "    <tr>\n",
              "      <th>7</th>\n",
              "      <td>102.20</td>\n",
              "      <td>94.665259</td>\n",
              "      <td>149.7330</td>\n",
              "    </tr>\n",
              "  </tbody>\n",
              "</table>\n",
              "</div>"
            ],
            "text/plain": [
              "    T(°F)     Td(°F)   Humidex\n",
              "0  -16.60 -22.603869  -26.0862\n",
              "1    3.92   2.088629   -4.3880\n",
              "2   25.88  24.730216   20.4190\n",
              "3   32.00  31.210269   27.9205\n",
              "4   42.44  42.440000   41.6719\n",
              "5   64.40  37.358755   61.9695\n",
              "6   78.08  55.318679   83.0840\n",
              "7  102.20  94.665259  149.7330"
            ]
          },
          "metadata": {
            "tags": []
          },
          "execution_count": 42
        }
      ]
    },
    {
      "cell_type": "markdown",
      "metadata": {
        "id": "-2AgCXMFD7jI"
      },
      "source": [
        "## **Relative Strain Index**"
      ]
    },
    {
      "cell_type": "code",
      "metadata": {
        "id": "h0BADhXc8iGl",
        "colab": {
          "base_uri": "https://localhost:8080/",
          "height": 294
        },
        "outputId": "d7581e48-40d2-4162-a2a4-d9f5c90a24a6"
      },
      "source": [
        "# Creating a generic dataframe with temperatures and partial water vapor pressure\n",
        "data = {'T(°C)': [-27, -15.6, -3.4, 0, 5.8, 18, 25.6, 39],\n",
        "        'PWVP(mmHg)': [27.8, 88.7, 170.1, 230.6, 300, 27.9, 450.2, 74]}\n",
        "\n",
        "df_rsi = pd.DataFrame(data)\n",
        "df_rsi['T(°F)'] = bm.celsius_to_farenheit(df_rsi['T(°C)'])\n",
        "df_rsi = df_rsi[['T(°C)', 'T(°F)', 'PWVP(mmHg)']]\n",
        "df_rsi"
      ],
      "execution_count": null,
      "outputs": [
        {
          "output_type": "execute_result",
          "data": {
            "text/html": [
              "<div>\n",
              "<style scoped>\n",
              "    .dataframe tbody tr th:only-of-type {\n",
              "        vertical-align: middle;\n",
              "    }\n",
              "\n",
              "    .dataframe tbody tr th {\n",
              "        vertical-align: top;\n",
              "    }\n",
              "\n",
              "    .dataframe thead th {\n",
              "        text-align: right;\n",
              "    }\n",
              "</style>\n",
              "<table border=\"1\" class=\"dataframe\">\n",
              "  <thead>\n",
              "    <tr style=\"text-align: right;\">\n",
              "      <th></th>\n",
              "      <th>T(°C)</th>\n",
              "      <th>T(°F)</th>\n",
              "      <th>PWVP(mmHg)</th>\n",
              "    </tr>\n",
              "  </thead>\n",
              "  <tbody>\n",
              "    <tr>\n",
              "      <th>0</th>\n",
              "      <td>-27.0</td>\n",
              "      <td>-16.60</td>\n",
              "      <td>27.8</td>\n",
              "    </tr>\n",
              "    <tr>\n",
              "      <th>1</th>\n",
              "      <td>-15.6</td>\n",
              "      <td>3.92</td>\n",
              "      <td>88.7</td>\n",
              "    </tr>\n",
              "    <tr>\n",
              "      <th>2</th>\n",
              "      <td>-3.4</td>\n",
              "      <td>25.88</td>\n",
              "      <td>170.1</td>\n",
              "    </tr>\n",
              "    <tr>\n",
              "      <th>3</th>\n",
              "      <td>0.0</td>\n",
              "      <td>32.00</td>\n",
              "      <td>230.6</td>\n",
              "    </tr>\n",
              "    <tr>\n",
              "      <th>4</th>\n",
              "      <td>5.8</td>\n",
              "      <td>42.44</td>\n",
              "      <td>300.0</td>\n",
              "    </tr>\n",
              "    <tr>\n",
              "      <th>5</th>\n",
              "      <td>18.0</td>\n",
              "      <td>64.40</td>\n",
              "      <td>27.9</td>\n",
              "    </tr>\n",
              "    <tr>\n",
              "      <th>6</th>\n",
              "      <td>25.6</td>\n",
              "      <td>78.08</td>\n",
              "      <td>450.2</td>\n",
              "    </tr>\n",
              "    <tr>\n",
              "      <th>7</th>\n",
              "      <td>39.0</td>\n",
              "      <td>102.20</td>\n",
              "      <td>74.0</td>\n",
              "    </tr>\n",
              "  </tbody>\n",
              "</table>\n",
              "</div>"
            ],
            "text/plain": [
              "   T(°C)   T(°F)  PWVP(mmHg)\n",
              "0  -27.0  -16.60        27.8\n",
              "1  -15.6    3.92        88.7\n",
              "2   -3.4   25.88       170.1\n",
              "3    0.0   32.00       230.6\n",
              "4    5.8   42.44       300.0\n",
              "5   18.0   64.40        27.9\n",
              "6   25.6   78.08       450.2\n",
              "7   39.0  102.20        74.0"
            ]
          },
          "metadata": {
            "tags": []
          },
          "execution_count": 38
        }
      ]
    },
    {
      "cell_type": "markdown",
      "metadata": {
        "id": "5X4H1y2LzNxC"
      },
      "source": [
        "Relative strain index for temperature in degrees celsius"
      ]
    },
    {
      "cell_type": "code",
      "metadata": {
        "colab": {
          "base_uri": "https://localhost:8080/",
          "height": 294
        },
        "id": "P0jhKa_9zRdJ",
        "outputId": "3f168d22-8a00-4a1d-ed86-126a58ecd204"
      },
      "source": [
        "# Note that, for the variable 'degrees', its defaut value is 'celsius'\n",
        "df_rsi_celsius = df_rsi.drop(columns = ['T(°F)'])\n",
        "df_rsi_celsius['RSI'] = bm.relative_strain_index(df_rsi_celsius['T(°C)'],\n",
        "                                                 df_rsi_celsius['PWVP(mmHg)'])\n",
        "df_rsi_celsius"
      ],
      "execution_count": null,
      "outputs": [
        {
          "output_type": "execute_result",
          "data": {
            "text/html": [
              "<div>\n",
              "<style scoped>\n",
              "    .dataframe tbody tr th:only-of-type {\n",
              "        vertical-align: middle;\n",
              "    }\n",
              "\n",
              "    .dataframe tbody tr th {\n",
              "        vertical-align: top;\n",
              "    }\n",
              "\n",
              "    .dataframe thead th {\n",
              "        text-align: right;\n",
              "    }\n",
              "</style>\n",
              "<table border=\"1\" class=\"dataframe\">\n",
              "  <thead>\n",
              "    <tr style=\"text-align: right;\">\n",
              "      <th></th>\n",
              "      <th>T(°C)</th>\n",
              "      <th>PWVP(mmHg)</th>\n",
              "      <th>RSI</th>\n",
              "    </tr>\n",
              "  </thead>\n",
              "  <tbody>\n",
              "    <tr>\n",
              "      <th>0</th>\n",
              "      <td>-27.0</td>\n",
              "      <td>27.8</td>\n",
              "      <td>-2.171605</td>\n",
              "    </tr>\n",
              "    <tr>\n",
              "      <th>1</th>\n",
              "      <td>-15.6</td>\n",
              "      <td>88.7</td>\n",
              "      <td>0.598300</td>\n",
              "    </tr>\n",
              "    <tr>\n",
              "      <th>2</th>\n",
              "      <td>-3.4</td>\n",
              "      <td>170.1</td>\n",
              "      <td>0.140492</td>\n",
              "    </tr>\n",
              "    <tr>\n",
              "      <th>3</th>\n",
              "      <td>0.0</td>\n",
              "      <td>230.6</td>\n",
              "      <td>0.081458</td>\n",
              "    </tr>\n",
              "    <tr>\n",
              "      <th>4</th>\n",
              "      <td>5.8</td>\n",
              "      <td>300.0</td>\n",
              "      <td>0.042609</td>\n",
              "    </tr>\n",
              "    <tr>\n",
              "      <th>5</th>\n",
              "      <td>18.0</td>\n",
              "      <td>27.9</td>\n",
              "      <td>-0.116770</td>\n",
              "    </tr>\n",
              "    <tr>\n",
              "      <th>6</th>\n",
              "      <td>25.6</td>\n",
              "      <td>450.2</td>\n",
              "      <td>-0.009217</td>\n",
              "    </tr>\n",
              "    <tr>\n",
              "      <th>7</th>\n",
              "      <td>39.0</td>\n",
              "      <td>74.0</td>\n",
              "      <td>-0.455333</td>\n",
              "    </tr>\n",
              "  </tbody>\n",
              "</table>\n",
              "</div>"
            ],
            "text/plain": [
              "   T(°C)  PWVP(mmHg)       RSI\n",
              "0  -27.0        27.8 -2.171605\n",
              "1  -15.6        88.7  0.598300\n",
              "2   -3.4       170.1  0.140492\n",
              "3    0.0       230.6  0.081458\n",
              "4    5.8       300.0  0.042609\n",
              "5   18.0        27.9 -0.116770\n",
              "6   25.6       450.2 -0.009217\n",
              "7   39.0        74.0 -0.455333"
            ]
          },
          "metadata": {
            "tags": []
          },
          "execution_count": 39
        }
      ]
    },
    {
      "cell_type": "markdown",
      "metadata": {
        "id": "wDi9Pyi3zrPj"
      },
      "source": [
        "Relative strain index for temperature in farenheit"
      ]
    },
    {
      "cell_type": "code",
      "metadata": {
        "colab": {
          "base_uri": "https://localhost:8080/",
          "height": 294
        },
        "id": "OQEitl3JzvXL",
        "outputId": "fc5a5ae6-9022-463c-a4fb-8d44782adcb1"
      },
      "source": [
        "# Note that, this particular formula doesn't show the final result based on the original farenheit\n",
        "# value. In this case, it'll convert the temperature to celsius and proceed with the calculation with\n",
        "# the celsius value. There's no cnvertion at the end.\n",
        "# Because of that, the values in both tables are supposed to be the same for the RSI column\n",
        "df_rsi_farenheit = df_rsi.drop(columns = ['T(°C)'])\n",
        "df_rsi_farenheit['RSI'] = bm.relative_strain_index(df_rsi_farenheit['T(°F)'],\n",
        "                                                   df_rsi_farenheit['PWVP(mmHg)'],\n",
        "                                                   degrees = 'farenheit')\n",
        "df_rsi_farenheit"
      ],
      "execution_count": null,
      "outputs": [
        {
          "output_type": "execute_result",
          "data": {
            "text/html": [
              "<div>\n",
              "<style scoped>\n",
              "    .dataframe tbody tr th:only-of-type {\n",
              "        vertical-align: middle;\n",
              "    }\n",
              "\n",
              "    .dataframe tbody tr th {\n",
              "        vertical-align: top;\n",
              "    }\n",
              "\n",
              "    .dataframe thead th {\n",
              "        text-align: right;\n",
              "    }\n",
              "</style>\n",
              "<table border=\"1\" class=\"dataframe\">\n",
              "  <thead>\n",
              "    <tr style=\"text-align: right;\">\n",
              "      <th></th>\n",
              "      <th>T(°F)</th>\n",
              "      <th>PWVP(mmHg)</th>\n",
              "      <th>RSI</th>\n",
              "    </tr>\n",
              "  </thead>\n",
              "  <tbody>\n",
              "    <tr>\n",
              "      <th>0</th>\n",
              "      <td>-16.60</td>\n",
              "      <td>27.8</td>\n",
              "      <td>-2.171605</td>\n",
              "    </tr>\n",
              "    <tr>\n",
              "      <th>1</th>\n",
              "      <td>3.92</td>\n",
              "      <td>88.7</td>\n",
              "      <td>0.598300</td>\n",
              "    </tr>\n",
              "    <tr>\n",
              "      <th>2</th>\n",
              "      <td>25.88</td>\n",
              "      <td>170.1</td>\n",
              "      <td>0.140492</td>\n",
              "    </tr>\n",
              "    <tr>\n",
              "      <th>3</th>\n",
              "      <td>32.00</td>\n",
              "      <td>230.6</td>\n",
              "      <td>0.081458</td>\n",
              "    </tr>\n",
              "    <tr>\n",
              "      <th>4</th>\n",
              "      <td>42.44</td>\n",
              "      <td>300.0</td>\n",
              "      <td>0.042609</td>\n",
              "    </tr>\n",
              "    <tr>\n",
              "      <th>5</th>\n",
              "      <td>64.40</td>\n",
              "      <td>27.9</td>\n",
              "      <td>-0.116770</td>\n",
              "    </tr>\n",
              "    <tr>\n",
              "      <th>6</th>\n",
              "      <td>78.08</td>\n",
              "      <td>450.2</td>\n",
              "      <td>-0.009217</td>\n",
              "    </tr>\n",
              "    <tr>\n",
              "      <th>7</th>\n",
              "      <td>102.20</td>\n",
              "      <td>74.0</td>\n",
              "      <td>-0.455333</td>\n",
              "    </tr>\n",
              "  </tbody>\n",
              "</table>\n",
              "</div>"
            ],
            "text/plain": [
              "    T(°F)  PWVP(mmHg)       RSI\n",
              "0  -16.60        27.8 -2.171605\n",
              "1    3.92        88.7  0.598300\n",
              "2   25.88       170.1  0.140492\n",
              "3   32.00       230.6  0.081458\n",
              "4   42.44       300.0  0.042609\n",
              "5   64.40        27.9 -0.116770\n",
              "6   78.08       450.2 -0.009217\n",
              "7  102.20        74.0 -0.455333"
            ]
          },
          "metadata": {
            "tags": []
          },
          "execution_count": 40
        }
      ]
    }
  ]
}