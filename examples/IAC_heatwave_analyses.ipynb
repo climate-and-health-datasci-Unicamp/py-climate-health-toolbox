{
  "nbformat": 4,
  "nbformat_minor": 0,
  "metadata": {
    "colab": {
      "name": "IAC_heatwave_analyses.ipynb",
      "provenance": [],
      "collapsed_sections": [
        "FFtTKeL4W9Nv",
        "TBifvsq6XFDS",
        "naKeNHwDXr8u",
        "CmxJPVU8YeZu",
        "PwgXf46lxefT",
        "WjsABgUy5Qie",
        "bJHFMkma6cMw",
        "4Rl5QoW-GEu6",
        "xSO-snFwGcOx",
        "36vzqos1sSRf",
        "9chSOZL0HW5l",
        "P9xxmLnmH6Ui",
        "74fNzSguIRCQ"
      ],
      "include_colab_link": true
    },
    "kernelspec": {
      "name": "python3",
      "display_name": "Python 3"
    }
  },
  "cells": [
    {
      "cell_type": "markdown",
      "metadata": {
        "id": "view-in-github",
        "colab_type": "text"
      },
      "source": [
        "<a href=\"https://colab.research.google.com/github/climate-and-health-datasci-Unicamp/py-climate-health-toolbox/blob/master/examples/IAC_heatwave_analyses.ipynb\" target=\"_parent\"><img src=\"https://colab.research.google.com/assets/colab-badge.svg\" alt=\"Open In Colab\"/></a>"
      ]
    },
    {
      "cell_type": "markdown",
      "metadata": {
        "id": "wmwfkcfbAxE6",
        "colab_type": "text"
      },
      "source": [
        "**Author:**\n",
        "* [Daniela Souza de Oliveira](https://github.com/Danielaso)\n",
        "\n",
        "*created in jul/2020*\n",
        "\n"
      ]
    },
    {
      "cell_type": "markdown",
      "metadata": {
        "id": "l7TdSY0w96cq",
        "colab_type": "text"
      },
      "source": [
        "# IAC heatwave analyses\n",
        "\n",
        "**Input:** IAC_1890_2018.csv\n",
        "\n",
        "*   Computing heatwaves\n",
        "*   Yearly and seasonal metrics\n",
        "*   Trend analyses\n",
        "*   Heatwaves intensity\n",
        "\n",
        "**Output:** HW_IAC, pct_IAC and HW_IAC_metrics"
      ]
    },
    {
      "cell_type": "code",
      "metadata": {
        "id": "sEZxW_xZsT5j",
        "colab_type": "code",
        "colab": {
          "base_uri": "https://localhost:8080/",
          "height": 309
        },
        "outputId": "37e0509a-2ad4-4aba-c967-abfc7ae75a68"
      },
      "source": [
        "#installing packages\n",
        "!pip install py-climate-health-toolbox\n",
        "!pip install pymannkendall\n",
        "!pip install pyhomogeneity"
      ],
      "execution_count": null,
      "outputs": [
        {
          "output_type": "stream",
          "text": [
            "Collecting py-climate-health-toolbox\n",
            "  Downloading https://files.pythonhosted.org/packages/ee/75/9d996f54c20a291e4eb3340416cd3c7d583facd18160f0d1f6af1ed646a5/py_climate_health_toolbox-0.0.2-py3-none-any.whl\n",
            "Installing collected packages: py-climate-health-toolbox\n",
            "Successfully installed py-climate-health-toolbox-0.0.2\n",
            "Collecting pymannkendall\n",
            "  Downloading https://files.pythonhosted.org/packages/c7/6b/64da7b1d0611ac3db668860a48978f0bd3db48bcda746474501f6b711183/pymannkendall-1.4.1-py3-none-any.whl\n",
            "Requirement already satisfied: numpy in /usr/local/lib/python3.6/dist-packages (from pymannkendall) (1.18.5)\n",
            "Requirement already satisfied: scipy in /usr/local/lib/python3.6/dist-packages (from pymannkendall) (1.4.1)\n",
            "Installing collected packages: pymannkendall\n",
            "Successfully installed pymannkendall-1.4.1\n",
            "Collecting pyhomogeneity\n",
            "  Downloading https://files.pythonhosted.org/packages/e2/8a/a1ffa82674cc748bdf8d46c3d1f681651679038f1cbd9bb0fae7b649d457/pyhomogeneity-1.1-py3-none-any.whl\n",
            "Requirement already satisfied: scipy in /usr/local/lib/python3.6/dist-packages (from pyhomogeneity) (1.4.1)\n",
            "Requirement already satisfied: numpy in /usr/local/lib/python3.6/dist-packages (from pyhomogeneity) (1.18.5)\n",
            "Installing collected packages: pyhomogeneity\n",
            "Successfully installed pyhomogeneity-1.1\n"
          ],
          "name": "stdout"
        }
      ]
    },
    {
      "cell_type": "code",
      "metadata": {
        "id": "Tyfym2c4sg9x",
        "colab_type": "code",
        "colab": {
          "base_uri": "https://localhost:8080/",
          "height": 71
        },
        "outputId": "1170fde7-d776-432c-aaea-3f2075cfe6d5"
      },
      "source": [
        "# importing libraries\n",
        "import climahe.climatex\n",
        "import climatex as tex\n",
        "import pandas as pd\n",
        "import numpy as np\n",
        "import matplotlib.pyplot as plt\n",
        "from statsmodels.graphics.tsaplots import plot_acf\n",
        "from statsmodels.tsa.stattools import acf\n",
        "import pymannkendall as mk\n",
        "import pyhomogeneity as hg\n",
        "import more_itertools as mit\n"
      ],
      "execution_count": null,
      "outputs": [
        {
          "output_type": "stream",
          "text": [
            "/usr/local/lib/python3.6/dist-packages/statsmodels/tools/_testing.py:19: FutureWarning: pandas.util.testing is deprecated. Use the functions in the public API at pandas.testing instead.\n",
            "  import pandas.util.testing as tm\n"
          ],
          "name": "stderr"
        }
      ]
    },
    {
      "cell_type": "code",
      "metadata": {
        "id": "o-koYczhyk4C",
        "colab_type": "code",
        "colab": {
          "base_uri": "https://localhost:8080/",
          "height": 122
        },
        "outputId": "b5623714-d570-4fda-96b3-5f3e2d2354a7"
      },
      "source": [
        "from google.colab import drive\n",
        "drive.mount('/content/drive')"
      ],
      "execution_count": null,
      "outputs": [
        {
          "output_type": "stream",
          "text": [
            "Go to this URL in a browser: https://accounts.google.com/o/oauth2/auth?client_id=947318989803-6bn6qk8qdgf4n4g3pfee6491hc0brc4i.apps.googleusercontent.com&redirect_uri=urn%3aietf%3awg%3aoauth%3a2.0%3aoob&response_type=code&scope=email%20https%3a%2f%2fwww.googleapis.com%2fauth%2fdocs.test%20https%3a%2f%2fwww.googleapis.com%2fauth%2fdrive%20https%3a%2f%2fwww.googleapis.com%2fauth%2fdrive.photos.readonly%20https%3a%2f%2fwww.googleapis.com%2fauth%2fpeopleapi.readonly\n",
            "\n",
            "Enter your authorization code:\n",
            "··········\n",
            "Mounted at /content/drive\n"
          ],
          "name": "stdout"
        }
      ]
    },
    {
      "cell_type": "markdown",
      "metadata": {
        "id": "zu3QoO-GGj-z",
        "colab_type": "text"
      },
      "source": [
        "### Loading Data: IAC_1890_2018.csv\n"
      ]
    },
    {
      "cell_type": "code",
      "metadata": {
        "id": "MOk3SpKlsqjM",
        "colab_type": "code",
        "colab": {
          "base_uri": "https://localhost:8080/",
          "height": 419
        },
        "outputId": "5cfaa946-0ddc-4378-fe83-eebd8ceb6b7f"
      },
      "source": [
        "#Reading data\n",
        "df_IAC = pd.read_csv('/content/drive/Shared drives/Clima&Saúde/Dados/Dados_Clima/IAC/data/processed/IAC_1890_2018.csv')\n",
        "\n",
        "#converting 'DATE' column to datetime format\n",
        "df_IAC['DATE'] = pd.to_datetime(df_IAC['DATE'])\n",
        "df_IAC"
      ],
      "execution_count": null,
      "outputs": [
        {
          "output_type": "execute_result",
          "data": {
            "text/html": [
              "<div>\n",
              "<style scoped>\n",
              "    .dataframe tbody tr th:only-of-type {\n",
              "        vertical-align: middle;\n",
              "    }\n",
              "\n",
              "    .dataframe tbody tr th {\n",
              "        vertical-align: top;\n",
              "    }\n",
              "\n",
              "    .dataframe thead th {\n",
              "        text-align: right;\n",
              "    }\n",
              "</style>\n",
              "<table border=\"1\" class=\"dataframe\">\n",
              "  <thead>\n",
              "    <tr style=\"text-align: right;\">\n",
              "      <th></th>\n",
              "      <th>DATE</th>\n",
              "      <th>YEAR</th>\n",
              "      <th>DAY365</th>\n",
              "      <th>N_RAIN_TOT</th>\n",
              "      <th>N_AIRTMP_MAX</th>\n",
              "      <th>N_AIRTMP_MIN</th>\n",
              "    </tr>\n",
              "  </thead>\n",
              "  <tbody>\n",
              "    <tr>\n",
              "      <th>0</th>\n",
              "      <td>1890-01-01</td>\n",
              "      <td>1890</td>\n",
              "      <td>1</td>\n",
              "      <td>0.3</td>\n",
              "      <td>24.4</td>\n",
              "      <td>16.6</td>\n",
              "    </tr>\n",
              "    <tr>\n",
              "      <th>1</th>\n",
              "      <td>1890-01-02</td>\n",
              "      <td>1890</td>\n",
              "      <td>2</td>\n",
              "      <td>9.0</td>\n",
              "      <td>28.4</td>\n",
              "      <td>15.9</td>\n",
              "    </tr>\n",
              "    <tr>\n",
              "      <th>2</th>\n",
              "      <td>1890-01-03</td>\n",
              "      <td>1890</td>\n",
              "      <td>3</td>\n",
              "      <td>2.0</td>\n",
              "      <td>28.9</td>\n",
              "      <td>16.5</td>\n",
              "    </tr>\n",
              "    <tr>\n",
              "      <th>3</th>\n",
              "      <td>1890-01-04</td>\n",
              "      <td>1890</td>\n",
              "      <td>4</td>\n",
              "      <td>47.0</td>\n",
              "      <td>30.4</td>\n",
              "      <td>18.0</td>\n",
              "    </tr>\n",
              "    <tr>\n",
              "      <th>4</th>\n",
              "      <td>1890-01-05</td>\n",
              "      <td>1890</td>\n",
              "      <td>5</td>\n",
              "      <td>29.0</td>\n",
              "      <td>28.8</td>\n",
              "      <td>17.3</td>\n",
              "    </tr>\n",
              "    <tr>\n",
              "      <th>...</th>\n",
              "      <td>...</td>\n",
              "      <td>...</td>\n",
              "      <td>...</td>\n",
              "      <td>...</td>\n",
              "      <td>...</td>\n",
              "      <td>...</td>\n",
              "    </tr>\n",
              "    <tr>\n",
              "      <th>47111</th>\n",
              "      <td>2018-12-27</td>\n",
              "      <td>2018</td>\n",
              "      <td>361</td>\n",
              "      <td>0.0</td>\n",
              "      <td>28.8</td>\n",
              "      <td>19.0</td>\n",
              "    </tr>\n",
              "    <tr>\n",
              "      <th>47112</th>\n",
              "      <td>2018-12-28</td>\n",
              "      <td>2018</td>\n",
              "      <td>362</td>\n",
              "      <td>23.1</td>\n",
              "      <td>31.2</td>\n",
              "      <td>18.6</td>\n",
              "    </tr>\n",
              "    <tr>\n",
              "      <th>47113</th>\n",
              "      <td>2018-12-29</td>\n",
              "      <td>2018</td>\n",
              "      <td>363</td>\n",
              "      <td>0.0</td>\n",
              "      <td>31.7</td>\n",
              "      <td>18.7</td>\n",
              "    </tr>\n",
              "    <tr>\n",
              "      <th>47114</th>\n",
              "      <td>2018-12-30</td>\n",
              "      <td>2018</td>\n",
              "      <td>364</td>\n",
              "      <td>0.0</td>\n",
              "      <td>32.1</td>\n",
              "      <td>19.8</td>\n",
              "    </tr>\n",
              "    <tr>\n",
              "      <th>47115</th>\n",
              "      <td>2018-12-31</td>\n",
              "      <td>2018</td>\n",
              "      <td>365</td>\n",
              "      <td>0.0</td>\n",
              "      <td>33.5</td>\n",
              "      <td>19.0</td>\n",
              "    </tr>\n",
              "  </tbody>\n",
              "</table>\n",
              "<p>47116 rows × 6 columns</p>\n",
              "</div>"
            ],
            "text/plain": [
              "            DATE  YEAR  DAY365  N_RAIN_TOT  N_AIRTMP_MAX  N_AIRTMP_MIN\n",
              "0     1890-01-01  1890       1         0.3          24.4          16.6\n",
              "1     1890-01-02  1890       2         9.0          28.4          15.9\n",
              "2     1890-01-03  1890       3         2.0          28.9          16.5\n",
              "3     1890-01-04  1890       4        47.0          30.4          18.0\n",
              "4     1890-01-05  1890       5        29.0          28.8          17.3\n",
              "...          ...   ...     ...         ...           ...           ...\n",
              "47111 2018-12-27  2018     361         0.0          28.8          19.0\n",
              "47112 2018-12-28  2018     362        23.1          31.2          18.6\n",
              "47113 2018-12-29  2018     363         0.0          31.7          18.7\n",
              "47114 2018-12-30  2018     364         0.0          32.1          19.8\n",
              "47115 2018-12-31  2018     365         0.0          33.5          19.0\n",
              "\n",
              "[47116 rows x 6 columns]"
            ]
          },
          "metadata": {
            "tags": []
          },
          "execution_count": 4
        }
      ]
    },
    {
      "cell_type": "code",
      "metadata": {
        "id": "v28_szZT2xC2",
        "colab_type": "code",
        "colab": {
          "base_uri": "https://localhost:8080/",
          "height": 136
        },
        "outputId": "49116063-96bf-4118-c02a-b2192b2552ce"
      },
      "source": [
        "#checking columns data types\n",
        "df_IAC.dtypes"
      ],
      "execution_count": null,
      "outputs": [
        {
          "output_type": "execute_result",
          "data": {
            "text/plain": [
              "DATE            datetime64[ns]\n",
              "YEAR                     int64\n",
              "DAY365                   int64\n",
              "N_RAIN_TOT             float64\n",
              "N_AIRTMP_MAX           float64\n",
              "N_AIRTMP_MIN           float64\n",
              "dtype: object"
            ]
          },
          "metadata": {
            "tags": []
          },
          "execution_count": 5
        }
      ]
    },
    {
      "cell_type": "markdown",
      "metadata": {
        "id": "NdAYhMy-HHrc",
        "colab_type": "text"
      },
      "source": [
        "### Defining Climatogical Normal (1961-1990)"
      ]
    },
    {
      "cell_type": "code",
      "metadata": {
        "id": "urrs60lKhRFc",
        "colab_type": "code",
        "colab": {
          "base_uri": "https://localhost:8080/",
          "height": 419
        },
        "outputId": "1f9e5db9-ce8a-411d-a7a1-650ac37274b5"
      },
      "source": [
        "#defining climatological normal\n",
        "#selecting period from 1961 to 1990\n",
        "climatic_normal = df_IAC[(df_IAC['YEAR']>1960)&(df_IAC['YEAR']<=1990)]\n",
        "climatic_normal=climatic_normal.reset_index()\n",
        "del climatic_normal['index']\n",
        "\n",
        "climatic_normal"
      ],
      "execution_count": null,
      "outputs": [
        {
          "output_type": "execute_result",
          "data": {
            "text/html": [
              "<div>\n",
              "<style scoped>\n",
              "    .dataframe tbody tr th:only-of-type {\n",
              "        vertical-align: middle;\n",
              "    }\n",
              "\n",
              "    .dataframe tbody tr th {\n",
              "        vertical-align: top;\n",
              "    }\n",
              "\n",
              "    .dataframe thead th {\n",
              "        text-align: right;\n",
              "    }\n",
              "</style>\n",
              "<table border=\"1\" class=\"dataframe\">\n",
              "  <thead>\n",
              "    <tr style=\"text-align: right;\">\n",
              "      <th></th>\n",
              "      <th>DATE</th>\n",
              "      <th>YEAR</th>\n",
              "      <th>DAY365</th>\n",
              "      <th>N_RAIN_TOT</th>\n",
              "      <th>N_AIRTMP_MAX</th>\n",
              "      <th>N_AIRTMP_MIN</th>\n",
              "    </tr>\n",
              "  </thead>\n",
              "  <tbody>\n",
              "    <tr>\n",
              "      <th>0</th>\n",
              "      <td>1961-01-01</td>\n",
              "      <td>1961</td>\n",
              "      <td>1</td>\n",
              "      <td>0.3</td>\n",
              "      <td>27.9</td>\n",
              "      <td>19.0</td>\n",
              "    </tr>\n",
              "    <tr>\n",
              "      <th>1</th>\n",
              "      <td>1961-01-02</td>\n",
              "      <td>1961</td>\n",
              "      <td>2</td>\n",
              "      <td>27.4</td>\n",
              "      <td>26.0</td>\n",
              "      <td>19.1</td>\n",
              "    </tr>\n",
              "    <tr>\n",
              "      <th>2</th>\n",
              "      <td>1961-01-03</td>\n",
              "      <td>1961</td>\n",
              "      <td>3</td>\n",
              "      <td>47.5</td>\n",
              "      <td>31.4</td>\n",
              "      <td>19.0</td>\n",
              "    </tr>\n",
              "    <tr>\n",
              "      <th>3</th>\n",
              "      <td>1961-01-04</td>\n",
              "      <td>1961</td>\n",
              "      <td>4</td>\n",
              "      <td>0.3</td>\n",
              "      <td>27.9</td>\n",
              "      <td>20.0</td>\n",
              "    </tr>\n",
              "    <tr>\n",
              "      <th>4</th>\n",
              "      <td>1961-01-05</td>\n",
              "      <td>1961</td>\n",
              "      <td>5</td>\n",
              "      <td>11.9</td>\n",
              "      <td>30.7</td>\n",
              "      <td>18.7</td>\n",
              "    </tr>\n",
              "    <tr>\n",
              "      <th>...</th>\n",
              "      <td>...</td>\n",
              "      <td>...</td>\n",
              "      <td>...</td>\n",
              "      <td>...</td>\n",
              "      <td>...</td>\n",
              "      <td>...</td>\n",
              "    </tr>\n",
              "    <tr>\n",
              "      <th>10952</th>\n",
              "      <td>1990-12-27</td>\n",
              "      <td>1990</td>\n",
              "      <td>361</td>\n",
              "      <td>0.0</td>\n",
              "      <td>29.8</td>\n",
              "      <td>18.4</td>\n",
              "    </tr>\n",
              "    <tr>\n",
              "      <th>10953</th>\n",
              "      <td>1990-12-28</td>\n",
              "      <td>1990</td>\n",
              "      <td>362</td>\n",
              "      <td>0.0</td>\n",
              "      <td>31.2</td>\n",
              "      <td>17.0</td>\n",
              "    </tr>\n",
              "    <tr>\n",
              "      <th>10954</th>\n",
              "      <td>1990-12-29</td>\n",
              "      <td>1990</td>\n",
              "      <td>363</td>\n",
              "      <td>3.6</td>\n",
              "      <td>24.6</td>\n",
              "      <td>18.2</td>\n",
              "    </tr>\n",
              "    <tr>\n",
              "      <th>10955</th>\n",
              "      <td>1990-12-30</td>\n",
              "      <td>1990</td>\n",
              "      <td>364</td>\n",
              "      <td>4.4</td>\n",
              "      <td>26.0</td>\n",
              "      <td>11.2</td>\n",
              "    </tr>\n",
              "    <tr>\n",
              "      <th>10956</th>\n",
              "      <td>1990-12-31</td>\n",
              "      <td>1990</td>\n",
              "      <td>365</td>\n",
              "      <td>0.0</td>\n",
              "      <td>28.8</td>\n",
              "      <td>14.8</td>\n",
              "    </tr>\n",
              "  </tbody>\n",
              "</table>\n",
              "<p>10957 rows × 6 columns</p>\n",
              "</div>"
            ],
            "text/plain": [
              "            DATE  YEAR  DAY365  N_RAIN_TOT  N_AIRTMP_MAX  N_AIRTMP_MIN\n",
              "0     1961-01-01  1961       1         0.3          27.9          19.0\n",
              "1     1961-01-02  1961       2        27.4          26.0          19.1\n",
              "2     1961-01-03  1961       3        47.5          31.4          19.0\n",
              "3     1961-01-04  1961       4         0.3          27.9          20.0\n",
              "4     1961-01-05  1961       5        11.9          30.7          18.7\n",
              "...          ...   ...     ...         ...           ...           ...\n",
              "10952 1990-12-27  1990     361         0.0          29.8          18.4\n",
              "10953 1990-12-28  1990     362         0.0          31.2          17.0\n",
              "10954 1990-12-29  1990     363         3.6          24.6          18.2\n",
              "10955 1990-12-30  1990     364         4.4          26.0          11.2\n",
              "10956 1990-12-31  1990     365         0.0          28.8          14.8\n",
              "\n",
              "[10957 rows x 6 columns]"
            ]
          },
          "metadata": {
            "tags": []
          },
          "execution_count": 6
        }
      ]
    },
    {
      "cell_type": "markdown",
      "metadata": {
        "id": "nOT2NdtdHrJS",
        "colab_type": "text"
      },
      "source": [
        "### Defining Database (1956-2018)\n",
        "\n"
      ]
    },
    {
      "cell_type": "code",
      "metadata": {
        "id": "upsgzydV28fD",
        "colab_type": "code",
        "colab": {
          "base_uri": "https://localhost:8080/",
          "height": 419
        },
        "outputId": "7d0a0510-820d-45c7-ac2c-d0d2f8e9fe8d"
      },
      "source": [
        "#defining database\n",
        "#selecting data from 1956 to 2018\n",
        "databaseIAC=df_IAC[(df_IAC['YEAR']>1955)&(df_IAC['YEAR']<=2018)] \n",
        "databaseIAC=databaseIAC.reset_index()\n",
        "del databaseIAC['index']\n",
        "\n",
        "databaseIAC"
      ],
      "execution_count": null,
      "outputs": [
        {
          "output_type": "execute_result",
          "data": {
            "text/html": [
              "<div>\n",
              "<style scoped>\n",
              "    .dataframe tbody tr th:only-of-type {\n",
              "        vertical-align: middle;\n",
              "    }\n",
              "\n",
              "    .dataframe tbody tr th {\n",
              "        vertical-align: top;\n",
              "    }\n",
              "\n",
              "    .dataframe thead th {\n",
              "        text-align: right;\n",
              "    }\n",
              "</style>\n",
              "<table border=\"1\" class=\"dataframe\">\n",
              "  <thead>\n",
              "    <tr style=\"text-align: right;\">\n",
              "      <th></th>\n",
              "      <th>DATE</th>\n",
              "      <th>YEAR</th>\n",
              "      <th>DAY365</th>\n",
              "      <th>N_RAIN_TOT</th>\n",
              "      <th>N_AIRTMP_MAX</th>\n",
              "      <th>N_AIRTMP_MIN</th>\n",
              "    </tr>\n",
              "  </thead>\n",
              "  <tbody>\n",
              "    <tr>\n",
              "      <th>0</th>\n",
              "      <td>1956-01-01</td>\n",
              "      <td>1956</td>\n",
              "      <td>1</td>\n",
              "      <td>5.5</td>\n",
              "      <td>30.3</td>\n",
              "      <td>18.8</td>\n",
              "    </tr>\n",
              "    <tr>\n",
              "      <th>1</th>\n",
              "      <td>1956-01-02</td>\n",
              "      <td>1956</td>\n",
              "      <td>2</td>\n",
              "      <td>6.6</td>\n",
              "      <td>31.1</td>\n",
              "      <td>19.4</td>\n",
              "    </tr>\n",
              "    <tr>\n",
              "      <th>2</th>\n",
              "      <td>1956-01-03</td>\n",
              "      <td>1956</td>\n",
              "      <td>3</td>\n",
              "      <td>13.8</td>\n",
              "      <td>33.1</td>\n",
              "      <td>19.9</td>\n",
              "    </tr>\n",
              "    <tr>\n",
              "      <th>3</th>\n",
              "      <td>1956-01-04</td>\n",
              "      <td>1956</td>\n",
              "      <td>4</td>\n",
              "      <td>0.0</td>\n",
              "      <td>31.7</td>\n",
              "      <td>20.1</td>\n",
              "    </tr>\n",
              "    <tr>\n",
              "      <th>4</th>\n",
              "      <td>1956-01-05</td>\n",
              "      <td>1956</td>\n",
              "      <td>5</td>\n",
              "      <td>0.7</td>\n",
              "      <td>32.7</td>\n",
              "      <td>19.1</td>\n",
              "    </tr>\n",
              "    <tr>\n",
              "      <th>...</th>\n",
              "      <td>...</td>\n",
              "      <td>...</td>\n",
              "      <td>...</td>\n",
              "      <td>...</td>\n",
              "      <td>...</td>\n",
              "      <td>...</td>\n",
              "    </tr>\n",
              "    <tr>\n",
              "      <th>23006</th>\n",
              "      <td>2018-12-27</td>\n",
              "      <td>2018</td>\n",
              "      <td>361</td>\n",
              "      <td>0.0</td>\n",
              "      <td>28.8</td>\n",
              "      <td>19.0</td>\n",
              "    </tr>\n",
              "    <tr>\n",
              "      <th>23007</th>\n",
              "      <td>2018-12-28</td>\n",
              "      <td>2018</td>\n",
              "      <td>362</td>\n",
              "      <td>23.1</td>\n",
              "      <td>31.2</td>\n",
              "      <td>18.6</td>\n",
              "    </tr>\n",
              "    <tr>\n",
              "      <th>23008</th>\n",
              "      <td>2018-12-29</td>\n",
              "      <td>2018</td>\n",
              "      <td>363</td>\n",
              "      <td>0.0</td>\n",
              "      <td>31.7</td>\n",
              "      <td>18.7</td>\n",
              "    </tr>\n",
              "    <tr>\n",
              "      <th>23009</th>\n",
              "      <td>2018-12-30</td>\n",
              "      <td>2018</td>\n",
              "      <td>364</td>\n",
              "      <td>0.0</td>\n",
              "      <td>32.1</td>\n",
              "      <td>19.8</td>\n",
              "    </tr>\n",
              "    <tr>\n",
              "      <th>23010</th>\n",
              "      <td>2018-12-31</td>\n",
              "      <td>2018</td>\n",
              "      <td>365</td>\n",
              "      <td>0.0</td>\n",
              "      <td>33.5</td>\n",
              "      <td>19.0</td>\n",
              "    </tr>\n",
              "  </tbody>\n",
              "</table>\n",
              "<p>23011 rows × 6 columns</p>\n",
              "</div>"
            ],
            "text/plain": [
              "            DATE  YEAR  DAY365  N_RAIN_TOT  N_AIRTMP_MAX  N_AIRTMP_MIN\n",
              "0     1956-01-01  1956       1         5.5          30.3          18.8\n",
              "1     1956-01-02  1956       2         6.6          31.1          19.4\n",
              "2     1956-01-03  1956       3        13.8          33.1          19.9\n",
              "3     1956-01-04  1956       4         0.0          31.7          20.1\n",
              "4     1956-01-05  1956       5         0.7          32.7          19.1\n",
              "...          ...   ...     ...         ...           ...           ...\n",
              "23006 2018-12-27  2018     361         0.0          28.8          19.0\n",
              "23007 2018-12-28  2018     362        23.1          31.2          18.6\n",
              "23008 2018-12-29  2018     363         0.0          31.7          18.7\n",
              "23009 2018-12-30  2018     364         0.0          32.1          19.8\n",
              "23010 2018-12-31  2018     365         0.0          33.5          19.0\n",
              "\n",
              "[23011 rows x 6 columns]"
            ]
          },
          "metadata": {
            "tags": []
          },
          "execution_count": 7
        }
      ]
    },
    {
      "cell_type": "code",
      "metadata": {
        "id": "ejCV-VC53Sgt",
        "colab_type": "code",
        "colab": {
          "base_uri": "https://localhost:8080/",
          "height": 297
        },
        "outputId": "419ffdac-0dbb-4aa9-cbff-522936fffa14"
      },
      "source": [
        "databaseIAC.describe()"
      ],
      "execution_count": null,
      "outputs": [
        {
          "output_type": "execute_result",
          "data": {
            "text/html": [
              "<div>\n",
              "<style scoped>\n",
              "    .dataframe tbody tr th:only-of-type {\n",
              "        vertical-align: middle;\n",
              "    }\n",
              "\n",
              "    .dataframe tbody tr th {\n",
              "        vertical-align: top;\n",
              "    }\n",
              "\n",
              "    .dataframe thead th {\n",
              "        text-align: right;\n",
              "    }\n",
              "</style>\n",
              "<table border=\"1\" class=\"dataframe\">\n",
              "  <thead>\n",
              "    <tr style=\"text-align: right;\">\n",
              "      <th></th>\n",
              "      <th>YEAR</th>\n",
              "      <th>DAY365</th>\n",
              "      <th>N_RAIN_TOT</th>\n",
              "      <th>N_AIRTMP_MAX</th>\n",
              "      <th>N_AIRTMP_MIN</th>\n",
              "    </tr>\n",
              "  </thead>\n",
              "  <tbody>\n",
              "    <tr>\n",
              "      <th>count</th>\n",
              "      <td>23011.000000</td>\n",
              "      <td>23011.000000</td>\n",
              "      <td>23011.000000</td>\n",
              "      <td>22643.000000</td>\n",
              "      <td>23011.000000</td>\n",
              "    </tr>\n",
              "    <tr>\n",
              "      <th>mean</th>\n",
              "      <td>1986.999305</td>\n",
              "      <td>183.127243</td>\n",
              "      <td>3.801195</td>\n",
              "      <td>27.667313</td>\n",
              "      <td>16.184355</td>\n",
              "    </tr>\n",
              "    <tr>\n",
              "      <th>std</th>\n",
              "      <td>18.184835</td>\n",
              "      <td>105.442084</td>\n",
              "      <td>10.046020</td>\n",
              "      <td>3.733536</td>\n",
              "      <td>3.335466</td>\n",
              "    </tr>\n",
              "    <tr>\n",
              "      <th>min</th>\n",
              "      <td>1956.000000</td>\n",
              "      <td>1.000000</td>\n",
              "      <td>0.000000</td>\n",
              "      <td>10.700000</td>\n",
              "      <td>0.200000</td>\n",
              "    </tr>\n",
              "    <tr>\n",
              "      <th>25%</th>\n",
              "      <td>1971.000000</td>\n",
              "      <td>92.000000</td>\n",
              "      <td>0.000000</td>\n",
              "      <td>25.400000</td>\n",
              "      <td>14.000000</td>\n",
              "    </tr>\n",
              "    <tr>\n",
              "      <th>50%</th>\n",
              "      <td>1987.000000</td>\n",
              "      <td>183.000000</td>\n",
              "      <td>0.000000</td>\n",
              "      <td>28.000000</td>\n",
              "      <td>16.600000</td>\n",
              "    </tr>\n",
              "    <tr>\n",
              "      <th>75%</th>\n",
              "      <td>2003.000000</td>\n",
              "      <td>274.000000</td>\n",
              "      <td>1.300000</td>\n",
              "      <td>30.400000</td>\n",
              "      <td>18.900000</td>\n",
              "    </tr>\n",
              "    <tr>\n",
              "      <th>max</th>\n",
              "      <td>2018.000000</td>\n",
              "      <td>366.000000</td>\n",
              "      <td>144.700000</td>\n",
              "      <td>38.300000</td>\n",
              "      <td>25.000000</td>\n",
              "    </tr>\n",
              "  </tbody>\n",
              "</table>\n",
              "</div>"
            ],
            "text/plain": [
              "               YEAR        DAY365    N_RAIN_TOT  N_AIRTMP_MAX  N_AIRTMP_MIN\n",
              "count  23011.000000  23011.000000  23011.000000  22643.000000  23011.000000\n",
              "mean    1986.999305    183.127243      3.801195     27.667313     16.184355\n",
              "std       18.184835    105.442084     10.046020      3.733536      3.335466\n",
              "min     1956.000000      1.000000      0.000000     10.700000      0.200000\n",
              "25%     1971.000000     92.000000      0.000000     25.400000     14.000000\n",
              "50%     1987.000000    183.000000      0.000000     28.000000     16.600000\n",
              "75%     2003.000000    274.000000      1.300000     30.400000     18.900000\n",
              "max     2018.000000    366.000000    144.700000     38.300000     25.000000"
            ]
          },
          "metadata": {
            "tags": []
          },
          "execution_count": 8
        }
      ]
    },
    {
      "cell_type": "markdown",
      "metadata": {
        "id": "g255LkehIGM9",
        "colab_type": "text"
      },
      "source": [
        "#### Checking missing data\n",
        "\n"
      ]
    },
    {
      "cell_type": "code",
      "metadata": {
        "id": "-5rqTqWA5pKQ",
        "colab_type": "code",
        "colab": {
          "base_uri": "https://localhost:8080/",
          "height": 34
        },
        "outputId": "56061664-0f51-4e7a-baea-ca7812b84f58"
      },
      "source": [
        "databaseIAC.shape"
      ],
      "execution_count": null,
      "outputs": [
        {
          "output_type": "execute_result",
          "data": {
            "text/plain": [
              "(23011, 6)"
            ]
          },
          "metadata": {
            "tags": []
          },
          "execution_count": 9
        }
      ]
    },
    {
      "cell_type": "code",
      "metadata": {
        "id": "q_pGV82538b6",
        "colab_type": "code",
        "colab": {
          "base_uri": "https://localhost:8080/",
          "height": 136
        },
        "outputId": "7416fd1d-10e0-486f-f7a6-f817a24816ed"
      },
      "source": [
        "#checking NA values\n",
        "databaseIAC.isna().sum()"
      ],
      "execution_count": null,
      "outputs": [
        {
          "output_type": "execute_result",
          "data": {
            "text/plain": [
              "DATE              0\n",
              "YEAR              0\n",
              "DAY365            0\n",
              "N_RAIN_TOT        0\n",
              "N_AIRTMP_MAX    368\n",
              "N_AIRTMP_MIN      0\n",
              "dtype: int64"
            ]
          },
          "metadata": {
            "tags": []
          },
          "execution_count": 10
        }
      ]
    },
    {
      "cell_type": "code",
      "metadata": {
        "id": "TPg7tRYC4z1f",
        "colab_type": "code",
        "colab": {
          "base_uri": "https://localhost:8080/",
          "height": 34
        },
        "outputId": "83aa1255-c60e-4c66-d001-492c922c31a1"
      },
      "source": [
        "#Calculating missing data - maximum temperature\n",
        "md = 368/23011 * 100\n",
        "print(\"Missing maximum temperature data: {:.2f} %\".format(md))"
      ],
      "execution_count": null,
      "outputs": [
        {
          "output_type": "stream",
          "text": [
            "Missing maximum temperature data: 1.60 %\n"
          ],
          "name": "stdout"
        }
      ]
    },
    {
      "cell_type": "markdown",
      "metadata": {
        "id": "bT9QFrYpLRfn",
        "colab_type": "text"
      },
      "source": [
        "## Computing Heatwaves\n",
        "\n",
        "Using function check_HeatWave from climatex library"
      ]
    },
    {
      "cell_type": "code",
      "metadata": {
        "id": "IlowK1WA-IWn",
        "colab_type": "code",
        "colab": {
          "base_uri": "https://localhost:8080/",
          "height": 1000
        },
        "outputId": "9f41c535-16bf-4b9d-e1bd-c153a187c89d"
      },
      "source": [
        "#checking function parameters\n",
        "help(tex.check_HeatWave)"
      ],
      "execution_count": null,
      "outputs": [
        {
          "output_type": "stream",
          "text": [
            "Help on function check_HeatWave in module climatex:\n",
            "\n",
            "check_HeatWave(database, db_columnMAX, db_columnMIN, climatic_normal, pct_columnMAX, pct_columnMIN, db_columnDay365=False, db_complete=False, cn_columnDay365=False, df_pct=None, percentile_value=0.9, window_size=15)\n",
            "    #-------------------------------------------------------------------------------\n",
            "    ## Checks for Heat Waves on the database according to the Climatic Normal This\n",
            "    ## function uses Geirinhas et al. 2018 method. It obtains first a dataframe with\n",
            "    ## the percentiles computed from the Climatic Normal according to the defined\n",
            "    ## window size (df_pct). Then compares it with the database, to check if the\n",
            "    ## maximum and minimum temperatures are above the corresponding percentile. If\n",
            "    ## the temperatures are above the threshold, the column 'above_pct' receives 1.\n",
            "    ## This column is then used to identify if there are 3 or more consecutive\n",
            "    ## extremely warm days (Heat Wave). The column 'HW' then receives 1 for the days\n",
            "    ## that are inside of a Heat Wave\n",
            "    ##\n",
            "    ## Climatic Normal dataframe needs to have at least 'DATE' and 'pct_column'.\n",
            "    ## Database dataframe needs to have at least 'DATE' and 'db_column'. IF either\n",
            "    ## or one of those dataframes don't have the 'DAY365' column (day of the year\n",
            "    ## column), cn_columnDay365 and/or db_columnDay365 parameters must be False,\n",
            "    ## otherwise True.\n",
            "    ##\n",
            "    ## If there are missing DATES on the database, db_complete parameter must be\n",
            "    ## False, otherwise True.\n",
            "    ##\n",
            "    ## In case the df_pct was previously obtained, set df_pct = Dataframe obtained\n",
            "    ## and set climatic_normal and pct_columns to None or any value/dataframe.\n",
            "    ##\n",
            "    ## :type       database:          pandas.DataFrame\n",
            "    ## :param      database:          The database\n",
            "    ## :type       db_columnMAX:      String\n",
            "    ## :param      db_columnMAX:      Name of the column of the database with\n",
            "    ##                                maximum temperatures to be compared with\n",
            "    ##                                CTX_pct\n",
            "    ## :type       db_columnMIN:      String\n",
            "    ## :param      db_columnMIN:      Name of the column of the database with\n",
            "    ##                                minimum temperatures to be compared with\n",
            "    ##                                CTN_pct\n",
            "    ## :type       climatic_normal:   pandas.DataFrame\n",
            "    ## :param      climatic_normal:   The climatic normal\n",
            "    ## :type       pct_columnMAX:     String\n",
            "    ## :param      pct_columnMAX:     Name of the column from the climatic normal\n",
            "    ##                                used to calculate the percentile for maximum\n",
            "    ##                                temperatures\n",
            "    ## :type       pct_columnMIN:     String\n",
            "    ## :param      pct_columnMIN:     Name of the column from the climatic normal\n",
            "    ##                                used to calculate the percentile for minimum\n",
            "    ##                                temperatures\n",
            "    ## :type       db_columnDay365:   Boolean (True or False)\n",
            "    ## :param      db_columnDay365:   Indicates if the database has the Day365/day\n",
            "    ##                                of the year column (db_columnDay365 = True) or\n",
            "    ##                                not (db_columnDay365 = False - default)\n",
            "    ## :type       db_complete:       Boolean (True or False)\n",
            "    ## :param      db_complete:       Indicates if the database has missing DATES\n",
            "    ##                                (db_complete = False - default) or not\n",
            "    ##                                (db_complete = True)\n",
            "    ## :type       cn_columnDay365:   Boolean (True or False)\n",
            "    ## :param      cn_columnDay365:   Indicates if the climatic normal has the\n",
            "    ##                                Day365/day of the year column (cn_columnDay365\n",
            "    ##                                = True) or not (cn_columnDay365 = False -\n",
            "    ##                                default)\n",
            "    ## :type       df_pct:            pandas.DataFrame\n",
            "    ## :param      df_pct:            The df pct - in case the dataframe with\n",
            "    ##                                percentiles was already obtained, otherwise\n",
            "    ##                                set df_pct = None (default)\n",
            "    ## :type       percentile_value:  Float\n",
            "    ## :param      percentile_value:  The percentile value (0 to 1.0), default = 0.9\n",
            "    ## :type       window_size:       Integer\n",
            "    ## :param      window_size:       The size of the window used to calculate the\n",
            "    ##                                percentile, default = 15 days\n",
            "    ##\n",
            "    ## :returns:   df_checkHW -> database dataframe including columns 'above_pct'\n",
            "    ##             and 'HW' \n",
            "    ##             df_pct -> dataframe with percentiles for each day of the\n",
            "    ##             year (1 to 365)\n",
            "    ## :rtype:     pandas.DataFrame\n",
            "    ##\n",
            "\n"
          ],
          "name": "stdout"
        }
      ]
    },
    {
      "cell_type": "code",
      "metadata": {
        "id": "YCI7oOMY5vJ2",
        "colab_type": "code",
        "colab": {
          "base_uri": "https://localhost:8080/",
          "height": 306
        },
        "outputId": "9f51e966-4f63-4077-9dc1-df5a696346ed"
      },
      "source": [
        "#computing heatwaves and percentiles threshold\n",
        "HW_IAC,pct_IAC = tex.check_HeatWave(databaseIAC,'N_AIRTMP_MAX','N_AIRTMP_MIN',\n",
        "                           climatic_normal,'N_AIRTMP_MAX','N_AIRTMP_MIN',\n",
        "                           db_columnDay365=True, db_complete=True, cn_columnDay365=True)"
      ],
      "execution_count": null,
      "outputs": [
        {
          "output_type": "stream",
          "text": [
            "/usr/local/lib/python3.6/dist-packages/pandas/core/indexing.py:845: SettingWithCopyWarning: \n",
            "A value is trying to be set on a copy of a slice from a DataFrame.\n",
            "Try using .loc[row_indexer,col_indexer] = value instead\n",
            "\n",
            "See the caveats in the documentation: https://pandas.pydata.org/pandas-docs/stable/user_guide/indexing.html#returning-a-view-versus-a-copy\n",
            "  self.obj[key] = _infer_fill_value(value)\n",
            "/usr/local/lib/python3.6/dist-packages/pandas/core/indexing.py:966: SettingWithCopyWarning: \n",
            "A value is trying to be set on a copy of a slice from a DataFrame.\n",
            "Try using .loc[row_indexer,col_indexer] = value instead\n",
            "\n",
            "See the caveats in the documentation: https://pandas.pydata.org/pandas-docs/stable/user_guide/indexing.html#returning-a-view-versus-a-copy\n",
            "  self.obj[item] = s\n",
            "/usr/local/lib/python3.6/dist-packages/pandas/core/indexing.py:671: SettingWithCopyWarning: \n",
            "A value is trying to be set on a copy of a slice from a DataFrame\n",
            "\n",
            "See the caveats in the documentation: https://pandas.pydata.org/pandas-docs/stable/user_guide/indexing.html#returning-a-view-versus-a-copy\n",
            "  self._setitem_with_indexer(indexer, value)\n"
          ],
          "name": "stderr"
        }
      ]
    },
    {
      "cell_type": "code",
      "metadata": {
        "id": "liPbJ0dW-vcQ",
        "colab_type": "code",
        "colab": {
          "base_uri": "https://localhost:8080/",
          "height": 450
        },
        "outputId": "4c97cf76-5d18-4382-f196-ee33f408169b"
      },
      "source": [
        "#percentiles threshold\n",
        "pct_IAC"
      ],
      "execution_count": null,
      "outputs": [
        {
          "output_type": "execute_result",
          "data": {
            "text/html": [
              "<div>\n",
              "<style scoped>\n",
              "    .dataframe tbody tr th:only-of-type {\n",
              "        vertical-align: middle;\n",
              "    }\n",
              "\n",
              "    .dataframe tbody tr th {\n",
              "        vertical-align: top;\n",
              "    }\n",
              "\n",
              "    .dataframe thead th {\n",
              "        text-align: right;\n",
              "    }\n",
              "</style>\n",
              "<table border=\"1\" class=\"dataframe\">\n",
              "  <thead>\n",
              "    <tr style=\"text-align: right;\">\n",
              "      <th></th>\n",
              "      <th>CTX90pct</th>\n",
              "      <th>CTN90pct</th>\n",
              "    </tr>\n",
              "    <tr>\n",
              "      <th>DAY365</th>\n",
              "      <th></th>\n",
              "      <th></th>\n",
              "    </tr>\n",
              "  </thead>\n",
              "  <tbody>\n",
              "    <tr>\n",
              "      <th>1</th>\n",
              "      <td>31.40</td>\n",
              "      <td>20.2</td>\n",
              "    </tr>\n",
              "    <tr>\n",
              "      <th>2</th>\n",
              "      <td>31.53</td>\n",
              "      <td>20.3</td>\n",
              "    </tr>\n",
              "    <tr>\n",
              "      <th>3</th>\n",
              "      <td>31.60</td>\n",
              "      <td>20.4</td>\n",
              "    </tr>\n",
              "    <tr>\n",
              "      <th>4</th>\n",
              "      <td>31.78</td>\n",
              "      <td>20.4</td>\n",
              "    </tr>\n",
              "    <tr>\n",
              "      <th>5</th>\n",
              "      <td>31.80</td>\n",
              "      <td>20.4</td>\n",
              "    </tr>\n",
              "    <tr>\n",
              "      <th>...</th>\n",
              "      <td>...</td>\n",
              "      <td>...</td>\n",
              "    </tr>\n",
              "    <tr>\n",
              "      <th>361</th>\n",
              "      <td>31.20</td>\n",
              "      <td>20.2</td>\n",
              "    </tr>\n",
              "    <tr>\n",
              "      <th>362</th>\n",
              "      <td>31.20</td>\n",
              "      <td>20.1</td>\n",
              "    </tr>\n",
              "    <tr>\n",
              "      <th>363</th>\n",
              "      <td>31.17</td>\n",
              "      <td>20.1</td>\n",
              "    </tr>\n",
              "    <tr>\n",
              "      <th>364</th>\n",
              "      <td>31.20</td>\n",
              "      <td>20.2</td>\n",
              "    </tr>\n",
              "    <tr>\n",
              "      <th>365</th>\n",
              "      <td>31.37</td>\n",
              "      <td>20.2</td>\n",
              "    </tr>\n",
              "  </tbody>\n",
              "</table>\n",
              "<p>365 rows × 2 columns</p>\n",
              "</div>"
            ],
            "text/plain": [
              "        CTX90pct  CTN90pct\n",
              "DAY365                    \n",
              "1          31.40      20.2\n",
              "2          31.53      20.3\n",
              "3          31.60      20.4\n",
              "4          31.78      20.4\n",
              "5          31.80      20.4\n",
              "...          ...       ...\n",
              "361        31.20      20.2\n",
              "362        31.20      20.1\n",
              "363        31.17      20.1\n",
              "364        31.20      20.2\n",
              "365        31.37      20.2\n",
              "\n",
              "[365 rows x 2 columns]"
            ]
          },
          "metadata": {
            "tags": []
          },
          "execution_count": 14
        }
      ]
    },
    {
      "cell_type": "code",
      "metadata": {
        "id": "c_3DefWZDDJq",
        "colab_type": "code",
        "colab": {
          "base_uri": "https://localhost:8080/",
          "height": 419
        },
        "outputId": "965c3045-7f10-43d0-f2f9-4d83c6abdcc7"
      },
      "source": [
        "#heatwaves dataframe\n",
        "HW_IAC"
      ],
      "execution_count": null,
      "outputs": [
        {
          "output_type": "execute_result",
          "data": {
            "text/html": [
              "<div>\n",
              "<style scoped>\n",
              "    .dataframe tbody tr th:only-of-type {\n",
              "        vertical-align: middle;\n",
              "    }\n",
              "\n",
              "    .dataframe tbody tr th {\n",
              "        vertical-align: top;\n",
              "    }\n",
              "\n",
              "    .dataframe thead th {\n",
              "        text-align: right;\n",
              "    }\n",
              "</style>\n",
              "<table border=\"1\" class=\"dataframe\">\n",
              "  <thead>\n",
              "    <tr style=\"text-align: right;\">\n",
              "      <th></th>\n",
              "      <th>DAY365</th>\n",
              "      <th>DATE</th>\n",
              "      <th>YEAR</th>\n",
              "      <th>N_RAIN_TOT</th>\n",
              "      <th>N_AIRTMP_MAX</th>\n",
              "      <th>N_AIRTMP_MIN</th>\n",
              "      <th>above_pct</th>\n",
              "      <th>HW</th>\n",
              "    </tr>\n",
              "  </thead>\n",
              "  <tbody>\n",
              "    <tr>\n",
              "      <th>0</th>\n",
              "      <td>1</td>\n",
              "      <td>1956-01-01</td>\n",
              "      <td>1956</td>\n",
              "      <td>5.5</td>\n",
              "      <td>30.3</td>\n",
              "      <td>18.8</td>\n",
              "      <td>0</td>\n",
              "      <td>0</td>\n",
              "    </tr>\n",
              "    <tr>\n",
              "      <th>1</th>\n",
              "      <td>2</td>\n",
              "      <td>1956-01-02</td>\n",
              "      <td>1956</td>\n",
              "      <td>6.6</td>\n",
              "      <td>31.1</td>\n",
              "      <td>19.4</td>\n",
              "      <td>0</td>\n",
              "      <td>0</td>\n",
              "    </tr>\n",
              "    <tr>\n",
              "      <th>2</th>\n",
              "      <td>3</td>\n",
              "      <td>1956-01-03</td>\n",
              "      <td>1956</td>\n",
              "      <td>13.8</td>\n",
              "      <td>33.1</td>\n",
              "      <td>19.9</td>\n",
              "      <td>0</td>\n",
              "      <td>0</td>\n",
              "    </tr>\n",
              "    <tr>\n",
              "      <th>3</th>\n",
              "      <td>4</td>\n",
              "      <td>1956-01-04</td>\n",
              "      <td>1956</td>\n",
              "      <td>0.0</td>\n",
              "      <td>31.7</td>\n",
              "      <td>20.1</td>\n",
              "      <td>0</td>\n",
              "      <td>0</td>\n",
              "    </tr>\n",
              "    <tr>\n",
              "      <th>4</th>\n",
              "      <td>5</td>\n",
              "      <td>1956-01-05</td>\n",
              "      <td>1956</td>\n",
              "      <td>0.7</td>\n",
              "      <td>32.7</td>\n",
              "      <td>19.1</td>\n",
              "      <td>0</td>\n",
              "      <td>0</td>\n",
              "    </tr>\n",
              "    <tr>\n",
              "      <th>...</th>\n",
              "      <td>...</td>\n",
              "      <td>...</td>\n",
              "      <td>...</td>\n",
              "      <td>...</td>\n",
              "      <td>...</td>\n",
              "      <td>...</td>\n",
              "      <td>...</td>\n",
              "      <td>...</td>\n",
              "    </tr>\n",
              "    <tr>\n",
              "      <th>22990</th>\n",
              "      <td>361</td>\n",
              "      <td>2018-12-27</td>\n",
              "      <td>2018</td>\n",
              "      <td>0.0</td>\n",
              "      <td>28.8</td>\n",
              "      <td>19.0</td>\n",
              "      <td>0</td>\n",
              "      <td>0</td>\n",
              "    </tr>\n",
              "    <tr>\n",
              "      <th>22991</th>\n",
              "      <td>362</td>\n",
              "      <td>2018-12-28</td>\n",
              "      <td>2018</td>\n",
              "      <td>23.1</td>\n",
              "      <td>31.2</td>\n",
              "      <td>18.6</td>\n",
              "      <td>0</td>\n",
              "      <td>0</td>\n",
              "    </tr>\n",
              "    <tr>\n",
              "      <th>22992</th>\n",
              "      <td>363</td>\n",
              "      <td>2018-12-29</td>\n",
              "      <td>2018</td>\n",
              "      <td>0.0</td>\n",
              "      <td>31.7</td>\n",
              "      <td>18.7</td>\n",
              "      <td>0</td>\n",
              "      <td>0</td>\n",
              "    </tr>\n",
              "    <tr>\n",
              "      <th>22993</th>\n",
              "      <td>364</td>\n",
              "      <td>2018-12-30</td>\n",
              "      <td>2018</td>\n",
              "      <td>0.0</td>\n",
              "      <td>32.1</td>\n",
              "      <td>19.8</td>\n",
              "      <td>0</td>\n",
              "      <td>0</td>\n",
              "    </tr>\n",
              "    <tr>\n",
              "      <th>22994</th>\n",
              "      <td>365</td>\n",
              "      <td>2018-12-31</td>\n",
              "      <td>2018</td>\n",
              "      <td>0.0</td>\n",
              "      <td>33.5</td>\n",
              "      <td>19.0</td>\n",
              "      <td>0</td>\n",
              "      <td>0</td>\n",
              "    </tr>\n",
              "  </tbody>\n",
              "</table>\n",
              "<p>22995 rows × 8 columns</p>\n",
              "</div>"
            ],
            "text/plain": [
              "       DAY365       DATE  YEAR  ...  N_AIRTMP_MIN  above_pct  HW\n",
              "0           1 1956-01-01  1956  ...          18.8          0   0\n",
              "1           2 1956-01-02  1956  ...          19.4          0   0\n",
              "2           3 1956-01-03  1956  ...          19.9          0   0\n",
              "3           4 1956-01-04  1956  ...          20.1          0   0\n",
              "4           5 1956-01-05  1956  ...          19.1          0   0\n",
              "...       ...        ...   ...  ...           ...        ...  ..\n",
              "22990     361 2018-12-27  2018  ...          19.0          0   0\n",
              "22991     362 2018-12-28  2018  ...          18.6          0   0\n",
              "22992     363 2018-12-29  2018  ...          18.7          0   0\n",
              "22993     364 2018-12-30  2018  ...          19.8          0   0\n",
              "22994     365 2018-12-31  2018  ...          19.0          0   0\n",
              "\n",
              "[22995 rows x 8 columns]"
            ]
          },
          "metadata": {
            "tags": []
          },
          "execution_count": 15
        }
      ]
    },
    {
      "cell_type": "code",
      "metadata": {
        "id": "n5jNn7DrDUBr",
        "colab_type": "code",
        "colab": {
          "base_uri": "https://localhost:8080/",
          "height": 419
        },
        "outputId": "12ed3dc0-d94c-4c63-b408-491a066156d9"
      },
      "source": [
        "#checking dates with heatwaves (HW = 1)\n",
        "HW_IAC[HW_IAC['HW']==1]"
      ],
      "execution_count": null,
      "outputs": [
        {
          "output_type": "execute_result",
          "data": {
            "text/html": [
              "<div>\n",
              "<style scoped>\n",
              "    .dataframe tbody tr th:only-of-type {\n",
              "        vertical-align: middle;\n",
              "    }\n",
              "\n",
              "    .dataframe tbody tr th {\n",
              "        vertical-align: top;\n",
              "    }\n",
              "\n",
              "    .dataframe thead th {\n",
              "        text-align: right;\n",
              "    }\n",
              "</style>\n",
              "<table border=\"1\" class=\"dataframe\">\n",
              "  <thead>\n",
              "    <tr style=\"text-align: right;\">\n",
              "      <th></th>\n",
              "      <th>DAY365</th>\n",
              "      <th>DATE</th>\n",
              "      <th>YEAR</th>\n",
              "      <th>N_RAIN_TOT</th>\n",
              "      <th>N_AIRTMP_MAX</th>\n",
              "      <th>N_AIRTMP_MIN</th>\n",
              "      <th>above_pct</th>\n",
              "      <th>HW</th>\n",
              "    </tr>\n",
              "  </thead>\n",
              "  <tbody>\n",
              "    <tr>\n",
              "      <th>1344</th>\n",
              "      <td>250</td>\n",
              "      <td>1959-09-07</td>\n",
              "      <td>1959</td>\n",
              "      <td>0.0</td>\n",
              "      <td>35.4</td>\n",
              "      <td>17.1</td>\n",
              "      <td>1</td>\n",
              "      <td>1</td>\n",
              "    </tr>\n",
              "    <tr>\n",
              "      <th>1345</th>\n",
              "      <td>251</td>\n",
              "      <td>1959-09-08</td>\n",
              "      <td>1959</td>\n",
              "      <td>0.0</td>\n",
              "      <td>35.5</td>\n",
              "      <td>19.2</td>\n",
              "      <td>1</td>\n",
              "      <td>1</td>\n",
              "    </tr>\n",
              "    <tr>\n",
              "      <th>1346</th>\n",
              "      <td>252</td>\n",
              "      <td>1959-09-09</td>\n",
              "      <td>1959</td>\n",
              "      <td>0.0</td>\n",
              "      <td>33.9</td>\n",
              "      <td>18.6</td>\n",
              "      <td>1</td>\n",
              "      <td>1</td>\n",
              "    </tr>\n",
              "    <tr>\n",
              "      <th>1369</th>\n",
              "      <td>275</td>\n",
              "      <td>1959-10-02</td>\n",
              "      <td>1959</td>\n",
              "      <td>0.0</td>\n",
              "      <td>35.6</td>\n",
              "      <td>18.4</td>\n",
              "      <td>1</td>\n",
              "      <td>1</td>\n",
              "    </tr>\n",
              "    <tr>\n",
              "      <th>1370</th>\n",
              "      <td>276</td>\n",
              "      <td>1959-10-03</td>\n",
              "      <td>1959</td>\n",
              "      <td>0.0</td>\n",
              "      <td>36.4</td>\n",
              "      <td>19.0</td>\n",
              "      <td>1</td>\n",
              "      <td>1</td>\n",
              "    </tr>\n",
              "    <tr>\n",
              "      <th>...</th>\n",
              "      <td>...</td>\n",
              "      <td>...</td>\n",
              "      <td>...</td>\n",
              "      <td>...</td>\n",
              "      <td>...</td>\n",
              "      <td>...</td>\n",
              "      <td>...</td>\n",
              "      <td>...</td>\n",
              "    </tr>\n",
              "    <tr>\n",
              "      <th>22981</th>\n",
              "      <td>352</td>\n",
              "      <td>2018-12-18</td>\n",
              "      <td>2018</td>\n",
              "      <td>13.5</td>\n",
              "      <td>34.8</td>\n",
              "      <td>21.4</td>\n",
              "      <td>1</td>\n",
              "      <td>1</td>\n",
              "    </tr>\n",
              "    <tr>\n",
              "      <th>22982</th>\n",
              "      <td>353</td>\n",
              "      <td>2018-12-19</td>\n",
              "      <td>2018</td>\n",
              "      <td>2.0</td>\n",
              "      <td>33.3</td>\n",
              "      <td>21.5</td>\n",
              "      <td>1</td>\n",
              "      <td>1</td>\n",
              "    </tr>\n",
              "    <tr>\n",
              "      <th>22983</th>\n",
              "      <td>354</td>\n",
              "      <td>2018-12-20</td>\n",
              "      <td>2018</td>\n",
              "      <td>0.0</td>\n",
              "      <td>31.7</td>\n",
              "      <td>22.1</td>\n",
              "      <td>1</td>\n",
              "      <td>1</td>\n",
              "    </tr>\n",
              "    <tr>\n",
              "      <th>22984</th>\n",
              "      <td>355</td>\n",
              "      <td>2018-12-21</td>\n",
              "      <td>2018</td>\n",
              "      <td>0.0</td>\n",
              "      <td>34.1</td>\n",
              "      <td>21.6</td>\n",
              "      <td>1</td>\n",
              "      <td>1</td>\n",
              "    </tr>\n",
              "    <tr>\n",
              "      <th>22985</th>\n",
              "      <td>356</td>\n",
              "      <td>2018-12-22</td>\n",
              "      <td>2018</td>\n",
              "      <td>0.0</td>\n",
              "      <td>34.1</td>\n",
              "      <td>21.2</td>\n",
              "      <td>1</td>\n",
              "      <td>1</td>\n",
              "    </tr>\n",
              "  </tbody>\n",
              "</table>\n",
              "<p>389 rows × 8 columns</p>\n",
              "</div>"
            ],
            "text/plain": [
              "       DAY365       DATE  YEAR  ...  N_AIRTMP_MIN  above_pct  HW\n",
              "1344      250 1959-09-07  1959  ...          17.1          1   1\n",
              "1345      251 1959-09-08  1959  ...          19.2          1   1\n",
              "1346      252 1959-09-09  1959  ...          18.6          1   1\n",
              "1369      275 1959-10-02  1959  ...          18.4          1   1\n",
              "1370      276 1959-10-03  1959  ...          19.0          1   1\n",
              "...       ...        ...   ...  ...           ...        ...  ..\n",
              "22981     352 2018-12-18  2018  ...          21.4          1   1\n",
              "22982     353 2018-12-19  2018  ...          21.5          1   1\n",
              "22983     354 2018-12-20  2018  ...          22.1          1   1\n",
              "22984     355 2018-12-21  2018  ...          21.6          1   1\n",
              "22985     356 2018-12-22  2018  ...          21.2          1   1\n",
              "\n",
              "[389 rows x 8 columns]"
            ]
          },
          "metadata": {
            "tags": []
          },
          "execution_count": 16
        }
      ]
    },
    {
      "cell_type": "code",
      "metadata": {
        "id": "Hvyimj7EhncX",
        "colab_type": "code",
        "colab": {}
      },
      "source": [
        "#HW_IAC.to_csv('IAC_HW1956_2018.csv')"
      ],
      "execution_count": null,
      "outputs": []
    },
    {
      "cell_type": "markdown",
      "metadata": {
        "id": "9SVpHKEjM5NO",
        "colab_type": "text"
      },
      "source": [
        "## Metrics\n",
        "\n",
        "Using functions wave_metrics and wave_seasonMetrics from climatex library to obtain yearly and seasonal metrics"
      ]
    },
    {
      "cell_type": "markdown",
      "metadata": {
        "id": "b4VDA-FDM-XQ",
        "colab_type": "text"
      },
      "source": [
        "### Yearly metrics\n",
        "\n",
        "Function: tex.wave_metrics\n",
        "\n",
        "\n",
        "\n"
      ]
    },
    {
      "cell_type": "code",
      "metadata": {
        "id": "DwQbrnT-DadN",
        "colab_type": "code",
        "colab": {
          "base_uri": "https://localhost:8080/",
          "height": 510
        },
        "outputId": "717dce7d-696b-4794-ae32-ff132533dddc"
      },
      "source": [
        "#checking wave_metrics parameters\n",
        "help(tex.wave_metrics)"
      ],
      "execution_count": null,
      "outputs": [
        {
          "output_type": "stream",
          "text": [
            "Help on function wave_metrics in module climatex:\n",
            "\n",
            "wave_metrics(df_checkW, wave_column, plot=False)\n",
            "    #-------------------------------------------------------------------------------\n",
            "    ## Function to obtain the metrics of a Heat/Cold Wave given the database\n",
            "    ## dataframe containing the 'HW'/'CW' column that indicates if a day is inside\n",
            "    ## of a Heat/Cold Wave or not -> check get_wave function. This function obtains\n",
            "    ## the wave duration for each year (HWN) of the database and then computes its\n",
            "    ## maximum duration (HWD) and its intensity - sum of wave durations (HWF). These\n",
            "    ## metrics are stored in a dataframe which includes the Heat/Cold Wave metrics\n",
            "    ## for each year of the database\n",
            "    ##\n",
            "    ## Also possible to plot the metrics, for a better adjustment of the plots, go\n",
            "    ## to function plot_oneMetric\n",
            "    ##\n",
            "    ## :param      df_checkW:    Database dataframe with 'HW'/'CW' column\n",
            "    ## :type       df_checkW:    pandas.DataFrame\n",
            "    ## :param      wave_column:  Name of the column containing information about\n",
            "    ##                           Heat/Cold Waves\n",
            "    ## :type       wave_column:  String\n",
            "    ## :param      plot:         If True, function plot_oneMetric is used to plot\n",
            "    ##                           all metrics generated\n",
            "    ## :type       plot:         Boolean (True or False)\n",
            "    ##\n",
            "    ## :returns:   df_waveMetrics Dataframe containing wave metrics for each year of\n",
            "    ##             the database\n",
            "    ## :rtype:     pandas.DataFrame\n",
            "    ##\n",
            "\n"
          ],
          "name": "stdout"
        }
      ]
    },
    {
      "cell_type": "code",
      "metadata": {
        "id": "DLxHXbA7FJOa",
        "colab_type": "code",
        "colab": {}
      },
      "source": [
        "#obtaining yearly metrics\n",
        "HW_IAC_metrics = tex.wave_metrics(HW_IAC,'HW',plot=False)"
      ],
      "execution_count": null,
      "outputs": []
    },
    {
      "cell_type": "code",
      "metadata": {
        "id": "41tsI8YLMl05",
        "colab_type": "code",
        "colab": {
          "base_uri": "https://localhost:8080/",
          "height": 450
        },
        "outputId": "4e9f38a0-5ab6-4c3a-90d9-1ef36c6a1ca6"
      },
      "source": [
        "HW_IAC_metrics"
      ],
      "execution_count": null,
      "outputs": [
        {
          "output_type": "execute_result",
          "data": {
            "text/html": [
              "<div>\n",
              "<style scoped>\n",
              "    .dataframe tbody tr th:only-of-type {\n",
              "        vertical-align: middle;\n",
              "    }\n",
              "\n",
              "    .dataframe tbody tr th {\n",
              "        vertical-align: top;\n",
              "    }\n",
              "\n",
              "    .dataframe thead th {\n",
              "        text-align: right;\n",
              "    }\n",
              "</style>\n",
              "<table border=\"1\" class=\"dataframe\">\n",
              "  <thead>\n",
              "    <tr style=\"text-align: right;\">\n",
              "      <th></th>\n",
              "      <th>HWN</th>\n",
              "      <th>HWD</th>\n",
              "      <th>HWF</th>\n",
              "    </tr>\n",
              "    <tr>\n",
              "      <th>YEAR</th>\n",
              "      <th></th>\n",
              "      <th></th>\n",
              "      <th></th>\n",
              "    </tr>\n",
              "  </thead>\n",
              "  <tbody>\n",
              "    <tr>\n",
              "      <th>1956</th>\n",
              "      <td>0.0</td>\n",
              "      <td>0.0</td>\n",
              "      <td>0.0</td>\n",
              "    </tr>\n",
              "    <tr>\n",
              "      <th>1957</th>\n",
              "      <td>0.0</td>\n",
              "      <td>0.0</td>\n",
              "      <td>0.0</td>\n",
              "    </tr>\n",
              "    <tr>\n",
              "      <th>1958</th>\n",
              "      <td>0.0</td>\n",
              "      <td>0.0</td>\n",
              "      <td>0.0</td>\n",
              "    </tr>\n",
              "    <tr>\n",
              "      <th>1959</th>\n",
              "      <td>2.0</td>\n",
              "      <td>3.0</td>\n",
              "      <td>6.0</td>\n",
              "    </tr>\n",
              "    <tr>\n",
              "      <th>1960</th>\n",
              "      <td>1.0</td>\n",
              "      <td>3.0</td>\n",
              "      <td>3.0</td>\n",
              "    </tr>\n",
              "    <tr>\n",
              "      <th>...</th>\n",
              "      <td>...</td>\n",
              "      <td>...</td>\n",
              "      <td>...</td>\n",
              "    </tr>\n",
              "    <tr>\n",
              "      <th>2014</th>\n",
              "      <td>6.0</td>\n",
              "      <td>11.0</td>\n",
              "      <td>34.0</td>\n",
              "    </tr>\n",
              "    <tr>\n",
              "      <th>2015</th>\n",
              "      <td>8.0</td>\n",
              "      <td>8.0</td>\n",
              "      <td>35.0</td>\n",
              "    </tr>\n",
              "    <tr>\n",
              "      <th>2016</th>\n",
              "      <td>2.0</td>\n",
              "      <td>10.0</td>\n",
              "      <td>13.0</td>\n",
              "    </tr>\n",
              "    <tr>\n",
              "      <th>2017</th>\n",
              "      <td>2.0</td>\n",
              "      <td>4.0</td>\n",
              "      <td>7.0</td>\n",
              "    </tr>\n",
              "    <tr>\n",
              "      <th>2018</th>\n",
              "      <td>2.0</td>\n",
              "      <td>8.0</td>\n",
              "      <td>11.0</td>\n",
              "    </tr>\n",
              "  </tbody>\n",
              "</table>\n",
              "<p>63 rows × 3 columns</p>\n",
              "</div>"
            ],
            "text/plain": [
              "      HWN   HWD   HWF\n",
              "YEAR                 \n",
              "1956  0.0   0.0   0.0\n",
              "1957  0.0   0.0   0.0\n",
              "1958  0.0   0.0   0.0\n",
              "1959  2.0   3.0   6.0\n",
              "1960  1.0   3.0   3.0\n",
              "...   ...   ...   ...\n",
              "2014  6.0  11.0  34.0\n",
              "2015  8.0   8.0  35.0\n",
              "2016  2.0  10.0  13.0\n",
              "2017  2.0   4.0   7.0\n",
              "2018  2.0   8.0  11.0\n",
              "\n",
              "[63 rows x 3 columns]"
            ]
          },
          "metadata": {
            "tags": []
          },
          "execution_count": 19
        }
      ]
    },
    {
      "cell_type": "markdown",
      "metadata": {
        "id": "W5Sk7UiRN2pl",
        "colab_type": "text"
      },
      "source": [
        "#### Plotting yearly metrics\n",
        "\n",
        "Function: tex.plot_oneMetric"
      ]
    },
    {
      "cell_type": "markdown",
      "metadata": {
        "id": "XJllRdlWQN3c",
        "colab_type": "text"
      },
      "source": [
        "##### HWN"
      ]
    },
    {
      "cell_type": "code",
      "metadata": {
        "id": "qw46M991N1XP",
        "colab_type": "code",
        "colab": {
          "base_uri": "https://localhost:8080/",
          "height": 1000
        },
        "outputId": "ce6efb71-1893-4407-f2c5-ab486e3e2a8c"
      },
      "source": [
        "tex.plot_oneMetric(HW_IAC_metrics,'HWN','Number of ')"
      ],
      "execution_count": null,
      "outputs": [
        {
          "output_type": "execute_result",
          "data": {
            "image/png": "[encoded data removed]",
            "text/plain": [
              "<Figure size 4500x2700 with 1 Axes>"
            ]
          },
          "metadata": {
            "tags": []
          },
          "execution_count": 20
        },
        {
          "output_type": "display_data",
          "data": {
            "image/png": "[encoded data removed]",
            "text/plain": [
              "<Figure size 4500x2700 with 1 Axes>"
            ]
          },
          "metadata": {
            "tags": [],
            "needs_background": "light"
          }
        }
      ]
    },
    {
      "cell_type": "markdown",
      "metadata": {
        "id": "Tb-wvNlLQSi8",
        "colab_type": "text"
      },
      "source": [
        "##### HWD"
      ]
    },
    {
      "cell_type": "code",
      "metadata": {
        "id": "vbkpcbSUQTCr",
        "colab_type": "code",
        "colab": {
          "base_uri": "https://localhost:8080/",
          "height": 1000
        },
        "outputId": "94d6bfb8-32df-47ed-be73-632fb0aa0dc8"
      },
      "source": [
        "tex.plot_oneMetric(HW_IAC_metrics,'HWD','Number of ')"
      ],
      "execution_count": null,
      "outputs": [
        {
          "output_type": "execute_result",
          "data": {
            "image/png": "[encoded data removed]",
            "text/plain": [
              "<Figure size 4500x2700 with 1 Axes>"
            ]
          },
          "metadata": {
            "tags": []
          },
          "execution_count": 21
        },
        {
          "output_type": "display_data",
          "data": {
            "image/png": "[encoded data removed]",
            "text/plain": [
              "<Figure size 4500x2700 with 1 Axes>"
            ]
          },
          "metadata": {
            "tags": [],
            "needs_background": "light"
          }
        }
      ]
    },
    {
      "cell_type": "markdown",
      "metadata": {
        "id": "591x9dfKQTa2",
        "colab_type": "text"
      },
      "source": [
        "##### HWF"
      ]
    },
    {
      "cell_type": "code",
      "metadata": {
        "id": "MBhk9plWQTst",
        "colab_type": "code",
        "colab": {
          "base_uri": "https://localhost:8080/",
          "height": 1000
        },
        "outputId": "42f1d35e-2b86-416b-bb60-b5c35d7993aa"
      },
      "source": [
        "tex.plot_oneMetric(HW_IAC_metrics,'HWF','Number of ')"
      ],
      "execution_count": null,
      "outputs": [
        {
          "output_type": "execute_result",
          "data": {
            "image/png": "[encoded data removed]",
            "text/plain": [
              "<Figure size 4500x2700 with 1 Axes>"
            ]
          },
          "metadata": {
            "tags": []
          },
          "execution_count": 22
        },
        {
          "output_type": "display_data",
          "data": {
            "image/png": "[encoded data removed]",
            "text/plain": [
              "<Figure size 4500x2700 with 1 Axes>"
            ]
          },
          "metadata": {
            "tags": [],
            "needs_background": "light"
          }
        }
      ]
    },
    {
      "cell_type": "markdown",
      "metadata": {
        "id": "jn4RG9NDOD_f",
        "colab_type": "text"
      },
      "source": [
        "#### Yearly metrics description"
      ]
    },
    {
      "cell_type": "code",
      "metadata": {
        "id": "S9CKtM2TQaIK",
        "colab_type": "code",
        "colab": {
          "base_uri": "https://localhost:8080/",
          "height": 85
        },
        "outputId": "01205832-5377-4878-8b84-c781278573a8"
      },
      "source": [
        "#checking metrics value for whole database period\n",
        "HW_IAC_metrics.sum()"
      ],
      "execution_count": null,
      "outputs": [
        {
          "output_type": "execute_result",
          "data": {
            "text/plain": [
              "HWN     98.0\n",
              "HWD    186.0\n",
              "HWF    389.0\n",
              "dtype: float64"
            ]
          },
          "metadata": {
            "tags": []
          },
          "execution_count": 23
        }
      ]
    },
    {
      "cell_type": "code",
      "metadata": {
        "id": "Wj6qos0MMr9p",
        "colab_type": "code",
        "colab": {
          "base_uri": "https://localhost:8080/",
          "height": 297
        },
        "outputId": "05913cd6-0d22-4e76-ac96-f05623ff3ef7"
      },
      "source": [
        "HW_IAC_metrics.describe()"
      ],
      "execution_count": null,
      "outputs": [
        {
          "output_type": "execute_result",
          "data": {
            "text/html": [
              "<div>\n",
              "<style scoped>\n",
              "    .dataframe tbody tr th:only-of-type {\n",
              "        vertical-align: middle;\n",
              "    }\n",
              "\n",
              "    .dataframe tbody tr th {\n",
              "        vertical-align: top;\n",
              "    }\n",
              "\n",
              "    .dataframe thead th {\n",
              "        text-align: right;\n",
              "    }\n",
              "</style>\n",
              "<table border=\"1\" class=\"dataframe\">\n",
              "  <thead>\n",
              "    <tr style=\"text-align: right;\">\n",
              "      <th></th>\n",
              "      <th>HWN</th>\n",
              "      <th>HWD</th>\n",
              "      <th>HWF</th>\n",
              "    </tr>\n",
              "  </thead>\n",
              "  <tbody>\n",
              "    <tr>\n",
              "      <th>count</th>\n",
              "      <td>63.000000</td>\n",
              "      <td>63.000000</td>\n",
              "      <td>63.000000</td>\n",
              "    </tr>\n",
              "    <tr>\n",
              "      <th>mean</th>\n",
              "      <td>1.555556</td>\n",
              "      <td>2.952381</td>\n",
              "      <td>6.174603</td>\n",
              "    </tr>\n",
              "    <tr>\n",
              "      <th>std</th>\n",
              "      <td>1.803024</td>\n",
              "      <td>2.892864</td>\n",
              "      <td>8.251177</td>\n",
              "    </tr>\n",
              "    <tr>\n",
              "      <th>min</th>\n",
              "      <td>0.000000</td>\n",
              "      <td>0.000000</td>\n",
              "      <td>0.000000</td>\n",
              "    </tr>\n",
              "    <tr>\n",
              "      <th>25%</th>\n",
              "      <td>0.000000</td>\n",
              "      <td>0.000000</td>\n",
              "      <td>0.000000</td>\n",
              "    </tr>\n",
              "    <tr>\n",
              "      <th>50%</th>\n",
              "      <td>1.000000</td>\n",
              "      <td>3.000000</td>\n",
              "      <td>3.000000</td>\n",
              "    </tr>\n",
              "    <tr>\n",
              "      <th>75%</th>\n",
              "      <td>2.000000</td>\n",
              "      <td>4.000000</td>\n",
              "      <td>9.000000</td>\n",
              "    </tr>\n",
              "    <tr>\n",
              "      <th>max</th>\n",
              "      <td>8.000000</td>\n",
              "      <td>12.000000</td>\n",
              "      <td>37.000000</td>\n",
              "    </tr>\n",
              "  </tbody>\n",
              "</table>\n",
              "</div>"
            ],
            "text/plain": [
              "             HWN        HWD        HWF\n",
              "count  63.000000  63.000000  63.000000\n",
              "mean    1.555556   2.952381   6.174603\n",
              "std     1.803024   2.892864   8.251177\n",
              "min     0.000000   0.000000   0.000000\n",
              "25%     0.000000   0.000000   0.000000\n",
              "50%     1.000000   3.000000   3.000000\n",
              "75%     2.000000   4.000000   9.000000\n",
              "max     8.000000  12.000000  37.000000"
            ]
          },
          "metadata": {
            "tags": []
          },
          "execution_count": 24
        }
      ]
    },
    {
      "cell_type": "markdown",
      "metadata": {
        "id": "4EQQqrDaOf0s",
        "colab_type": "text"
      },
      "source": [
        "##### Metrics description according to 21 year sub-periods\n",
        "\n"
      ]
    },
    {
      "cell_type": "markdown",
      "metadata": {
        "id": "rGHiDpOvO-UF",
        "colab_type": "text"
      },
      "source": [
        "###### 1956-1976"
      ]
    },
    {
      "cell_type": "code",
      "metadata": {
        "id": "p9mJuS09QtxQ",
        "colab_type": "code",
        "colab": {
          "base_uri": "https://localhost:8080/",
          "height": 85
        },
        "outputId": "d6372220-e63c-4793-e296-68f90c1ed1ce"
      },
      "source": [
        "#selecting period from 1956 to 1976\n",
        "#checking metrics values\n",
        "HW_IAC_metrics[(HW_IAC_metrics.index>=1956)&(HW_IAC_metrics.index<=1976)].sum()"
      ],
      "execution_count": null,
      "outputs": [
        {
          "output_type": "execute_result",
          "data": {
            "text/plain": [
              "HWN    12.0\n",
              "HWD    25.0\n",
              "HWF    40.0\n",
              "dtype: float64"
            ]
          },
          "metadata": {
            "tags": []
          },
          "execution_count": 25
        }
      ]
    },
    {
      "cell_type": "code",
      "metadata": {
        "id": "7TiqnuTTMx85",
        "colab_type": "code",
        "colab": {
          "base_uri": "https://localhost:8080/",
          "height": 297
        },
        "outputId": "6579a85f-0c27-47b9-d68a-aa0358757897"
      },
      "source": [
        "#selecting period from 1956 to 1976\n",
        "#checking descriptive statistics\n",
        "HW_IAC_metrics[(HW_IAC_metrics.index>=1956)&(HW_IAC_metrics.index<=1976)].describe()"
      ],
      "execution_count": null,
      "outputs": [
        {
          "output_type": "execute_result",
          "data": {
            "text/html": [
              "<div>\n",
              "<style scoped>\n",
              "    .dataframe tbody tr th:only-of-type {\n",
              "        vertical-align: middle;\n",
              "    }\n",
              "\n",
              "    .dataframe tbody tr th {\n",
              "        vertical-align: top;\n",
              "    }\n",
              "\n",
              "    .dataframe thead th {\n",
              "        text-align: right;\n",
              "    }\n",
              "</style>\n",
              "<table border=\"1\" class=\"dataframe\">\n",
              "  <thead>\n",
              "    <tr style=\"text-align: right;\">\n",
              "      <th></th>\n",
              "      <th>HWN</th>\n",
              "      <th>HWD</th>\n",
              "      <th>HWF</th>\n",
              "    </tr>\n",
              "  </thead>\n",
              "  <tbody>\n",
              "    <tr>\n",
              "      <th>count</th>\n",
              "      <td>21.000000</td>\n",
              "      <td>21.000000</td>\n",
              "      <td>21.000000</td>\n",
              "    </tr>\n",
              "    <tr>\n",
              "      <th>mean</th>\n",
              "      <td>0.571429</td>\n",
              "      <td>1.190476</td>\n",
              "      <td>1.904762</td>\n",
              "    </tr>\n",
              "    <tr>\n",
              "      <th>std</th>\n",
              "      <td>0.925820</td>\n",
              "      <td>1.833550</td>\n",
              "      <td>3.048028</td>\n",
              "    </tr>\n",
              "    <tr>\n",
              "      <th>min</th>\n",
              "      <td>0.000000</td>\n",
              "      <td>0.000000</td>\n",
              "      <td>0.000000</td>\n",
              "    </tr>\n",
              "    <tr>\n",
              "      <th>25%</th>\n",
              "      <td>0.000000</td>\n",
              "      <td>0.000000</td>\n",
              "      <td>0.000000</td>\n",
              "    </tr>\n",
              "    <tr>\n",
              "      <th>50%</th>\n",
              "      <td>0.000000</td>\n",
              "      <td>0.000000</td>\n",
              "      <td>0.000000</td>\n",
              "    </tr>\n",
              "    <tr>\n",
              "      <th>75%</th>\n",
              "      <td>1.000000</td>\n",
              "      <td>3.000000</td>\n",
              "      <td>3.000000</td>\n",
              "    </tr>\n",
              "    <tr>\n",
              "      <th>max</th>\n",
              "      <td>3.000000</td>\n",
              "      <td>6.000000</td>\n",
              "      <td>10.000000</td>\n",
              "    </tr>\n",
              "  </tbody>\n",
              "</table>\n",
              "</div>"
            ],
            "text/plain": [
              "             HWN        HWD        HWF\n",
              "count  21.000000  21.000000  21.000000\n",
              "mean    0.571429   1.190476   1.904762\n",
              "std     0.925820   1.833550   3.048028\n",
              "min     0.000000   0.000000   0.000000\n",
              "25%     0.000000   0.000000   0.000000\n",
              "50%     0.000000   0.000000   0.000000\n",
              "75%     1.000000   3.000000   3.000000\n",
              "max     3.000000   6.000000  10.000000"
            ]
          },
          "metadata": {
            "tags": []
          },
          "execution_count": 26
        }
      ]
    },
    {
      "cell_type": "markdown",
      "metadata": {
        "id": "TRGSOCbxPiXM",
        "colab_type": "text"
      },
      "source": [
        "###### 1977-1997"
      ]
    },
    {
      "cell_type": "code",
      "metadata": {
        "id": "MgH9qUekRFkk",
        "colab_type": "code",
        "colab": {
          "base_uri": "https://localhost:8080/",
          "height": 85
        },
        "outputId": "e43cf560-9cf8-452c-d096-db7d463a0f22"
      },
      "source": [
        "#selecting period from 1977 to 1997\n",
        "#checking metrics values\n",
        "HW_IAC_metrics[(HW_IAC_metrics.index>=1977)&(HW_IAC_metrics.index<=1997)].sum()"
      ],
      "execution_count": null,
      "outputs": [
        {
          "output_type": "execute_result",
          "data": {
            "text/plain": [
              "HWN     30.0\n",
              "HWD     50.0\n",
              "HWF    103.0\n",
              "dtype: float64"
            ]
          },
          "metadata": {
            "tags": []
          },
          "execution_count": 27
        }
      ]
    },
    {
      "cell_type": "code",
      "metadata": {
        "id": "ygwZI1QvPxrp",
        "colab_type": "code",
        "colab": {
          "base_uri": "https://localhost:8080/",
          "height": 297
        },
        "outputId": "847ce614-e8fc-449c-8238-e51af181f120"
      },
      "source": [
        "#selecting period from 1977 to 1997\n",
        "#checking descriptive statistics\n",
        "HW_IAC_metrics[(HW_IAC_metrics.index>=1977)&(HW_IAC_metrics.index<=1997)].describe()"
      ],
      "execution_count": null,
      "outputs": [
        {
          "output_type": "execute_result",
          "data": {
            "text/html": [
              "<div>\n",
              "<style scoped>\n",
              "    .dataframe tbody tr th:only-of-type {\n",
              "        vertical-align: middle;\n",
              "    }\n",
              "\n",
              "    .dataframe tbody tr th {\n",
              "        vertical-align: top;\n",
              "    }\n",
              "\n",
              "    .dataframe thead th {\n",
              "        text-align: right;\n",
              "    }\n",
              "</style>\n",
              "<table border=\"1\" class=\"dataframe\">\n",
              "  <thead>\n",
              "    <tr style=\"text-align: right;\">\n",
              "      <th></th>\n",
              "      <th>HWN</th>\n",
              "      <th>HWD</th>\n",
              "      <th>HWF</th>\n",
              "    </tr>\n",
              "  </thead>\n",
              "  <tbody>\n",
              "    <tr>\n",
              "      <th>count</th>\n",
              "      <td>21.000000</td>\n",
              "      <td>21.000000</td>\n",
              "      <td>21.000000</td>\n",
              "    </tr>\n",
              "    <tr>\n",
              "      <th>mean</th>\n",
              "      <td>1.428571</td>\n",
              "      <td>2.380952</td>\n",
              "      <td>4.904762</td>\n",
              "    </tr>\n",
              "    <tr>\n",
              "      <th>std</th>\n",
              "      <td>1.502379</td>\n",
              "      <td>1.856777</td>\n",
              "      <td>5.430513</td>\n",
              "    </tr>\n",
              "    <tr>\n",
              "      <th>min</th>\n",
              "      <td>0.000000</td>\n",
              "      <td>0.000000</td>\n",
              "      <td>0.000000</td>\n",
              "    </tr>\n",
              "    <tr>\n",
              "      <th>25%</th>\n",
              "      <td>0.000000</td>\n",
              "      <td>0.000000</td>\n",
              "      <td>0.000000</td>\n",
              "    </tr>\n",
              "    <tr>\n",
              "      <th>50%</th>\n",
              "      <td>1.000000</td>\n",
              "      <td>3.000000</td>\n",
              "      <td>3.000000</td>\n",
              "    </tr>\n",
              "    <tr>\n",
              "      <th>75%</th>\n",
              "      <td>2.000000</td>\n",
              "      <td>3.000000</td>\n",
              "      <td>7.000000</td>\n",
              "    </tr>\n",
              "    <tr>\n",
              "      <th>max</th>\n",
              "      <td>5.000000</td>\n",
              "      <td>5.000000</td>\n",
              "      <td>17.000000</td>\n",
              "    </tr>\n",
              "  </tbody>\n",
              "</table>\n",
              "</div>"
            ],
            "text/plain": [
              "             HWN        HWD        HWF\n",
              "count  21.000000  21.000000  21.000000\n",
              "mean    1.428571   2.380952   4.904762\n",
              "std     1.502379   1.856777   5.430513\n",
              "min     0.000000   0.000000   0.000000\n",
              "25%     0.000000   0.000000   0.000000\n",
              "50%     1.000000   3.000000   3.000000\n",
              "75%     2.000000   3.000000   7.000000\n",
              "max     5.000000   5.000000  17.000000"
            ]
          },
          "metadata": {
            "tags": []
          },
          "execution_count": 28
        }
      ]
    },
    {
      "cell_type": "markdown",
      "metadata": {
        "id": "eUryK9WAPu7k",
        "colab_type": "text"
      },
      "source": [
        "###### 1998-2018"
      ]
    },
    {
      "cell_type": "code",
      "metadata": {
        "id": "C0x1tuKURO6Q",
        "colab_type": "code",
        "colab": {
          "base_uri": "https://localhost:8080/",
          "height": 85
        },
        "outputId": "c5493fb2-02f9-451c-93db-96d9b6233c05"
      },
      "source": [
        "#selecting period from 1998 to 2018\n",
        "#checking metrics values\n",
        "HW_IAC_metrics[(HW_IAC_metrics.index>=1998)&(HW_IAC_metrics.index<=2018)].sum()"
      ],
      "execution_count": null,
      "outputs": [
        {
          "output_type": "execute_result",
          "data": {
            "text/plain": [
              "HWN     56.0\n",
              "HWD    111.0\n",
              "HWF    246.0\n",
              "dtype: float64"
            ]
          },
          "metadata": {
            "tags": []
          },
          "execution_count": 29
        }
      ]
    },
    {
      "cell_type": "code",
      "metadata": {
        "id": "X33wzn2qP8H9",
        "colab_type": "code",
        "colab": {
          "base_uri": "https://localhost:8080/",
          "height": 297
        },
        "outputId": "6d51f0f3-7972-4e14-d88f-94925d660924"
      },
      "source": [
        "#selecting period from 1998 to 2018\n",
        "#checking descriptive statistics\n",
        "HW_IAC_metrics[(HW_IAC_metrics.index>=1998)&(HW_IAC_metrics.index<=2018)].describe()"
      ],
      "execution_count": null,
      "outputs": [
        {
          "output_type": "execute_result",
          "data": {
            "text/html": [
              "<div>\n",
              "<style scoped>\n",
              "    .dataframe tbody tr th:only-of-type {\n",
              "        vertical-align: middle;\n",
              "    }\n",
              "\n",
              "    .dataframe tbody tr th {\n",
              "        vertical-align: top;\n",
              "    }\n",
              "\n",
              "    .dataframe thead th {\n",
              "        text-align: right;\n",
              "    }\n",
              "</style>\n",
              "<table border=\"1\" class=\"dataframe\">\n",
              "  <thead>\n",
              "    <tr style=\"text-align: right;\">\n",
              "      <th></th>\n",
              "      <th>HWN</th>\n",
              "      <th>HWD</th>\n",
              "      <th>HWF</th>\n",
              "    </tr>\n",
              "  </thead>\n",
              "  <tbody>\n",
              "    <tr>\n",
              "      <th>count</th>\n",
              "      <td>21.000000</td>\n",
              "      <td>21.000000</td>\n",
              "      <td>21.000000</td>\n",
              "    </tr>\n",
              "    <tr>\n",
              "      <th>mean</th>\n",
              "      <td>2.666667</td>\n",
              "      <td>5.285714</td>\n",
              "      <td>11.714286</td>\n",
              "    </tr>\n",
              "    <tr>\n",
              "      <th>std</th>\n",
              "      <td>2.152518</td>\n",
              "      <td>3.132776</td>\n",
              "      <td>10.918529</td>\n",
              "    </tr>\n",
              "    <tr>\n",
              "      <th>min</th>\n",
              "      <td>0.000000</td>\n",
              "      <td>0.000000</td>\n",
              "      <td>0.000000</td>\n",
              "    </tr>\n",
              "    <tr>\n",
              "      <th>25%</th>\n",
              "      <td>1.000000</td>\n",
              "      <td>4.000000</td>\n",
              "      <td>5.000000</td>\n",
              "    </tr>\n",
              "    <tr>\n",
              "      <th>50%</th>\n",
              "      <td>2.000000</td>\n",
              "      <td>5.000000</td>\n",
              "      <td>9.000000</td>\n",
              "    </tr>\n",
              "    <tr>\n",
              "      <th>75%</th>\n",
              "      <td>3.000000</td>\n",
              "      <td>6.000000</td>\n",
              "      <td>12.000000</td>\n",
              "    </tr>\n",
              "    <tr>\n",
              "      <th>max</th>\n",
              "      <td>8.000000</td>\n",
              "      <td>12.000000</td>\n",
              "      <td>37.000000</td>\n",
              "    </tr>\n",
              "  </tbody>\n",
              "</table>\n",
              "</div>"
            ],
            "text/plain": [
              "             HWN        HWD        HWF\n",
              "count  21.000000  21.000000  21.000000\n",
              "mean    2.666667   5.285714  11.714286\n",
              "std     2.152518   3.132776  10.918529\n",
              "min     0.000000   0.000000   0.000000\n",
              "25%     1.000000   4.000000   5.000000\n",
              "50%     2.000000   5.000000   9.000000\n",
              "75%     3.000000   6.000000  12.000000\n",
              "max     8.000000  12.000000  37.000000"
            ]
          },
          "metadata": {
            "tags": []
          },
          "execution_count": 30
        }
      ]
    },
    {
      "cell_type": "markdown",
      "metadata": {
        "id": "QwPiJR3BQ33J",
        "colab_type": "text"
      },
      "source": [
        "### Seasonal Metrics\n",
        "\n",
        "Function: tex.wave_seasonMetrics\n"
      ]
    },
    {
      "cell_type": "code",
      "metadata": {
        "id": "AkFqeSoXRXc6",
        "colab_type": "code",
        "colab": {
          "base_uri": "https://localhost:8080/",
          "height": 459
        },
        "outputId": "4a2a3999-3ad2-441b-ae93-c5a97e50134c"
      },
      "source": [
        "#checking wave_seasonMetrics parameters\n",
        "help(tex.wave_seasonMetrics)"
      ],
      "execution_count": null,
      "outputs": [
        {
          "output_type": "stream",
          "text": [
            "Help on function wave_seasonMetrics in module climatex:\n",
            "\n",
            "wave_seasonMetrics(df_checkW, wave_column, plot=False)\n",
            "    #--------------------------------------------------------------------------------\n",
            "    ## Function to obtain the metrics of a Heat/Cold Wave given the database\n",
            "    ## dataframe containing the 'HW'/'CW' column that indicates if a day is inside\n",
            "    ## of a Heat/Cold Wave or not -> check get_wave function. This function obtains\n",
            "    ## the wave duration for each year (HWN) of the database and then computes its\n",
            "    ## maximum duration (HWD) and its intensity - sum of wave durations (HWF). These\n",
            "    ## metrics are stored in a dataframe which includes the Heat/Cold Wave metrics\n",
            "    ## for each year of the database\n",
            "    ##\n",
            "    ## Also possible to plot the metrics, for a better adjustment of the plots, go\n",
            "    ## to function plot_oneMetric\n",
            "    ##\n",
            "    ## :param      df_checkW:    The df check w\n",
            "    ## :type       df_checkW:    { type_description }\n",
            "    ## :param      wave_column:  The wave column\n",
            "    ## :type       wave_column:  { type_description }\n",
            "    ## :param      plot:         The plot\n",
            "    ## :type       plot:         boolean\n",
            "    ##\n",
            "    ## :returns:   { description_of_the_return_value }\n",
            "    ## :rtype:     { return_type_description }\n",
            "    ##\n",
            "\n"
          ],
          "name": "stdout"
        }
      ]
    },
    {
      "cell_type": "code",
      "metadata": {
        "id": "twP_Pwc5Ghid",
        "colab_type": "code",
        "colab": {}
      },
      "source": [
        "#obtaining seasonal metrics\n",
        "HW_IAC_seasonMetrics = tex.wave_seasonMetrics(HW_IAC,'HW')"
      ],
      "execution_count": null,
      "outputs": []
    },
    {
      "cell_type": "code",
      "metadata": {
        "id": "37doKCJlGrxw",
        "colab_type": "code",
        "colab": {
          "base_uri": "https://localhost:8080/",
          "height": 450
        },
        "outputId": "1f57802b-6b4d-43ee-d381-557913571cf2"
      },
      "source": [
        "HW_IAC_seasonMetrics"
      ],
      "execution_count": null,
      "outputs": [
        {
          "output_type": "execute_result",
          "data": {
            "text/html": [
              "<div>\n",
              "<style scoped>\n",
              "    .dataframe tbody tr th:only-of-type {\n",
              "        vertical-align: middle;\n",
              "    }\n",
              "\n",
              "    .dataframe tbody tr th {\n",
              "        vertical-align: top;\n",
              "    }\n",
              "\n",
              "    .dataframe thead th {\n",
              "        text-align: right;\n",
              "    }\n",
              "</style>\n",
              "<table border=\"1\" class=\"dataframe\">\n",
              "  <thead>\n",
              "    <tr style=\"text-align: right;\">\n",
              "      <th></th>\n",
              "      <th></th>\n",
              "      <th>HWN</th>\n",
              "      <th>HWD</th>\n",
              "      <th>HWF</th>\n",
              "    </tr>\n",
              "    <tr>\n",
              "      <th>YEAR</th>\n",
              "      <th>SEASON</th>\n",
              "      <th></th>\n",
              "      <th></th>\n",
              "      <th></th>\n",
              "    </tr>\n",
              "  </thead>\n",
              "  <tbody>\n",
              "    <tr>\n",
              "      <th rowspan=\"4\" valign=\"top\">1956</th>\n",
              "      <th>1</th>\n",
              "      <td>0.0</td>\n",
              "      <td>0.0</td>\n",
              "      <td>0.0</td>\n",
              "    </tr>\n",
              "    <tr>\n",
              "      <th>2</th>\n",
              "      <td>0.0</td>\n",
              "      <td>0.0</td>\n",
              "      <td>0.0</td>\n",
              "    </tr>\n",
              "    <tr>\n",
              "      <th>3</th>\n",
              "      <td>0.0</td>\n",
              "      <td>0.0</td>\n",
              "      <td>0.0</td>\n",
              "    </tr>\n",
              "    <tr>\n",
              "      <th>4</th>\n",
              "      <td>0.0</td>\n",
              "      <td>0.0</td>\n",
              "      <td>0.0</td>\n",
              "    </tr>\n",
              "    <tr>\n",
              "      <th>1957</th>\n",
              "      <th>1</th>\n",
              "      <td>0.0</td>\n",
              "      <td>0.0</td>\n",
              "      <td>0.0</td>\n",
              "    </tr>\n",
              "    <tr>\n",
              "      <th>...</th>\n",
              "      <th>...</th>\n",
              "      <td>...</td>\n",
              "      <td>...</td>\n",
              "      <td>...</td>\n",
              "    </tr>\n",
              "    <tr>\n",
              "      <th>2017</th>\n",
              "      <th>4</th>\n",
              "      <td>1.0</td>\n",
              "      <td>4.0</td>\n",
              "      <td>4.0</td>\n",
              "    </tr>\n",
              "    <tr>\n",
              "      <th rowspan=\"4\" valign=\"top\">2018</th>\n",
              "      <th>1</th>\n",
              "      <td>0.0</td>\n",
              "      <td>0.0</td>\n",
              "      <td>0.0</td>\n",
              "    </tr>\n",
              "    <tr>\n",
              "      <th>2</th>\n",
              "      <td>0.0</td>\n",
              "      <td>0.0</td>\n",
              "      <td>0.0</td>\n",
              "    </tr>\n",
              "    <tr>\n",
              "      <th>3</th>\n",
              "      <td>0.0</td>\n",
              "      <td>0.0</td>\n",
              "      <td>0.0</td>\n",
              "    </tr>\n",
              "    <tr>\n",
              "      <th>4</th>\n",
              "      <td>1.0</td>\n",
              "      <td>3.0</td>\n",
              "      <td>3.0</td>\n",
              "    </tr>\n",
              "  </tbody>\n",
              "</table>\n",
              "<p>252 rows × 3 columns</p>\n",
              "</div>"
            ],
            "text/plain": [
              "             HWN  HWD  HWF\n",
              "YEAR SEASON               \n",
              "1956 1       0.0  0.0  0.0\n",
              "     2       0.0  0.0  0.0\n",
              "     3       0.0  0.0  0.0\n",
              "     4       0.0  0.0  0.0\n",
              "1957 1       0.0  0.0  0.0\n",
              "...          ...  ...  ...\n",
              "2017 4       1.0  4.0  4.0\n",
              "2018 1       0.0  0.0  0.0\n",
              "     2       0.0  0.0  0.0\n",
              "     3       0.0  0.0  0.0\n",
              "     4       1.0  3.0  3.0\n",
              "\n",
              "[252 rows x 3 columns]"
            ]
          },
          "metadata": {
            "tags": []
          },
          "execution_count": 33
        }
      ]
    },
    {
      "cell_type": "markdown",
      "metadata": {
        "id": "ThouZ7ncR21m",
        "colab_type": "text"
      },
      "source": [
        "#### Plotting metrics\n",
        "\n",
        "Function: tex.plot_seasonMetric\n",
        "\n"
      ]
    },
    {
      "cell_type": "markdown",
      "metadata": {
        "id": "w0Y1WqhbTJoO",
        "colab_type": "text"
      },
      "source": [
        "##### HWN"
      ]
    },
    {
      "cell_type": "code",
      "metadata": {
        "id": "vDnt0ojqTlrc",
        "colab_type": "code",
        "colab": {
          "base_uri": "https://localhost:8080/",
          "height": 163
        },
        "outputId": "eeec5376-8a6e-4471-8c72-ccd45e08321d"
      },
      "source": [
        "tex.plot_seasonMetric(HW_IAC_seasonMetrics,'HWN','Number of ')"
      ],
      "execution_count": null,
      "outputs": [
        {
          "output_type": "error",
          "ename": "AttributeError",
          "evalue": "ignored",
          "traceback": [
            "\u001b[0;31m---------------------------------------------------------------------------\u001b[0m",
            "\u001b[0;31mAttributeError\u001b[0m                            Traceback (most recent call last)",
            "\u001b[0;32m<ipython-input-34-b99a8d4f3619>\u001b[0m in \u001b[0;36m<module>\u001b[0;34m()\u001b[0m\n\u001b[0;32m----> 1\u001b[0;31m \u001b[0mtex\u001b[0m\u001b[0;34m.\u001b[0m\u001b[0mplot_seasonMetric\u001b[0m\u001b[0;34m(\u001b[0m\u001b[0mHW_IAC_seasonMetrics\u001b[0m\u001b[0;34m,\u001b[0m\u001b[0;34m'HWN'\u001b[0m\u001b[0;34m,\u001b[0m\u001b[0;34m'Number of '\u001b[0m\u001b[0;34m)\u001b[0m\u001b[0;34m\u001b[0m\u001b[0;34m\u001b[0m\u001b[0m\n\u001b[0m",
            "\u001b[0;31mAttributeError\u001b[0m: module 'climatex' has no attribute 'plot_seasonMetric'"
          ]
        }
      ]
    },
    {
      "cell_type": "markdown",
      "metadata": {
        "id": "n9i4VEKjTJ7C",
        "colab_type": "text"
      },
      "source": [
        "##### HWD"
      ]
    },
    {
      "cell_type": "code",
      "metadata": {
        "id": "LolNpRNsTuTz",
        "colab_type": "code",
        "colab": {}
      },
      "source": [
        "tex.plot_seasonMetric(HW_IAC_seasonMetrics,'HWD','Number of ')"
      ],
      "execution_count": null,
      "outputs": []
    },
    {
      "cell_type": "markdown",
      "metadata": {
        "id": "HjjdYrbfTKZF",
        "colab_type": "text"
      },
      "source": [
        "##### HWF"
      ]
    },
    {
      "cell_type": "code",
      "metadata": {
        "id": "uBGOt5bvT0On",
        "colab_type": "code",
        "colab": {}
      },
      "source": [
        "tex.plot_seasonMetric(HW_IAC_seasonMetrics,'HWD','Number of ')"
      ],
      "execution_count": null,
      "outputs": []
    },
    {
      "cell_type": "markdown",
      "metadata": {
        "id": "cdfQucxwUMHX",
        "colab_type": "text"
      },
      "source": [
        "#### Seasonal metrics description"
      ]
    },
    {
      "cell_type": "code",
      "metadata": {
        "id": "DF8XmBz8TQKZ",
        "colab_type": "code",
        "colab": {}
      },
      "source": [
        "#checking metrics value for whole database period\n",
        "HW_IAC_seasonMetrics.sum()"
      ],
      "execution_count": null,
      "outputs": []
    },
    {
      "cell_type": "markdown",
      "metadata": {
        "id": "FFtTKeL4W9Nv",
        "colab_type": "text"
      },
      "source": [
        "##### Summer\n",
        "\n"
      ]
    },
    {
      "cell_type": "code",
      "metadata": {
        "id": "772XI8_aThrU",
        "colab_type": "code",
        "colab": {}
      },
      "source": [
        "#checking metrics values for summer\n",
        "HW_IAC_seasonMetrics.xs('1', level=1).sum()"
      ],
      "execution_count": null,
      "outputs": []
    },
    {
      "cell_type": "markdown",
      "metadata": {
        "id": "wFt9Tgm9VADl",
        "colab_type": "text"
      },
      "source": [
        "###### Metrics description according to 21 year sub-periods"
      ]
    },
    {
      "cell_type": "markdown",
      "metadata": {
        "id": "24nvzlrEVFi9",
        "colab_type": "text"
      },
      "source": [
        "###### 1956-1976"
      ]
    },
    {
      "cell_type": "code",
      "metadata": {
        "id": "e5Bl2J-9UiPK",
        "colab_type": "code",
        "colab": {}
      },
      "source": [
        "HW_IAC_seasonMetrics.xs('1', level=1)[((HW_IAC_seasonMetrics.xs('1', level=1).index>=1956)&(HW_IAC_seasonMetrics.xs('1', level=1).index<=1976))].sum()"
      ],
      "execution_count": null,
      "outputs": []
    },
    {
      "cell_type": "markdown",
      "metadata": {
        "id": "6pj3sH_lVdnh",
        "colab_type": "text"
      },
      "source": [
        "###### 1977-1997"
      ]
    },
    {
      "cell_type": "code",
      "metadata": {
        "id": "HPZZOfXgUW2S",
        "colab_type": "code",
        "colab": {}
      },
      "source": [
        "HW_IAC_seasonMetrics.xs('1', level=1)[((HW_IAC_seasonMetrics.xs('1', level=1).index>=1977)&(HW_IAC_seasonMetrics.xs('1', level=1).index<=1997))].sum()"
      ],
      "execution_count": null,
      "outputs": []
    },
    {
      "cell_type": "markdown",
      "metadata": {
        "id": "CW_z5RjpVmNB",
        "colab_type": "text"
      },
      "source": [
        "###### 1998-2018"
      ]
    },
    {
      "cell_type": "code",
      "metadata": {
        "id": "YKmcGZuTWKNH",
        "colab_type": "code",
        "colab": {}
      },
      "source": [
        "HW_IAC_seasonMetrics.xs('1', level=1)[((HW_IAC_seasonMetrics.xs('1', level=1).index>=1998)&(HW_IAC_seasonMetrics.xs('1', level=1).index<=2018))].sum()"
      ],
      "execution_count": null,
      "outputs": []
    },
    {
      "cell_type": "markdown",
      "metadata": {
        "colab_type": "text",
        "id": "TBifvsq6XFDS"
      },
      "source": [
        "##### Autumn\n",
        "\n"
      ]
    },
    {
      "cell_type": "code",
      "metadata": {
        "colab_type": "code",
        "id": "yoERFu4HXFDU",
        "colab": {}
      },
      "source": [
        "#checking metrics values for autumn\n",
        "HW_IAC_seasonMetrics.xs('2', level=1).sum()"
      ],
      "execution_count": null,
      "outputs": []
    },
    {
      "cell_type": "markdown",
      "metadata": {
        "id": "mqpqMizQV1xR",
        "colab_type": "text"
      },
      "source": [
        "###### Metrics description according to 21 year sub-periods"
      ]
    },
    {
      "cell_type": "markdown",
      "metadata": {
        "id": "6-hY_6tGWBpA",
        "colab_type": "text"
      },
      "source": [
        "###### 1956-1976"
      ]
    },
    {
      "cell_type": "code",
      "metadata": {
        "colab_type": "code",
        "id": "npuNrd0cXFDa",
        "colab": {}
      },
      "source": [
        "HW_IAC_seasonMetrics.xs('2', level=1)[((HW_IAC_seasonMetrics.xs('2', level=1).index>=1956)&(HW_IAC_seasonMetrics.xs('2', level=1).index<=1976))].sum()"
      ],
      "execution_count": null,
      "outputs": []
    },
    {
      "cell_type": "markdown",
      "metadata": {
        "id": "oH2do6auWGeh",
        "colab_type": "text"
      },
      "source": [
        "###### 1977-1997"
      ]
    },
    {
      "cell_type": "code",
      "metadata": {
        "colab_type": "code",
        "id": "p9V26mW6XFDf",
        "colab": {}
      },
      "source": [
        "HW_IAC_seasonMetrics.xs('2', level=1)[((HW_IAC_seasonMetrics.xs('2', level=1).index>=1977)&(HW_IAC_seasonMetrics.xs('2', level=1).index<=1997))].sum()"
      ],
      "execution_count": null,
      "outputs": []
    },
    {
      "cell_type": "markdown",
      "metadata": {
        "id": "nblGi4BZWIqS",
        "colab_type": "text"
      },
      "source": [
        "###### 1998-2018"
      ]
    },
    {
      "cell_type": "code",
      "metadata": {
        "colab_type": "code",
        "id": "vwTLPP4tXFDn",
        "colab": {}
      },
      "source": [
        "HW_IAC_seasonMetrics.xs('2', level=1)[((HW_IAC_seasonMetrics.xs('2', level=1).index>=1998)&(HW_IAC_seasonMetrics.xs('2', level=1).index<=2018))].sum()"
      ],
      "execution_count": null,
      "outputs": []
    },
    {
      "cell_type": "markdown",
      "metadata": {
        "colab_type": "text",
        "id": "naKeNHwDXr8u"
      },
      "source": [
        "##### Winter\n",
        "\n"
      ]
    },
    {
      "cell_type": "code",
      "metadata": {
        "colab_type": "code",
        "id": "J6NsMsqaXr8v",
        "colab": {}
      },
      "source": [
        "#checking metrics values for winter\n",
        "HW_IAC_seasonMetrics.xs('3', level=1).sum()"
      ],
      "execution_count": null,
      "outputs": []
    },
    {
      "cell_type": "markdown",
      "metadata": {
        "id": "X-VcUp7nWV_n",
        "colab_type": "text"
      },
      "source": [
        "###### Metrics description according to 21 year sub-periods"
      ]
    },
    {
      "cell_type": "markdown",
      "metadata": {
        "id": "rZ6aeE1pWXoa",
        "colab_type": "text"
      },
      "source": [
        "###### 1956-1976\n",
        "\n"
      ]
    },
    {
      "cell_type": "code",
      "metadata": {
        "colab_type": "code",
        "id": "C9FdDxGYXr80",
        "colab": {}
      },
      "source": [
        "HW_IAC_seasonMetrics.xs('3', level=1)[((HW_IAC_seasonMetrics.xs('3', level=1).index>=1956)&(HW_IAC_seasonMetrics.xs('3', level=1).index<=1976))].sum()"
      ],
      "execution_count": null,
      "outputs": []
    },
    {
      "cell_type": "markdown",
      "metadata": {
        "id": "Ssw-iJGkWfVc",
        "colab_type": "text"
      },
      "source": [
        "###### 1977-1997"
      ]
    },
    {
      "cell_type": "code",
      "metadata": {
        "colab_type": "code",
        "id": "c2uhOvJRXr89",
        "colab": {}
      },
      "source": [
        "HW_IAC_seasonMetrics.xs('3', level=1)[((HW_IAC_seasonMetrics.xs('3', level=1).index>=1977)&(HW_IAC_seasonMetrics.xs('3', level=1).index<=1997))].sum()"
      ],
      "execution_count": null,
      "outputs": []
    },
    {
      "cell_type": "markdown",
      "metadata": {
        "id": "SeCZlDx3WiL2",
        "colab_type": "text"
      },
      "source": [
        "###### 1998-2018"
      ]
    },
    {
      "cell_type": "code",
      "metadata": {
        "colab_type": "code",
        "id": "Bp20dP6SXr9C",
        "colab": {}
      },
      "source": [
        "HW_IAC_seasonMetrics.xs('3', level=1)[((HW_IAC_seasonMetrics.xs('3', level=1).index>=1998)&(HW_IAC_seasonMetrics.xs('3', level=1).index<=2018))].sum()"
      ],
      "execution_count": null,
      "outputs": []
    },
    {
      "cell_type": "markdown",
      "metadata": {
        "colab_type": "text",
        "id": "CmxJPVU8YeZu"
      },
      "source": [
        "##### Spring\n",
        "\n"
      ]
    },
    {
      "cell_type": "code",
      "metadata": {
        "colab_type": "code",
        "id": "4DtB_Ch7YeZv",
        "colab": {}
      },
      "source": [
        "#checking metrics values for spring\n",
        "HW_IAC_seasonMetrics.xs('4', level=1).sum()"
      ],
      "execution_count": null,
      "outputs": []
    },
    {
      "cell_type": "markdown",
      "metadata": {
        "id": "fxi3t1SSWunm",
        "colab_type": "text"
      },
      "source": [
        "###### Metrics description according to 21 year sub-periods"
      ]
    },
    {
      "cell_type": "markdown",
      "metadata": {
        "id": "BOyzOpGzWvAW",
        "colab_type": "text"
      },
      "source": [
        "###### 1956-1976"
      ]
    },
    {
      "cell_type": "code",
      "metadata": {
        "colab_type": "code",
        "id": "VunhEDyfYeZ0",
        "colab": {}
      },
      "source": [
        "HW_IAC_seasonMetrics.xs('4', level=1)[((HW_IAC_seasonMetrics.xs('4', level=1).index>=1956)&(HW_IAC_seasonMetrics.xs('4', level=1).index<=1976))].sum()"
      ],
      "execution_count": null,
      "outputs": []
    },
    {
      "cell_type": "markdown",
      "metadata": {
        "id": "kyCNZmnHWzWJ",
        "colab_type": "text"
      },
      "source": [
        "###### 1977-1997"
      ]
    },
    {
      "cell_type": "code",
      "metadata": {
        "colab_type": "code",
        "id": "dypkJcOgYeZ4",
        "colab": {}
      },
      "source": [
        "HW_IAC_seasonMetrics.xs('4', level=1)[((HW_IAC_seasonMetrics.xs('4', level=1).index>=1977)&(HW_IAC_seasonMetrics.xs('4', level=1).index<=1997))].sum()"
      ],
      "execution_count": null,
      "outputs": []
    },
    {
      "cell_type": "markdown",
      "metadata": {
        "id": "TznBVoNrW2ob",
        "colab_type": "text"
      },
      "source": [
        "###### 1998-2018"
      ]
    },
    {
      "cell_type": "code",
      "metadata": {
        "colab_type": "code",
        "id": "7HeSaf2dYeZ8",
        "colab": {}
      },
      "source": [
        "HW_IAC_seasonMetrics.xs('4', level=1)[((HW_IAC_seasonMetrics.xs('4', level=1).index>=1998)&(HW_IAC_seasonMetrics.xs('4', level=1).index<=2018))].sum()"
      ],
      "execution_count": null,
      "outputs": []
    },
    {
      "cell_type": "markdown",
      "metadata": {
        "id": "h4SBMkL9Zeqz",
        "colab_type": "text"
      },
      "source": [
        "## Trend Analysis: Yearly Metrics"
      ]
    },
    {
      "cell_type": "markdown",
      "metadata": {
        "id": "PwgXf46lxefT",
        "colab_type": "text"
      },
      "source": [
        "### Autocorrrelation\n"
      ]
    },
    {
      "cell_type": "code",
      "metadata": {
        "id": "Cx0xG1u8ZiBj",
        "colab_type": "code",
        "colab": {}
      },
      "source": [
        "plot_acf(HW_IAC_metrics['HWN'], lags=20)\n",
        "plt.show()"
      ],
      "execution_count": null,
      "outputs": []
    },
    {
      "cell_type": "code",
      "metadata": {
        "id": "ZRPILGa2xsKC",
        "colab_type": "code",
        "colab": {}
      },
      "source": [
        "plot_acf(HW_IAC_metrics['HWD'], lags=20)\n",
        "plt.show()"
      ],
      "execution_count": null,
      "outputs": []
    },
    {
      "cell_type": "code",
      "metadata": {
        "id": "ae-ohUQwxuYg",
        "colab_type": "code",
        "colab": {}
      },
      "source": [
        "plot_acf(HW_IAC_metrics['HWF'], lags=20)\n",
        "plt.show()"
      ],
      "execution_count": null,
      "outputs": []
    },
    {
      "cell_type": "code",
      "metadata": {
        "id": "T8X7Bn70xwiI",
        "colab_type": "code",
        "colab": {}
      },
      "source": [
        "acf(HW_IAC_metrics['HWN'],unbiased=True)"
      ],
      "execution_count": null,
      "outputs": []
    },
    {
      "cell_type": "code",
      "metadata": {
        "id": "SX7h40N42k9w",
        "colab_type": "code",
        "colab": {}
      },
      "source": [
        "acf(HW_IAC_metrics['HWD'],unbiased=True)"
      ],
      "execution_count": null,
      "outputs": []
    },
    {
      "cell_type": "code",
      "metadata": {
        "id": "75cxMcCB2_Zh",
        "colab_type": "code",
        "colab": {}
      },
      "source": [
        "acf(HW_IAC_metrics['HWF'],unbiased=True)"
      ],
      "execution_count": null,
      "outputs": []
    },
    {
      "cell_type": "markdown",
      "metadata": {
        "id": "WjsABgUy5Qie",
        "colab_type": "text"
      },
      "source": [
        "### Mann-Kendall\n"
      ]
    },
    {
      "cell_type": "markdown",
      "metadata": {
        "id": "bJHFMkma6cMw",
        "colab_type": "text"
      },
      "source": [
        "\n",
        "#### HWN\n"
      ]
    },
    {
      "cell_type": "code",
      "metadata": {
        "id": "gG1omPYw5g5h",
        "colab_type": "code",
        "colab": {}
      },
      "source": [
        "result_HWN = mk.original_test(HW_IAC_metrics['HWN'])\n",
        "print(result_HWN)"
      ],
      "execution_count": null,
      "outputs": []
    },
    {
      "cell_type": "code",
      "metadata": {
        "id": "l5R_ckLSFq7y",
        "colab_type": "code",
        "colab": {}
      },
      "source": [
        "result_HWN1= mk.trend_free_pre_whitening_modification_test(HW_IAC_metrics['HWN'])\n",
        "print(result_HWN1)"
      ],
      "execution_count": null,
      "outputs": []
    },
    {
      "cell_type": "markdown",
      "metadata": {
        "colab_type": "text",
        "id": "4Rl5QoW-GEu6"
      },
      "source": [
        "#### HWD\n"
      ]
    },
    {
      "cell_type": "code",
      "metadata": {
        "colab_type": "code",
        "id": "wOED1573GEu8",
        "colab": {}
      },
      "source": [
        "result_HWD = mk.original_test(HW_IAC_metrics['HWD'])\n",
        "print(result_HWD)"
      ],
      "execution_count": null,
      "outputs": []
    },
    {
      "cell_type": "code",
      "metadata": {
        "colab_type": "code",
        "id": "duXfDT7oGEvB",
        "colab": {}
      },
      "source": [
        "result_HWD1= mk.trend_free_pre_whitening_modification_test(HW_IAC_metrics['HWD'])\n",
        "print(result_HWD1)"
      ],
      "execution_count": null,
      "outputs": []
    },
    {
      "cell_type": "markdown",
      "metadata": {
        "colab_type": "text",
        "id": "xSO-snFwGcOx"
      },
      "source": [
        "#### HWF\n"
      ]
    },
    {
      "cell_type": "code",
      "metadata": {
        "colab_type": "code",
        "id": "JlqjlYArGcOz",
        "colab": {}
      },
      "source": [
        "result_HWF = mk.original_test(HW_IAC_metrics['HWF'])\n",
        "print(result_HWF)"
      ],
      "execution_count": null,
      "outputs": []
    },
    {
      "cell_type": "code",
      "metadata": {
        "colab_type": "code",
        "id": "2RvS27HjGcO5",
        "colab": {}
      },
      "source": [
        "result_HWF1= mk.trend_free_pre_whitening_modification_test(HW_IAC_metrics['HWF'])\n",
        "print(result_HWF1)"
      ],
      "execution_count": null,
      "outputs": []
    },
    {
      "cell_type": "markdown",
      "metadata": {
        "id": "RQemqLaXGprQ",
        "colab_type": "text"
      },
      "source": [
        "### Pettitt Test"
      ]
    },
    {
      "cell_type": "code",
      "metadata": {
        "id": "-M_wFcJOGkz-",
        "colab_type": "code",
        "colab": {}
      },
      "source": [
        "result = hg.pettitt_test(HW_IAC_metrics['HWN'])\n",
        "print(result)\n"
      ],
      "execution_count": null,
      "outputs": []
    },
    {
      "cell_type": "code",
      "metadata": {
        "id": "qaJhpB_AolzY",
        "colab_type": "code",
        "colab": {}
      },
      "source": [
        "result1 = hg.pettitt_test(HW_IAC_metrics['HWD'])\n",
        "print(result1)"
      ],
      "execution_count": null,
      "outputs": []
    },
    {
      "cell_type": "code",
      "metadata": {
        "id": "5hJ0gBElpN3M",
        "colab_type": "code",
        "colab": {}
      },
      "source": [
        "result2 = hg.pettitt_test(HW_IAC_metrics['HWF'])\n",
        "print(result2)"
      ],
      "execution_count": null,
      "outputs": []
    },
    {
      "cell_type": "markdown",
      "metadata": {
        "colab_type": "text",
        "id": "36vzqos1sSRf"
      },
      "source": [
        "## Trend Analysis: Seasonal Metrics"
      ]
    },
    {
      "cell_type": "markdown",
      "metadata": {
        "colab_type": "text",
        "id": "cNZFFLX3sSSB"
      },
      "source": [
        "### Mann-Kendall\n"
      ]
    },
    {
      "cell_type": "markdown",
      "metadata": {
        "id": "S6x-cOJHEjYe",
        "colab_type": "text"
      },
      "source": [
        "#### Summer\n",
        "\n"
      ]
    },
    {
      "cell_type": "markdown",
      "metadata": {
        "id": "dDB2qqzuFgie",
        "colab_type": "text"
      },
      "source": [
        "##### HWN"
      ]
    },
    {
      "cell_type": "code",
      "metadata": {
        "id": "k4wU9ZGLFOxx",
        "colab_type": "code",
        "colab": {}
      },
      "source": [
        "result1 = mk.original_test(HW_IAC_seasonMetrics['HWN'].xs('1', level=1))\n",
        "print(result1)"
      ],
      "execution_count": null,
      "outputs": []
    },
    {
      "cell_type": "markdown",
      "metadata": {
        "id": "-njC52t9FpAU",
        "colab_type": "text"
      },
      "source": [
        "##### HWD"
      ]
    },
    {
      "cell_type": "code",
      "metadata": {
        "colab_type": "code",
        "id": "D6n5AwhusSSD",
        "colab": {}
      },
      "source": [
        "result2 = mk.original_test(HW_IAC_seasonMetrics['HWD'].xs('1', level=1))\n",
        "print(result2)\n"
      ],
      "execution_count": null,
      "outputs": []
    },
    {
      "cell_type": "markdown",
      "metadata": {
        "id": "AJSrSCRrGiR4",
        "colab_type": "text"
      },
      "source": [
        "##### HWF"
      ]
    },
    {
      "cell_type": "code",
      "metadata": {
        "colab_type": "code",
        "id": "Zz4ExDFdsSSI",
        "colab": {}
      },
      "source": [
        "result3 = mk.original_test(HW_IAC_seasonMetrics['HWF'].xs('1', level=1))\n",
        "print(result3)\n"
      ],
      "execution_count": null,
      "outputs": []
    },
    {
      "cell_type": "markdown",
      "metadata": {
        "colab_type": "text",
        "id": "9chSOZL0HW5l"
      },
      "source": [
        "#### Autumn\n",
        "\n"
      ]
    },
    {
      "cell_type": "markdown",
      "metadata": {
        "colab_type": "text",
        "id": "000grG8RHW5o"
      },
      "source": [
        "##### HWN"
      ]
    },
    {
      "cell_type": "code",
      "metadata": {
        "colab_type": "code",
        "id": "V6D9gH1MHW5p",
        "colab": {}
      },
      "source": [
        "result1 = mk.original_test(HW_IAC_seasonMetrics['HWN'].xs('2', level=1))\n",
        "print(result1)"
      ],
      "execution_count": null,
      "outputs": []
    },
    {
      "cell_type": "markdown",
      "metadata": {
        "colab_type": "text",
        "id": "igAORvjQHW5u"
      },
      "source": [
        "##### HWD"
      ]
    },
    {
      "cell_type": "code",
      "metadata": {
        "colab_type": "code",
        "id": "2SPCsWsAHW5v",
        "colab": {}
      },
      "source": [
        "result2 = mk.original_test(HW_IAC_seasonMetrics['HWD'].xs('2', level=1))\n",
        "print(result2)"
      ],
      "execution_count": null,
      "outputs": []
    },
    {
      "cell_type": "markdown",
      "metadata": {
        "colab_type": "text",
        "id": "H-kA85-0HW50"
      },
      "source": [
        "##### HWF"
      ]
    },
    {
      "cell_type": "code",
      "metadata": {
        "colab_type": "code",
        "id": "yKqzvqmEHW52",
        "colab": {}
      },
      "source": [
        "result3 = mk.original_test(HW_IAC_seasonMetrics['HWF'].xs('2', level=1))\n",
        "print(result3)"
      ],
      "execution_count": null,
      "outputs": []
    },
    {
      "cell_type": "markdown",
      "metadata": {
        "colab_type": "text",
        "id": "P9xxmLnmH6Ui"
      },
      "source": [
        "#### Winter\n",
        "\n"
      ]
    },
    {
      "cell_type": "markdown",
      "metadata": {
        "colab_type": "text",
        "id": "94jxS67jH6Uk"
      },
      "source": [
        "##### HWN"
      ]
    },
    {
      "cell_type": "code",
      "metadata": {
        "colab_type": "code",
        "id": "66Q9ldGTH6Ul",
        "colab": {}
      },
      "source": [
        "result1 = mk.original_test(HW_IAC_seasonMetrics['HWN'].xs('3', level=1))\n",
        "print(result1)"
      ],
      "execution_count": null,
      "outputs": []
    },
    {
      "cell_type": "markdown",
      "metadata": {
        "colab_type": "text",
        "id": "_r4GIXM7H6Uq"
      },
      "source": [
        "##### HWD"
      ]
    },
    {
      "cell_type": "code",
      "metadata": {
        "colab_type": "code",
        "id": "OZKsOHYbH6Ur",
        "colab": {}
      },
      "source": [
        "result2 = mk.original_test(HW_IAC_seasonMetrics['HWD'].xs('3', level=1))\n",
        "print(result2)"
      ],
      "execution_count": null,
      "outputs": []
    },
    {
      "cell_type": "markdown",
      "metadata": {
        "colab_type": "text",
        "id": "9H0vA-UAH6Uw"
      },
      "source": [
        "##### HWF"
      ]
    },
    {
      "cell_type": "code",
      "metadata": {
        "colab_type": "code",
        "id": "2eDaadKyH6Ux",
        "colab": {}
      },
      "source": [
        "result3 = mk.original_test(HW_IAC_seasonMetrics['HWF'].xs('3', level=1))\n",
        "print(result3)"
      ],
      "execution_count": null,
      "outputs": []
    },
    {
      "cell_type": "markdown",
      "metadata": {
        "colab_type": "text",
        "id": "74fNzSguIRCQ"
      },
      "source": [
        "#### Spring\n",
        "\n"
      ]
    },
    {
      "cell_type": "markdown",
      "metadata": {
        "colab_type": "text",
        "id": "5ND7A02nIRCS"
      },
      "source": [
        "##### HWN"
      ]
    },
    {
      "cell_type": "code",
      "metadata": {
        "colab_type": "code",
        "id": "1JsxveXmIRCT",
        "colab": {}
      },
      "source": [
        "result1 = mk.original_test(HW_IAC_seasonMetrics['HWN'].xs('4', level=1))\n",
        "print(result1)"
      ],
      "execution_count": null,
      "outputs": []
    },
    {
      "cell_type": "markdown",
      "metadata": {
        "colab_type": "text",
        "id": "nK8mMsbDIRCX"
      },
      "source": [
        "##### HWD"
      ]
    },
    {
      "cell_type": "code",
      "metadata": {
        "colab_type": "code",
        "id": "d9JA3gtVIRCY",
        "colab": {}
      },
      "source": [
        "result2 = mk.original_test(HW_IAC_seasonMetrics['HWD'].xs('4', level=1))\n",
        "print(result2)"
      ],
      "execution_count": null,
      "outputs": []
    },
    {
      "cell_type": "markdown",
      "metadata": {
        "colab_type": "text",
        "id": "0ImPTPInIRCe"
      },
      "source": [
        "##### HWF"
      ]
    },
    {
      "cell_type": "code",
      "metadata": {
        "colab_type": "code",
        "id": "CH3dKMYsIRCf",
        "colab": {}
      },
      "source": [
        "result3 = mk.original_test(HW_IAC_seasonMetrics['HWF'].xs('4', level=1))\n",
        "print(result3)"
      ],
      "execution_count": null,
      "outputs": []
    },
    {
      "cell_type": "markdown",
      "metadata": {
        "id": "hEJLAQpKNJXu",
        "colab_type": "text"
      },
      "source": [
        "## Heatwave Intensity\n",
        "\n"
      ]
    },
    {
      "cell_type": "code",
      "metadata": {
        "id": "-DTyqRMMNShd",
        "colab_type": "code",
        "colab": {}
      },
      "source": [
        "#creating a list with the indices of maximum temperatures of each heatwave\n",
        "idx_list=[]\n",
        "len_list=[]\n",
        "wave_idx = np.flatnonzero(HW_IAC['HW'])\n",
        "for group in mit.consecutive_groups(wave_idx):\n",
        "    hw=list(group)\n",
        "    len_list.append(len(hw))\n",
        "    idx = HW_IAC.loc[hw[0]:hw[-1],'N_AIRTMP_MAX'].idxmax()#Tmax of each HW\n",
        "    idx_list.append(idx)"
      ],
      "execution_count": null,
      "outputs": []
    },
    {
      "cell_type": "code",
      "metadata": {
        "id": "gXCJpvpwqeYS",
        "colab_type": "code",
        "colab": {}
      },
      "source": [
        "len(idx_list)"
      ],
      "execution_count": null,
      "outputs": []
    },
    {
      "cell_type": "code",
      "metadata": {
        "id": "DDjdHPPc9jne",
        "colab_type": "code",
        "colab": {}
      },
      "source": [
        "df = HW_IAC[['DAY365','DATE','N_AIRTMP_MAX']].iloc[idx_list]\n",
        "df = df.reset_index(drop=True)\n",
        "df_pct_tmax = pd.merge(df,pct_IAC,on='DAY365')"
      ],
      "execution_count": null,
      "outputs": []
    },
    {
      "cell_type": "code",
      "metadata": {
        "id": "yYpu4IBp92i0",
        "colab_type": "code",
        "colab": {}
      },
      "source": [
        "df_pct_tmax"
      ],
      "execution_count": null,
      "outputs": []
    },
    {
      "cell_type": "code",
      "metadata": {
        "id": "VYkiYpHjqZFZ",
        "colab_type": "code",
        "colab": {}
      },
      "source": [
        "del df_pct_tmax['CTN90pct']\n",
        "df_pct_tmax['Tmax_anomaly']=df_pct_tmax['N_AIRTMP_MAX']-df_pct_tmax['CTX90pct']"
      ],
      "execution_count": null,
      "outputs": []
    },
    {
      "cell_type": "code",
      "metadata": {
        "id": "NEbiYeVEq2KP",
        "colab_type": "code",
        "colab": {}
      },
      "source": [
        "df_pct_tmax"
      ],
      "execution_count": null,
      "outputs": []
    },
    {
      "cell_type": "code",
      "metadata": {
        "id": "kMMbieLFq3n_",
        "colab_type": "code",
        "colab": {}
      },
      "source": [
        "seasons = ['1', '1', '2', '2', '2', '3', '3', '3', '4', '4', '4', '1']\n",
        "month_to_season = dict(zip(range(1,13), seasons))\n",
        "\n",
        "df_pct_tmax['season']=df_pct_tmax.DATE.dt.month.map(month_to_season) "
      ],
      "execution_count": null,
      "outputs": []
    },
    {
      "cell_type": "code",
      "metadata": {
        "id": "D7hRB5Vs37L0",
        "colab_type": "code",
        "colab": {}
      },
      "source": [
        "df_pct_tmax.loc[df_pct_tmax.DATE.dt.month==12]"
      ],
      "execution_count": null,
      "outputs": []
    },
    {
      "cell_type": "code",
      "metadata": {
        "id": "nMy76Xcuu4L4",
        "colab_type": "code",
        "colab": {}
      },
      "source": [
        "df_pct_tmax.loc[df_pct_tmax.DATE.dt.month==12,'DATE'] += pd.offsets.DateOffset(years=1)"
      ],
      "execution_count": null,
      "outputs": []
    },
    {
      "cell_type": "code",
      "metadata": {
        "id": "4-Y-WtZYvwBQ",
        "colab_type": "code",
        "colab": {}
      },
      "source": [
        "df_pct_tmax.loc[df_pct_tmax.DATE.dt.month==12] "
      ],
      "execution_count": null,
      "outputs": []
    },
    {
      "cell_type": "code",
      "metadata": {
        "id": "GEsJKyAD2_El",
        "colab_type": "code",
        "colab": {}
      },
      "source": [
        "df_pct_tmax = df_pct_tmax[df_pct_tmax.DATE.dt.year < 2019]\n",
        "df_pct_tmax"
      ],
      "execution_count": null,
      "outputs": []
    },
    {
      "cell_type": "markdown",
      "metadata": {
        "id": "YHk5-BRu6HDs",
        "colab_type": "text"
      },
      "source": [
        "### Summer\n",
        "\n"
      ]
    },
    {
      "cell_type": "code",
      "metadata": {
        "id": "qQpTQncV4MTP",
        "colab_type": "code",
        "colab": {}
      },
      "source": [
        "df_summer = df_pct_tmax[df_pct_tmax['season']=='1']\n",
        "df_summer"
      ],
      "execution_count": null,
      "outputs": []
    },
    {
      "cell_type": "markdown",
      "metadata": {
        "id": "JwCD1X_kXuxd",
        "colab_type": "text"
      },
      "source": [
        "#### Dividing temperatures according to 21 year sub-periods\n"
      ]
    },
    {
      "cell_type": "markdown",
      "metadata": {
        "id": "UH7Jw5hzX8Op",
        "colab_type": "text"
      },
      "source": [
        "##### 1956-1976"
      ]
    },
    {
      "cell_type": "code",
      "metadata": {
        "id": "bOFScycw7Bhp",
        "colab_type": "code",
        "colab": {}
      },
      "source": [
        "df_summer[(df_summer.DATE.dt.year >= 1956) & (df_summer.DATE.dt.year <= 1976)]"
      ],
      "execution_count": null,
      "outputs": []
    },
    {
      "cell_type": "markdown",
      "metadata": {
        "id": "DRGnuJxGYJBP",
        "colab_type": "text"
      },
      "source": [
        "##### 1977-1997"
      ]
    },
    {
      "cell_type": "code",
      "metadata": {
        "id": "xbCCb2QG7KCy",
        "colab_type": "code",
        "colab": {}
      },
      "source": [
        "df_summer[(df_summer.DATE.dt.year >= 1977) & (df_summer.DATE.dt.year <= 1997)]"
      ],
      "execution_count": null,
      "outputs": []
    },
    {
      "cell_type": "markdown",
      "metadata": {
        "id": "2YTy3IASYRrM",
        "colab_type": "text"
      },
      "source": [
        "##### 1998-2018"
      ]
    },
    {
      "cell_type": "code",
      "metadata": {
        "id": "sjQIbIlC8ovA",
        "colab_type": "code",
        "colab": {}
      },
      "source": [
        "df_summer[(df_summer.DATE.dt.year >= 1998) & (df_summer.DATE.dt.year <= 2018) & (df_summer['Tmax_anomaly'] <=2)]"
      ],
      "execution_count": null,
      "outputs": []
    },
    {
      "cell_type": "code",
      "metadata": {
        "id": "99kXG1X2AORL",
        "colab_type": "code",
        "colab": {}
      },
      "source": [
        "df_summer[(df_summer.DATE.dt.year >= 1998) & (df_summer.DATE.dt.year <= 2018) & (df_summer['Tmax_anomaly'] >2) & ((df_summer['Tmax_anomaly'] <=4))]"
      ],
      "execution_count": null,
      "outputs": []
    },
    {
      "cell_type": "code",
      "metadata": {
        "id": "gb5LDiNfA69f",
        "colab_type": "code",
        "colab": {}
      },
      "source": [
        "df_summer[(df_summer.DATE.dt.year >= 1998) & (df_summer.DATE.dt.year <= 2018) & (df_summer['Tmax_anomaly'] > 4)]"
      ],
      "execution_count": null,
      "outputs": []
    },
    {
      "cell_type": "markdown",
      "metadata": {
        "colab_type": "text",
        "id": "zZgKQC_eDGo5"
      },
      "source": [
        "### Autumn\n",
        "\n"
      ]
    },
    {
      "cell_type": "code",
      "metadata": {
        "colab_type": "code",
        "id": "40Xs1ffZDGo6",
        "colab": {}
      },
      "source": [
        "df_autumn = df_pct_tmax[df_pct_tmax['season']=='2']\n",
        "df_autumn"
      ],
      "execution_count": null,
      "outputs": []
    },
    {
      "cell_type": "markdown",
      "metadata": {
        "id": "ngQ-grq-YeK4",
        "colab_type": "text"
      },
      "source": [
        "#### Dividing temperatures according to 21 year sub-periods\n"
      ]
    },
    {
      "cell_type": "markdown",
      "metadata": {
        "id": "dsHqUIPXYkFb",
        "colab_type": "text"
      },
      "source": [
        "##### 1956-1976"
      ]
    },
    {
      "cell_type": "code",
      "metadata": {
        "colab_type": "code",
        "id": "yqBOMf0dDGo_",
        "colab": {}
      },
      "source": [
        "df_autumn[(df_autumn.DATE.dt.year >= 1956) & (df_autumn.DATE.dt.year <= 1976)]"
      ],
      "execution_count": null,
      "outputs": []
    },
    {
      "cell_type": "markdown",
      "metadata": {
        "id": "wsTAewV9Yd23",
        "colab_type": "text"
      },
      "source": [
        "##### 1977-1997"
      ]
    },
    {
      "cell_type": "code",
      "metadata": {
        "colab_type": "code",
        "id": "-HioVvy9DGpF",
        "colab": {}
      },
      "source": [
        "df_autumn[(df_autumn.DATE.dt.year >= 1977) & (df_autumn.DATE.dt.year <= 1997)]"
      ],
      "execution_count": null,
      "outputs": []
    },
    {
      "cell_type": "markdown",
      "metadata": {
        "id": "UFKArVsBYsCP",
        "colab_type": "text"
      },
      "source": [
        "##### 1998-2018"
      ]
    },
    {
      "cell_type": "code",
      "metadata": {
        "colab_type": "code",
        "id": "ndWRReVpDGpK",
        "colab": {}
      },
      "source": [
        "df_autumn[(df_autumn.DATE.dt.year >= 1998) & (df_autumn.DATE.dt.year <= 2018) & (df_autumn['Tmax_anomaly'] <=2)]"
      ],
      "execution_count": null,
      "outputs": []
    },
    {
      "cell_type": "code",
      "metadata": {
        "colab_type": "code",
        "id": "D8vsKhgDDGpP",
        "colab": {}
      },
      "source": [
        "df_autumn[(df_autumn.DATE.dt.year >= 1998) & (df_autumn.DATE.dt.year <= 2018) & (df_autumn['Tmax_anomaly'] >2) & ((df_autumn['Tmax_anomaly'] <=4))]"
      ],
      "execution_count": null,
      "outputs": []
    },
    {
      "cell_type": "code",
      "metadata": {
        "colab_type": "code",
        "id": "wtd1mSekDGpU",
        "colab": {}
      },
      "source": [
        "df_autumn[(df_autumn.DATE.dt.year >= 1998) & (df_autumn.DATE.dt.year <= 2018) & (df_autumn['Tmax_anomaly'] > 4)]"
      ],
      "execution_count": null,
      "outputs": []
    },
    {
      "cell_type": "markdown",
      "metadata": {
        "colab_type": "text",
        "id": "hSHSZj4GGwVi"
      },
      "source": [
        "### Winter\n",
        "\n"
      ]
    },
    {
      "cell_type": "code",
      "metadata": {
        "colab_type": "code",
        "id": "I1KDwl9UGwVl",
        "colab": {}
      },
      "source": [
        "df_winter = df_pct_tmax[df_pct_tmax['season']=='3']\n",
        "df_winter"
      ],
      "execution_count": null,
      "outputs": []
    },
    {
      "cell_type": "markdown",
      "metadata": {
        "id": "aEGjbaxfY4zu",
        "colab_type": "text"
      },
      "source": [
        "#### Dividing temperatures according to 21 year sub-periods\n"
      ]
    },
    {
      "cell_type": "markdown",
      "metadata": {
        "id": "CUtT-NLeY8Y4",
        "colab_type": "text"
      },
      "source": [
        "##### 1956-1976"
      ]
    },
    {
      "cell_type": "code",
      "metadata": {
        "colab_type": "code",
        "id": "gIyQ5pwxGwVq",
        "colab": {}
      },
      "source": [
        "df_winter[(df_winter.DATE.dt.year >= 1956) & (df_winter.DATE.dt.year <= 1976)]"
      ],
      "execution_count": null,
      "outputs": []
    },
    {
      "cell_type": "markdown",
      "metadata": {
        "id": "90V2XefxY3-U",
        "colab_type": "text"
      },
      "source": [
        "##### 1977-1997"
      ]
    },
    {
      "cell_type": "code",
      "metadata": {
        "colab_type": "code",
        "id": "mU1lCIryGwVv",
        "colab": {}
      },
      "source": [
        "df_winter[(df_winter.DATE.dt.year >= 1977) & (df_winter.DATE.dt.year <= 1997)]"
      ],
      "execution_count": null,
      "outputs": []
    },
    {
      "cell_type": "markdown",
      "metadata": {
        "id": "4anHj7q6ZDYd",
        "colab_type": "text"
      },
      "source": [
        "##### 1998-2018"
      ]
    },
    {
      "cell_type": "code",
      "metadata": {
        "colab_type": "code",
        "id": "P8MsED8QGwV0",
        "colab": {}
      },
      "source": [
        "df_winter[(df_winter.DATE.dt.year >= 1998) & (df_winter.DATE.dt.year <= 2018) & (df_winter['Tmax_anomaly'] <=2)]"
      ],
      "execution_count": null,
      "outputs": []
    },
    {
      "cell_type": "code",
      "metadata": {
        "colab_type": "code",
        "id": "_p0_J6YEGwV6",
        "colab": {}
      },
      "source": [
        "df_winter[(df_winter.DATE.dt.year >= 1998) & (df_winter.DATE.dt.year <= 2018) & (df_winter['Tmax_anomaly'] >2) & ((df_winter['Tmax_anomaly'] <=4))]"
      ],
      "execution_count": null,
      "outputs": []
    },
    {
      "cell_type": "code",
      "metadata": {
        "colab_type": "code",
        "id": "DK0fpFjwGwV-",
        "colab": {}
      },
      "source": [
        "df_winter[(df_winter.DATE.dt.year >= 1998) & (df_winter.DATE.dt.year <= 2018) & (df_winter['Tmax_anomaly'] > 4)]"
      ],
      "execution_count": null,
      "outputs": []
    },
    {
      "cell_type": "markdown",
      "metadata": {
        "colab_type": "text",
        "id": "vJlFHHD8JNOS"
      },
      "source": [
        "### Spring\n",
        "\n"
      ]
    },
    {
      "cell_type": "code",
      "metadata": {
        "colab_type": "code",
        "id": "O4_PsTu7JNOV",
        "colab": {}
      },
      "source": [
        "df_spring = df_pct_tmax[df_pct_tmax['season']=='4']\n",
        "df_spring"
      ],
      "execution_count": null,
      "outputs": []
    },
    {
      "cell_type": "markdown",
      "metadata": {
        "id": "vd5gskNaZQTu",
        "colab_type": "text"
      },
      "source": [
        "#### Dividing temperatures according to 21 year sub-periods\n"
      ]
    },
    {
      "cell_type": "markdown",
      "metadata": {
        "id": "lejYek7tZQuN",
        "colab_type": "text"
      },
      "source": [
        "##### 1956-1976"
      ]
    },
    {
      "cell_type": "code",
      "metadata": {
        "colab_type": "code",
        "id": "M65oityCJNOa",
        "colab": {}
      },
      "source": [
        "df_spring[(df_spring.DATE.dt.year >= 1956) & (df_spring.DATE.dt.year <= 1976)]"
      ],
      "execution_count": null,
      "outputs": []
    },
    {
      "cell_type": "markdown",
      "metadata": {
        "id": "HeCQS7ptZj5g",
        "colab_type": "text"
      },
      "source": [
        "##### 1977-1997"
      ]
    },
    {
      "cell_type": "code",
      "metadata": {
        "colab_type": "code",
        "id": "O9-QKDnWJNOe",
        "colab": {}
      },
      "source": [
        "df_spring[(df_spring.DATE.dt.year >= 1977) & (df_spring.DATE.dt.year <= 1997)]"
      ],
      "execution_count": null,
      "outputs": []
    },
    {
      "cell_type": "markdown",
      "metadata": {
        "id": "cRAkqOZCZqo0",
        "colab_type": "text"
      },
      "source": [
        "##### 1998-2018"
      ]
    },
    {
      "cell_type": "code",
      "metadata": {
        "colab_type": "code",
        "id": "HQtzK9RZJNOj",
        "colab": {}
      },
      "source": [
        "df_spring[(df_spring.DATE.dt.year >= 1998) & (df_spring.DATE.dt.year <= 2018) & (df_spring['Tmax_anomaly'] <=2)]"
      ],
      "execution_count": null,
      "outputs": []
    },
    {
      "cell_type": "code",
      "metadata": {
        "colab_type": "code",
        "id": "NpcWpu90JNOn",
        "colab": {}
      },
      "source": [
        "df_spring[(df_spring.DATE.dt.year >= 1998) & (df_spring.DATE.dt.year <= 2018) & (df_spring['Tmax_anomaly'] >2) & ((df_spring['Tmax_anomaly'] <=4))]"
      ],
      "execution_count": null,
      "outputs": []
    },
    {
      "cell_type": "code",
      "metadata": {
        "colab_type": "code",
        "id": "MP-VE0N8JNOr",
        "colab": {}
      },
      "source": [
        "df_spring[(df_spring.DATE.dt.year >= 1998) & (df_spring.DATE.dt.year <= 2018) & (df_spring['Tmax_anomaly'] > 4)]"
      ],
      "execution_count": null,
      "outputs": []
    }
  ]
}