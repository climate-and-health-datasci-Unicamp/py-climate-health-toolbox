{
  "nbformat": 4,
  "nbformat_minor": 0,
  "metadata": {
    "colab": {
      "name": "Comparison_IAC-VCP.ipynb",
      "provenance": [],
      "collapsed_sections": [
        "B4jEZ1bluoae"
      ]
    },
    "kernelspec": {
      "name": "python3",
      "display_name": "Python 3"
    }
  },
  "cells": [
    {
      "cell_type": "markdown",
      "metadata": {
        "id": "xL0nMwwSfscJ",
        "colab_type": "text"
      },
      "source": [
        "**Author:**\n",
        "* [Daniela Souza de Oliveira](https://github.com/Danielaso)\n",
        "\n",
        "*created in jul/2020*"
      ]
    },
    {
      "cell_type": "markdown",
      "metadata": {
        "id": "wyHgcBuXfvMG",
        "colab_type": "text"
      },
      "source": [
        "# Comparison IAC vs. VCP\n",
        "\n",
        "**Inputs:** IAC_1890_2018.csv, VCP\n",
        "\n",
        "*   VCP climatic normal - Linear Regression\n",
        "*   \n",
        "\n",
        "**Output:**"
      ]
    },
    {
      "cell_type": "code",
      "metadata": {
        "id": "mCIv834usBdB",
        "colab_type": "code",
        "colab": {
          "base_uri": "https://localhost:8080/",
          "height": 105
        },
        "outputId": "af355230-099b-4511-b380-b440069957ca"
      },
      "source": [
        "#installing packages\n",
        "!pip install py-climate-health-toolbox"
      ],
      "execution_count": null,
      "outputs": [
        {
          "output_type": "stream",
          "text": [
            "Collecting py-climate-health-toolbox\n",
            "  Downloading https://files.pythonhosted.org/packages/ee/75/9d996f54c20a291e4eb3340416cd3c7d583facd18160f0d1f6af1ed646a5/py_climate_health_toolbox-0.0.2-py3-none-any.whl\n",
            "Installing collected packages: py-climate-health-toolbox\n",
            "Successfully installed py-climate-health-toolbox-0.0.2\n"
          ],
          "name": "stdout"
        }
      ]
    },
    {
      "cell_type": "code",
      "metadata": {
        "id": "aIkCw76QfpNj",
        "colab_type": "code",
        "colab": {}
      },
      "source": [
        "#importing libraries\n",
        "import pandas as pd\n",
        "import numpy as np\n",
        "#import climahe.climatex as tex\n",
        "import climatex as tex\n",
        "import matplotlib.pyplot as plt\n",
        "\n",
        "from sklearn.linear_model import LinearRegression\n",
        "from sklearn import metrics\n",
        "from sklearn.impute import SimpleImputer"
      ],
      "execution_count": null,
      "outputs": []
    },
    {
      "cell_type": "markdown",
      "metadata": {
        "id": "pPbTKuN4pPjI",
        "colab_type": "text"
      },
      "source": [
        "## Loading Data:\n",
        "\n",
        "*   IAC\n",
        "*   VCP\n"
      ]
    },
    {
      "cell_type": "markdown",
      "metadata": {
        "id": "dIKk2Z19q_EG",
        "colab_type": "text"
      },
      "source": [
        "### IAC"
      ]
    },
    {
      "cell_type": "code",
      "metadata": {
        "id": "vNg8hWCko1wM",
        "colab_type": "code",
        "colab": {
          "base_uri": "https://localhost:8080/",
          "height": 180
        },
        "outputId": "78795183-d07a-44ab-82ba-0ab7e16d5c86"
      },
      "source": [
        "IAC = pd.read_csv('/content/drive/Shared drives/Clima&Saúde/Dados/Dados_Clima/IAC/data/processed/IAC_HW1956_2018.csv')\n",
        "IAC['DATE'] = pd.to_datetime(IAC['DATE'])"
      ],
      "execution_count": null,
      "outputs": [
        {
          "output_type": "error",
          "ename": "NameError",
          "evalue": "ignored",
          "traceback": [
            "\u001b[0;31m---------------------------------------------------------------------------\u001b[0m",
            "\u001b[0;31mNameError\u001b[0m                                 Traceback (most recent call last)",
            "\u001b[0;32m<ipython-input-1-fdd45a246930>\u001b[0m in \u001b[0;36m<module>\u001b[0;34m()\u001b[0m\n\u001b[0;32m----> 1\u001b[0;31m \u001b[0mIAC\u001b[0m \u001b[0;34m=\u001b[0m \u001b[0mpd\u001b[0m\u001b[0;34m.\u001b[0m\u001b[0mread_csv\u001b[0m\u001b[0;34m(\u001b[0m\u001b[0;34m'/content/drive/Shared drives/Clima&Saúde/Dados/Dados_Clima/IAC/data/processed/IAC_HW1956_2018.csv'\u001b[0m\u001b[0;34m)\u001b[0m\u001b[0;34m\u001b[0m\u001b[0;34m\u001b[0m\u001b[0m\n\u001b[0m\u001b[1;32m      2\u001b[0m \u001b[0mIAC\u001b[0m\u001b[0;34m[\u001b[0m\u001b[0;34m'DATE'\u001b[0m\u001b[0;34m]\u001b[0m \u001b[0;34m=\u001b[0m \u001b[0mpd\u001b[0m\u001b[0;34m.\u001b[0m\u001b[0mto_datetime\u001b[0m\u001b[0;34m(\u001b[0m\u001b[0mIAC\u001b[0m\u001b[0;34m[\u001b[0m\u001b[0;34m'DATE'\u001b[0m\u001b[0;34m]\u001b[0m\u001b[0;34m)\u001b[0m\u001b[0;34m\u001b[0m\u001b[0;34m\u001b[0m\u001b[0m\n",
            "\u001b[0;31mNameError\u001b[0m: name 'pd' is not defined"
          ]
        }
      ]
    },
    {
      "cell_type": "code",
      "metadata": {
        "id": "5rdF4SlzsinN",
        "colab_type": "code",
        "colab": {}
      },
      "source": [
        "#selecting data from the same period as VCP data\n",
        "df_IAC = IAC[(IAC['YEAR']>=1983)&(IAC['YEAR']<=2018)] #defining database\n",
        "df_IAC = df_IAC.reset_index()\n",
        "del df_IAC['index']"
      ],
      "execution_count": null,
      "outputs": []
    },
    {
      "cell_type": "code",
      "metadata": {
        "id": "YXyQINI1y6q1",
        "colab_type": "code",
        "colab": {}
      },
      "source": [
        "#selecting data correspondent to climatological normal\n",
        "IAC_climaticNormal = IAC[(IAC['YEAR']>1960)&(IAC['YEAR']<=1990)] #defining climatic normal\n",
        "IAC_climaticNormal = IAC_climaticNormal.reset_index()\n",
        "del IAC_climaticNormal['index']"
      ],
      "execution_count": null,
      "outputs": []
    },
    {
      "cell_type": "markdown",
      "metadata": {
        "id": "ROtRVU8LrEzS",
        "colab_type": "text"
      },
      "source": [
        "### VCP"
      ]
    },
    {
      "cell_type": "code",
      "metadata": {
        "id": "RGIKvpMhrHx5",
        "colab_type": "code",
        "colab": {}
      },
      "source": [
        "df_VCP = pd.read_csv(r'/home/daniela/Documentos/CliSau/Viracopos_1983_2018.csv')\n",
        "del df_VCP['Unnamed: 0']\n",
        "df_VCP['DATE'] = pd.to_datetime(df_VCP['DATE'])"
      ],
      "execution_count": null,
      "outputs": []
    },
    {
      "cell_type": "code",
      "metadata": {
        "id": "1bDv4-D5rsT6",
        "colab_type": "code",
        "colab": {}
      },
      "source": [
        "#completing missing dates on VCP dataframe\n",
        "databaseVIR=tex.complete_df(databaseVIR)"
      ],
      "execution_count": null,
      "outputs": []
    },
    {
      "cell_type": "markdown",
      "metadata": {
        "id": "tZ0SlAwPrreb",
        "colab_type": "text"
      },
      "source": [
        "### Plot IAC vs. VCP "
      ]
    },
    {
      "cell_type": "markdown",
      "metadata": {
        "id": "4eqvFSxLtUSF",
        "colab_type": "text"
      },
      "source": [
        "#### Maximum temperature"
      ]
    },
    {
      "cell_type": "code",
      "metadata": {
        "id": "OGicyJwOsaFV",
        "colab_type": "code",
        "colab": {}
      },
      "source": [
        "plt.plot(df_IAC['N_AIRTMP_MAX'],df_IAC['N_AIRTMP_MAX'],'c.')\n",
        "plt.xlabel('IAC: Temperatura máxima (°C)')\n",
        "plt.ylabel('VCP: Temperatura máxima (°C)')\n",
        "plt.title('IAC x VCP')"
      ],
      "execution_count": null,
      "outputs": []
    },
    {
      "cell_type": "markdown",
      "metadata": {
        "id": "1lttt99CtZOa",
        "colab_type": "text"
      },
      "source": [
        "#### Mininum temperature"
      ]
    },
    {
      "cell_type": "code",
      "metadata": {
        "id": "C7aQUIjrtclT",
        "colab_type": "code",
        "colab": {}
      },
      "source": [
        "plt.plot(df_IAC['N_AIRTMP_MIN'],df_IAC['N_AIRTMP_MIN'],'c.')\n",
        "plt.xlabel('IAC: Temperatura mínima (°C)')\n",
        "plt.ylabel('VCP: Temperatura mínima (°C)')\n",
        "plt.title('IAC x VCP')"
      ],
      "execution_count": null,
      "outputs": []
    },
    {
      "cell_type": "markdown",
      "metadata": {
        "id": "8l6OHqZbtvsj",
        "colab_type": "text"
      },
      "source": [
        "## Linear Regression"
      ]
    },
    {
      "cell_type": "markdown",
      "metadata": {
        "id": "B4jEZ1bluoae",
        "colab_type": "text"
      },
      "source": [
        "### Maximum Temperatures"
      ]
    },
    {
      "cell_type": "code",
      "metadata": {
        "id": "OtPqO7dluUtu",
        "colab_type": "code",
        "colab": {}
      },
      "source": [
        "x = df_IAC['N_AIRTMP_MAX'].values.reshape(-1,1) #transforming column into vector\n",
        "y = df_VCP['N_AIRTMP_MAX'].values.reshape(-1,1)"
      ],
      "execution_count": null,
      "outputs": []
    },
    {
      "cell_type": "code",
      "metadata": {
        "id": "7rbj9uksvPYe",
        "colab_type": "code",
        "colab": {}
      },
      "source": [
        "#filling missing data\n",
        "imputer = SimpleImputer()\n",
        "x_imputed = imputer.fit_transform(x)\n",
        "y_imputed = imputer.fit_transform(y)"
      ],
      "execution_count": null,
      "outputs": []
    },
    {
      "cell_type": "code",
      "metadata": {
        "id": "NZ1CbD9qvYdI",
        "colab_type": "code",
        "colab": {}
      },
      "source": [
        "x_train = x_imputed\n",
        "y_train = y_imputed\n",
        "\n",
        "#performing regression\n",
        "regressor_max = LinearRegression()  \n",
        "regressor_max.fit(x_train, y_train)"
      ],
      "execution_count": null,
      "outputs": []
    },
    {
      "cell_type": "code",
      "metadata": {
        "id": "n5vxDuYZvYvO",
        "colab_type": "code",
        "colab": {}
      },
      "source": [
        "#obtaining \n",
        "print(regressor_max.intercept_)\n",
        "print(regressor_max.coef_)"
      ],
      "execution_count": null,
      "outputs": []
    },
    {
      "cell_type": "markdown",
      "metadata": {
        "colab_type": "text",
        "id": "0vRBlDlxwCG9"
      },
      "source": [
        "### Minimum Temperatures"
      ]
    },
    {
      "cell_type": "code",
      "metadata": {
        "colab_type": "code",
        "id": "kMPHzqQ2wCG_",
        "colab": {}
      },
      "source": [
        "x = df_IAC['N_AIRTMP_MIN'].values.reshape(-1,1) #transforming column into vector\n",
        "Y = df_VCP['N_AIRTMP_MIN'].values.reshape(-1,1)"
      ],
      "execution_count": null,
      "outputs": []
    },
    {
      "cell_type": "code",
      "metadata": {
        "colab_type": "code",
        "id": "vzWJp1jcwCHE",
        "colab": {}
      },
      "source": [
        "#filling missing data\n",
        "imputer = SimpleImputer()\n",
        "X_imputed = imputer.fit_transform(X)\n",
        "Y_imputed = imputer.fit_transform(Y)"
      ],
      "execution_count": null,
      "outputs": []
    },
    {
      "cell_type": "code",
      "metadata": {
        "colab_type": "code",
        "id": "kggvMDRCwCHL",
        "colab": {}
      },
      "source": [
        "X_train = X_imputed\n",
        "Y_train = Y_imputed\n",
        "\n",
        "#performing regression\n",
        "regressor_min = LinearRegression()  \n",
        "regressor_min.fit(X_train, Y_train)"
      ],
      "execution_count": null,
      "outputs": []
    },
    {
      "cell_type": "code",
      "metadata": {
        "colab_type": "code",
        "id": "uoFXQ_aWwCHP",
        "colab": {}
      },
      "source": [
        "#obtaining \n",
        "print(regressor_min.intercept_)\n",
        "print(regressor_min.coef_)"
      ],
      "execution_count": null,
      "outputs": []
    },
    {
      "cell_type": "markdown",
      "metadata": {
        "id": "COsgTi3Pz4Hy",
        "colab_type": "text"
      },
      "source": [
        "## Using linear regression and IAC data (1961-1990) to estimate VCP climatic normal"
      ]
    },
    {
      "cell_type": "markdown",
      "metadata": {
        "id": "Qg2ib_3i0XsW",
        "colab_type": "text"
      },
      "source": [
        "### Maximum temperatures"
      ]
    },
    {
      "cell_type": "code",
      "metadata": {
        "id": "RXYbUgRC0I_n",
        "colab_type": "code",
        "colab": {}
      },
      "source": [
        "#defining predictor\n",
        "Z = IAC_climaticNormal['N_AIRTMP_MAX'].values.reshape(-1,1) "
      ],
      "execution_count": null,
      "outputs": []
    },
    {
      "cell_type": "code",
      "metadata": {
        "id": "KNHC_hIO0xQ5",
        "colab_type": "code",
        "colab": {}
      },
      "source": [
        "#filling missing data\n",
        "Z_imputed = imputer.fit_transform(Z)"
      ],
      "execution_count": null,
      "outputs": []
    },
    {
      "cell_type": "code",
      "metadata": {
        "id": "lTl_YEjs0x2-",
        "colab_type": "code",
        "colab": {}
      },
      "source": [
        "#predicting tmax from VCP using regression\n",
        "tmax_pred=regressor_max.predict(Z_imputed)"
      ],
      "execution_count": null,
      "outputs": []
    },
    {
      "cell_type": "markdown",
      "metadata": {
        "id": "SEUt6uhG1mt5",
        "colab_type": "text"
      },
      "source": [
        "#### Plot Tmax"
      ]
    },
    {
      "cell_type": "code",
      "metadata": {
        "id": "u-aLetM_1ktQ",
        "colab_type": "code",
        "colab": {}
      },
      "source": [
        "plt.plot(Z, tmax_pred, color='red', linewidth=2)\n",
        "plt.xlabel('IAC: Tmax (°C)')\n",
        "plt.ylabel('VCP: Tmax (°C)')\n",
        "plt.title('IAC x VCP: Temperatura máxima')\n",
        "plt.show()"
      ],
      "execution_count": null,
      "outputs": []
    },
    {
      "cell_type": "markdown",
      "metadata": {
        "colab_type": "text",
        "id": "nPr8XQc726sq"
      },
      "source": [
        "### Minimum temperatures"
      ]
    },
    {
      "cell_type": "code",
      "metadata": {
        "colab_type": "code",
        "id": "EAHE5bx926ss",
        "colab": {}
      },
      "source": [
        "#defining predictor\n",
        "W = IAC_climaticNormal['N_AIRTMP_MIN'].values.reshape(-1,1) "
      ],
      "execution_count": null,
      "outputs": []
    },
    {
      "cell_type": "code",
      "metadata": {
        "colab_type": "code",
        "id": "wN0sAfVv26sy",
        "colab": {}
      },
      "source": [
        "#filling missing data\n",
        "W_imputed = imputer.fit_transform(W)"
      ],
      "execution_count": null,
      "outputs": []
    },
    {
      "cell_type": "code",
      "metadata": {
        "colab_type": "code",
        "id": "jNsR4aMf26s3",
        "colab": {}
      },
      "source": [
        "#predicting tmin from VCP using regression\n",
        "tmin_pred=regressor_min.predict(W_imputed)"
      ],
      "execution_count": null,
      "outputs": []
    },
    {
      "cell_type": "markdown",
      "metadata": {
        "colab_type": "text",
        "id": "Ck-ALhkB26s-"
      },
      "source": [
        "#### Plot Tmin"
      ]
    },
    {
      "cell_type": "code",
      "metadata": {
        "colab_type": "code",
        "id": "xajEG2_426s_",
        "colab": {}
      },
      "source": [
        "plt.plot(W, tmin_pred, color='blue', linewidth=2)\n",
        "plt.xlabel('IAC: Tmin (°C)')\n",
        "plt.ylabel('VCP: Tmin (°C)')\n",
        "plt.title('IAC x VCP: Temperatura mínima')\n",
        "plt.show()"
      ],
      "execution_count": null,
      "outputs": []
    },
    {
      "cell_type": "markdown",
      "metadata": {
        "id": "EU37lBZL3nJC",
        "colab_type": "text"
      },
      "source": [
        "### Constructing dataframe with results for VCP"
      ]
    },
    {
      "cell_type": "code",
      "metadata": {
        "id": "H-gPKLK_4G0K",
        "colab_type": "code",
        "colab": {}
      },
      "source": [
        "date = IAC_climaticNormal['DATE']\n",
        "\n",
        "#tmax dataframe\n",
        "tmax = pd.DataFrame(data=tmax_pred, columns=['N_AIRTMP_MAX'])\n",
        "tmax"
      ],
      "execution_count": null,
      "outputs": []
    },
    {
      "cell_type": "code",
      "metadata": {
        "id": "xUKtnEpJ4boC",
        "colab_type": "code",
        "colab": {}
      },
      "source": [
        "#tmin dataframe\n",
        "tmin = pd.DataFrame(data=tmin_pred, columns=['N_AIRTMP_MIN'])\n",
        "tmin"
      ],
      "execution_count": null,
      "outputs": []
    },
    {
      "cell_type": "code",
      "metadata": {
        "id": "FwUxMyxa4gzh",
        "colab_type": "code",
        "colab": {}
      },
      "source": [
        "#concatenating tmax and tmin dataframes\n",
        "result = pd.concat([date, tmax], axis=1)\n",
        "result = pd.concat([result,tmin],axis=1)\n",
        "result"
      ],
      "execution_count": null,
      "outputs": []
    },
    {
      "cell_type": "code",
      "metadata": {
        "id": "FyPKjdxQ4oWK",
        "colab_type": "code",
        "colab": {}
      },
      "source": [
        "#saving results\n",
        "result.to_csv('VCP_nc_6190.csv')"
      ],
      "execution_count": null,
      "outputs": []
    },
    {
      "cell_type": "markdown",
      "metadata": {
        "id": "QL9KIMLv5zI5",
        "colab_type": "text"
      },
      "source": [
        "## Computing Heatwaves for VCP weather station\n",
        "\n",
        "Using function check_HeatWave from climatex library"
      ]
    },
    {
      "cell_type": "code",
      "metadata": {
        "id": "QVeR26eC6GmU",
        "colab_type": "code",
        "colab": {}
      },
      "source": [
        "#VCP climatic normal\n",
        "VCP_climaticNormal = result.copy()\n",
        "\n",
        "#VCP database\n",
        "databaseVCP = df_VCP.copy()"
      ],
      "execution_count": null,
      "outputs": []
    },
    {
      "cell_type": "code",
      "metadata": {
        "id": "N_Kmao1I6nqO",
        "colab_type": "code",
        "colab": {}
      },
      "source": [
        "#checking function parameters\n",
        "help(tex.check_HeatWave)"
      ],
      "execution_count": null,
      "outputs": []
    },
    {
      "cell_type": "code",
      "metadata": {
        "id": "ZjgXUE0k62Yn",
        "colab_type": "code",
        "colab": {}
      },
      "source": [
        "#computing heatwaves and percentiles threshold\n",
        "HW_VCP,pct_VCP = tex.check_HeatWave(databaseVCP,'N_AIRTMP_MAX','N_AIRTMP_MIN',\n",
        "                           VCP_climaticNormal,'N_AIRTMP_MAX','N_AIRTMP_MIN')"
      ],
      "execution_count": null,
      "outputs": []
    },
    {
      "cell_type": "code",
      "metadata": {
        "id": "wfogARur7aJk",
        "colab_type": "code",
        "colab": {}
      },
      "source": [
        "#percentiles threshold\n",
        "pct_VCP"
      ],
      "execution_count": null,
      "outputs": []
    },
    {
      "cell_type": "code",
      "metadata": {
        "id": "237KwHeW7ew7",
        "colab_type": "code",
        "colab": {}
      },
      "source": [
        "#heatwaves dataframe\n",
        "HW_VCP"
      ],
      "execution_count": null,
      "outputs": []
    },
    {
      "cell_type": "code",
      "metadata": {
        "id": "nmO3pguF7nMA",
        "colab_type": "code",
        "colab": {}
      },
      "source": [
        "#checking dates with heatwaves (HW = 1)\n",
        "HW_VCP[HW_VCP['HW']==1]"
      ],
      "execution_count": null,
      "outputs": []
    },
    {
      "cell_type": "markdown",
      "metadata": {
        "id": "IYJAYOhz7sHf",
        "colab_type": "text"
      },
      "source": [
        "## Metrics\n",
        "\n",
        "Using functions wave_metrics and wave_seasonMetrics from climatex library to obtain yearly and seasonal metrics"
      ]
    },
    {
      "cell_type": "markdown",
      "metadata": {
        "id": "5fEf-0PU8S6t",
        "colab_type": "text"
      },
      "source": [
        "### Yearly metrics\n",
        "\n",
        "Function: tex.wave_metrics"
      ]
    },
    {
      "cell_type": "code",
      "metadata": {
        "id": "kzShAAOU8SVO",
        "colab_type": "code",
        "colab": {}
      },
      "source": [
        "#checking wave_metrics parameters\n",
        "help(tex.wave_metrics)"
      ],
      "execution_count": null,
      "outputs": []
    },
    {
      "cell_type": "code",
      "metadata": {
        "id": "ZPRK-Pxf_n2d",
        "colab_type": "code",
        "colab": {}
      },
      "source": [
        "#obtaining yearly metrics\n",
        "HW_VCP_metrics = tex.wave_metrics(HW_VCP,'HW')\n",
        "HW_VCP_metrics"
      ],
      "execution_count": null,
      "outputs": []
    },
    {
      "cell_type": "markdown",
      "metadata": {
        "id": "bCOpoz7V8WZX",
        "colab_type": "text"
      },
      "source": [
        "### Seasonal metrics\n",
        "\n",
        "Function: tex.wave_seasonMetrics"
      ]
    },
    {
      "cell_type": "code",
      "metadata": {
        "id": "xKe8VaDy8b2Z",
        "colab_type": "code",
        "colab": {}
      },
      "source": [
        "#checking wave_seasonMetrics parameters\n",
        "help(tex.wave_seasonMetrics)"
      ],
      "execution_count": null,
      "outputs": []
    },
    {
      "cell_type": "code",
      "metadata": {
        "id": "Q2xHdv4dAL5v",
        "colab_type": "code",
        "colab": {}
      },
      "source": [
        "#obtaining seasonal metrics\n",
        "HW_VCP_seasonMetrics = tex.wave_seasonMetrics(HW_VCP,'HW')\n",
        "HW_VCP_seasonMetrics"
      ],
      "execution_count": null,
      "outputs": []
    },
    {
      "cell_type": "markdown",
      "metadata": {
        "id": "VORkvVVpAija",
        "colab_type": "text"
      },
      "source": [
        "## Comparing VCP with IAC\n",
        "\n",
        "Checking coincident heatwave days"
      ]
    },
    {
      "cell_type": "code",
      "metadata": {
        "id": "D_TaK_JlBa_l",
        "colab_type": "code",
        "colab": {}
      },
      "source": [
        "#only heatwaves dataframe IAC\n",
        "iac = HW_IAC[(HW_IAC['DATE'].dt.year>=1983)&(HW_IAC['DATE'].dt.year<=2018)]\n",
        "onlyHW_IAC = iac[iac['HW']==1]"
      ],
      "execution_count": null,
      "outputs": []
    },
    {
      "cell_type": "code",
      "metadata": {
        "id": "Ajn3zdz9Gan7",
        "colab_type": "code",
        "colab": {}
      },
      "source": [
        "#only heatwaves dataframe VCP\n",
        "onlyHW_VCP = HW_VCP[HW_VCP['HW']==1]"
      ],
      "execution_count": null,
      "outputs": []
    },
    {
      "cell_type": "code",
      "metadata": {
        "id": "3Nzy5fBlEI3g",
        "colab_type": "code",
        "colab": {}
      },
      "source": [
        "#selecting columns\n",
        "onlyHW_IAC = onlyHW_IAC[['DATE','HW']]\n",
        "onlyHW_VCP = onlyHW_VCP[['DATE','HW']]"
      ],
      "execution_count": null,
      "outputs": []
    },
    {
      "cell_type": "code",
      "metadata": {
        "id": "-gcRU_V5Br73",
        "colab_type": "code",
        "colab": {}
      },
      "source": [
        "#checking number of days with heatwaves IAC\n",
        "onlyHW_IAC.shape"
      ],
      "execution_count": null,
      "outputs": []
    },
    {
      "cell_type": "code",
      "metadata": {
        "id": "MFug_HsKB7y6",
        "colab_type": "code",
        "colab": {}
      },
      "source": [
        "#checking number of days with heatwaves VCP\n",
        "onlyHW_VCP.shape"
      ],
      "execution_count": null,
      "outputs": []
    },
    {
      "cell_type": "code",
      "metadata": {
        "id": "9MHlXeNSCAhx",
        "colab_type": "code",
        "colab": {}
      },
      "source": [
        "#merging IAC and VCP\n",
        "IAC_VCP = pd.merge(onlyHW_IAC,onlyHW_VCP)\n",
        "\n",
        "#checking coincident heatwave days\n",
        "IAC_VCP.shape"
      ],
      "execution_count": null,
      "outputs": []
    },
    {
      "cell_type": "markdown",
      "metadata": {
        "id": "-I8i_QglCxoa",
        "colab_type": "text"
      },
      "source": [
        "## Plot Out 2014 - Fev 2015"
      ]
    },
    {
      "cell_type": "markdown",
      "metadata": {
        "id": "8tNp4l6cFxyQ",
        "colab_type": "text"
      },
      "source": [
        "### Reading pct"
      ]
    },
    {
      "cell_type": "code",
      "metadata": {
        "id": "pcOt-jcrDJIx",
        "colab_type": "code",
        "colab": {}
      },
      "source": [
        "#reading file with percentiles IAC\n",
        "pct_IAC = pd.read_csv(r'/home/daniela/Documentos/CliSau/compute_HeatColdWaves/pct_IAC.csv')"
      ],
      "execution_count": null,
      "outputs": []
    },
    {
      "cell_type": "code",
      "metadata": {
        "id": "vW0S04FHFeGT",
        "colab_type": "code",
        "colab": {}
      },
      "source": [
        "#reading file with percentiles VCP\n",
        "pct_VCP"
      ],
      "execution_count": null,
      "outputs": []
    },
    {
      "cell_type": "markdown",
      "metadata": {
        "id": "QAnA8cSaF5uV",
        "colab_type": "text"
      },
      "source": [
        "### Selecting data: 01.10.2014 a 31.01.2015"
      ]
    },
    {
      "cell_type": "code",
      "metadata": {
        "id": "kEKNF5hfFrWH",
        "colab_type": "code",
        "colab": {}
      },
      "source": [
        "#selecting data - 01/10/2014 a 31/01/2015\n",
        "start_date = '2014-10-01'\n",
        "end_date = '2015-01-31'"
      ],
      "execution_count": null,
      "outputs": []
    },
    {
      "cell_type": "code",
      "metadata": {
        "id": "ZgskFwKrF_c5",
        "colab_type": "code",
        "colab": {}
      },
      "source": [
        "#IAC\n",
        "sel_dataIAC = HW_IAC[(HW_IAC['DATE']>=start_date)&(HW_IAC['DATE']<=end_date)]\n",
        "merge_IAC = pd.merge(sel_dataIAC, pct_IAC, on='DAY365')\n",
        "merge_IAC = merge_IAC.sort_values(by='DATE')"
      ],
      "execution_count": null,
      "outputs": []
    },
    {
      "cell_type": "code",
      "metadata": {
        "id": "mFyulI28GMbv",
        "colab_type": "code",
        "colab": {}
      },
      "source": [
        "#VCP\n",
        "sel_dataVIR = HW_VCP[(HW_VCP['DATE']>=start_date)&(expHW_VCP['DATE']<=end_date)]\n",
        "merge_VCP = pd.merge(sel_dataVCP, pct_VCP, on='DAY365')\n",
        "merge_VCP = merge_VCP.sort_values(by='DATE')"
      ],
      "execution_count": null,
      "outputs": []
    },
    {
      "cell_type": "markdown",
      "metadata": {
        "id": "z2LYUCHlM8fj",
        "colab_type": "text"
      },
      "source": [
        "### Plot"
      ]
    },
    {
      "cell_type": "code",
      "metadata": {
        "id": "JF1_xJUcHNpy",
        "colab_type": "code",
        "colab": {}
      },
      "source": [
        "#CTX90pct N_AIRTMP_MAX\n",
        "plt.plot(merge_VCP['DATE'], merge_VCP['CTX90pct'],'--',color='orange',label='VCP - CTX90pct')\n",
        "plt.plot(merge_VCP['DATE'], merge_VCP['N_AIRTMP_MAX'],color='orange',label='VCP - Tmax')\n",
        "plt.fill_between(merge_VCP['DATE'], merge_VCP['CTX90pct'], merge_VCP['N_AIRTMP_MAX'], where = merge_VCP['CTX90pct'] <= merge_VCP['N_AIRTMP_MAX'], facecolor='orange', interpolate=True)\n",
        "\n",
        "#CTN90pct N_AIRTMP_MIN\n",
        "plt.plot(merge_VCP['DATE'], merge_VCP['CTN90pct'],'--',color ='gray',label='VCP - CTN90pct')\n",
        "plt.plot(merge_VCP['DATE'], merge_VCP['N_AIRTMP_MIN'],color='gray',label='VCP - Tmin')\n",
        "plt.fill_between(merge_VCP['DATE'], merge_VCP['CTN90pct'], merge_VCP['N_AIRTMP_MIN'], where = merge_VCP['CTN90pct'] <= merge_VCP['N_AIRTMP_MIN'], facecolor='gray', interpolate=True)\n",
        "\n",
        "plt.title('Weather Stations Comparison: IAC and VCP',fontsize=18)\n",
        "plt.ylabel('Temperature (°C)',fontsize=15)\n",
        "plt.xticks(fontsize=15)\n",
        "plt.yticks(fontsize=15)\n",
        "\n",
        "fig = plt.gcf()\n",
        "fig.autofmt_xdate()\n",
        "plt.grid()\n",
        "plt.legend(loc=4, prop={'size': 9})\n",
        "plt.show()"
      ],
      "execution_count": null,
      "outputs": []
    }
  ]
}